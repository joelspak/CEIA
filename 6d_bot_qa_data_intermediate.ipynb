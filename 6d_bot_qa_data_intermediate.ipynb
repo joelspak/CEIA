{
  "nbformat": 4,
  "nbformat_minor": 0,
  "metadata": {
    "colab": {
      "name": "6d - bot_qa data_intermediate.ipynb",
      "provenance": [],
      "collapsed_sections": []
    },
    "kernelspec": {
      "name": "python3",
      "display_name": "Python 3"
    },
    "language_info": {
      "name": "python"
    },
    "accelerator": "GPU"
  },
  "cells": [
    {
      "cell_type": "markdown",
      "metadata": {
        "id": "pfa39F4lsLf3"
      },
      "source": [
        "<img src=\"https://github.com/hernancontigiani/ceia_memorias_especializacion/raw/master/Figures/logoFIUBA.jpg\" width=\"500\" align=\"center\">\n",
        "\n",
        "\n",
        "# Procesamiento de lenguaje natural\n",
        "## LSTM Bot QA"
      ]
    },
    {
      "cell_type": "markdown",
      "metadata": {
        "id": "ZqO0PRcFsPTe"
      },
      "source": [
        "### Datos\n",
        "El objecto es utilizar datos disponibles de convai de conversaciones en ingleś. Se construirá un BOT para responder a preguntas del usuario (QA).\\\n",
        "[LINK](http://convai.io/data/)"
      ]
    },
    {
      "cell_type": "code",
      "source": [
        "!pip install --upgrade --no-cache-dir gdown --quiet"
      ],
      "metadata": {
        "id": "bDFC0I3j9oFD",
        "outputId": "39f823a3-f7d1-4f16-e856-597e00c64c3d",
        "colab": {
          "base_uri": "https://localhost:8080/"
        }
      },
      "execution_count": 1,
      "outputs": [
        {
          "output_type": "stream",
          "name": "stdout",
          "text": [
            "  Installing build dependencies ... \u001b[?25l\u001b[?25hdone\n",
            "  Getting requirements to build wheel ... \u001b[?25l\u001b[?25hdone\n",
            "    Preparing wheel metadata ... \u001b[?25l\u001b[?25hdone\n",
            "  Building wheel for gdown (PEP 517) ... \u001b[?25l\u001b[?25hdone\n"
          ]
        }
      ]
    },
    {
      "cell_type": "code",
      "metadata": {
        "id": "cq3YXak9sGHd"
      },
      "source": [
        "import re\n",
        "\n",
        "import numpy as np\n",
        "import pandas as pd\n",
        "\n",
        "import keras\n",
        "from keras.preprocessing.text import one_hot\n",
        "from keras.preprocessing.sequence import pad_sequences\n",
        "from keras.models import Sequential\n",
        "from keras.layers.core import Activation, Dropout, Dense\n",
        "from keras.layers import Flatten, LSTM, SimpleRNN\n",
        "from keras.models import Model\n",
        "from keras.layers.embeddings import Embedding\n",
        "from sklearn.model_selection import train_test_split\n",
        "from keras.preprocessing.text import Tokenizer\n",
        "from keras.layers import Input\n",
        "from keras.layers.merge import Concatenate\n",
        "from keras.layers import Bidirectional"
      ],
      "execution_count": 2,
      "outputs": []
    },
    {
      "cell_type": "code",
      "metadata": {
        "id": "RHNkUaPp6aYq",
        "outputId": "43263156-9995-4a26-929e-032f98c5548d",
        "colab": {
          "base_uri": "https://localhost:8080/",
          "height": 105
        }
      },
      "source": [
        "# Descargar la carpeta de set\n",
        "import os\n",
        "import gdown\n",
        "url = 'https://drive.google.com/file/d/124U9K39RA-DwAgOrRX_411IgYxXMaV8I/view?usp=sharing'\n",
        "output = 'data_intermediate.json'\n",
        "gdown.download(url, output, quiet=False, fuzzy=True)\n"
      ],
      "execution_count": 70,
      "outputs": [
        {
          "output_type": "stream",
          "name": "stderr",
          "text": [
            "Downloading...\n",
            "From: https://drive.google.com/uc?id=124U9K39RA-DwAgOrRX_411IgYxXMaV8I\n",
            "To: /content/data_intermediate.json\n",
            "100%|██████████| 739k/739k [00:00<00:00, 47.2MB/s]\n"
          ]
        },
        {
          "output_type": "execute_result",
          "data": {
            "text/plain": [
              "'data_intermediate.json'"
            ],
            "application/vnd.google.colaboratory.intrinsic+json": {
              "type": "string"
            }
          },
          "metadata": {},
          "execution_count": 70
        }
      ]
    },
    {
      "cell_type": "code",
      "metadata": {
        "id": "WZy1-wgG-Rp7"
      },
      "source": [
        "# dataset_file\n",
        "import json\n",
        "\n",
        "text_file = \"data_intermediate.json\"\n",
        "with open(text_file) as f:\n",
        "    data = json.load(f)"
      ],
      "execution_count": 71,
      "outputs": []
    },
    {
      "cell_type": "code",
      "source": [
        "data[0]"
      ],
      "metadata": {
        "colab": {
          "base_uri": "https://localhost:8080/"
        },
        "id": "imv6eFPoOdfN",
        "outputId": "1f664a6a-3312-4ede-c26c-50ef3cd96868"
      },
      "execution_count": 72,
      "outputs": [
        {
          "output_type": "execute_result",
          "data": {
            "text/plain": [
              "{'bot_profile': ['i try various coffees as a hobby.',\n",
              "  'i enjoy poetry.',\n",
              "  'i am a huge star wars fan.',\n",
              "  'i played football for a division a college.'],\n",
              " 'dialog': [{'evaluation_score': None,\n",
              "   'id': 0,\n",
              "   'sender': 'participant1',\n",
              "   'sender_class': 'Human',\n",
              "   'text': 'Are u there?'}],\n",
              " 'end_time': '2018-07-09 04:29:15',\n",
              " 'eval_score': 1,\n",
              " 'participant1_id': {'class': 'User', 'user_id': 'User 00431'},\n",
              " 'participant2_id': {'class': 'Bot', 'user_id': 'Bot 005'},\n",
              " 'profile_match': 1,\n",
              " 'start_time': '2018-07-09 04:29:15',\n",
              " 'user_profile': ['my favourite music is country music.',\n",
              "  'i drive a nissan pathfinder.',\n",
              "  'i met taylor swift.',\n",
              "  \"i've short brown hair.\"]}"
            ]
          },
          "metadata": {},
          "execution_count": 72
        }
      ]
    },
    {
      "cell_type": "code",
      "metadata": {
        "id": "ue5qd54S-eew",
        "outputId": "b95b8814-b2a1-4180-bd89-21e5c9ac7ec3",
        "colab": {
          "base_uri": "https://localhost:8080/"
        }
      },
      "source": [
        "# Observar los campos disponibles en cada linea del dataset\n",
        "data[0].keys()"
      ],
      "execution_count": 73,
      "outputs": [
        {
          "output_type": "execute_result",
          "data": {
            "text/plain": [
              "dict_keys(['dialog', 'start_time', 'end_time', 'bot_profile', 'user_profile', 'eval_score', 'profile_match', 'participant1_id', 'participant2_id'])"
            ]
          },
          "metadata": {},
          "execution_count": 73
        }
      ]
    },
    {
      "cell_type": "code",
      "metadata": {
        "id": "jHBRAXPl-3dz",
        "outputId": "d241175a-fdfc-49ca-eb78-933e089e8063",
        "colab": {
          "base_uri": "https://localhost:8080/"
        }
      },
      "source": [
        "chat_in = []\n",
        "chat_out = []\n",
        "\n",
        "input_sentences = []\n",
        "output_sentences = []\n",
        "output_sentences_inputs = []\n",
        "max_len = 30\n",
        "\n",
        "def clean_text(txt):\n",
        "    txt = txt.lower()    \n",
        "    txt.replace(\"\\'d\", \" had\")\n",
        "    txt.replace(\"\\'s\", \" is\")\n",
        "    txt.replace(\"\\'m\", \" am\")\n",
        "    txt.replace(\"don't\", \"do not\")\n",
        "    txt = re.sub(r'\\W+', ' ', txt)\n",
        "    \n",
        "    return txt\n",
        "\n",
        "for line in data:\n",
        "    for i in range(len(line['dialog'])-1):\n",
        "        chat_in = clean_text(line['dialog'][i]['text'])\n",
        "        chat_out = clean_text(line['dialog'][i+1]['text'])\n",
        "\n",
        "        if len(chat_in) >= max_len or len(chat_out) >= max_len:\n",
        "            continue\n",
        "\n",
        "        input_sentence, output = chat_in, chat_out\n",
        "        \n",
        "        # output sentence (decoder_output) tiene <eos>\n",
        "        output_sentence = output + ' <eos>'\n",
        "        # output sentence input (decoder_input) tiene <sos>\n",
        "        output_sentence_input = '<sos> ' + output\n",
        "\n",
        "        input_sentences.append(input_sentence)\n",
        "        output_sentences.append(output_sentence)\n",
        "        output_sentences_inputs.append(output_sentence_input)\n",
        "\n",
        "print(\"Cantidad de rows utilizadas:\", len(input_sentences))"
      ],
      "execution_count": 74,
      "outputs": [
        {
          "output_type": "stream",
          "name": "stdout",
          "text": [
            "Cantidad de rows utilizadas: 1590\n"
          ]
        }
      ]
    },
    {
      "cell_type": "code",
      "metadata": {
        "id": "07L1qj8pC_l6",
        "outputId": "7e8b7b24-0c4b-4601-d8ec-653c0043ae04",
        "colab": {
          "base_uri": "https://localhost:8080/"
        }
      },
      "source": [
        "input_sentences[1], output_sentences[1], output_sentences_inputs[1]"
      ],
      "execution_count": 75,
      "outputs": [
        {
          "output_type": "execute_result",
          "data": {
            "text/plain": [
              "('hi how are you ',\n",
              " 'i am doing well how are you  <eos>',\n",
              " '<sos> i am doing well how are you ')"
            ]
          },
          "metadata": {},
          "execution_count": 75
        }
      ]
    },
    {
      "cell_type": "markdown",
      "metadata": {
        "id": "8P-ynUNP5xp6"
      },
      "source": [
        "### 2 - Preprocesamiento\n",
        "Realizar el preprocesamiento necesario para obtener:\n",
        "- word2idx_inputs, max_input_len\n",
        "- word2idx_outputs, max_out_len, num_words_output\n",
        "- encoder_input_sequences, decoder_output_sequences, decoder_targets"
      ]
    },
    {
      "cell_type": "code",
      "source": [
        "# Definir el tamaño máximo del vocabulario\n",
        "MAX_VOCAB_SIZE = 8000"
      ],
      "metadata": {
        "id": "qqivP0IcPTyl"
      },
      "execution_count": 76,
      "outputs": []
    },
    {
      "cell_type": "code",
      "source": [
        "# Tokenizar las palabras con el Tokenizer de Keras\n",
        "# Definir una máxima cantidad de palabras a utilizar:\n",
        "# - num_words --> the maximum number of words to keep, based on word frequency.\n",
        "# - Only the most common num_words-1 words will be kept.\n",
        "from keras.preprocessing.text import Tokenizer\n",
        "input_tokenizer = Tokenizer(num_words=MAX_VOCAB_SIZE)\n",
        "input_tokenizer.fit_on_texts(input_sentences)\n",
        "input_integer_seq = input_tokenizer.texts_to_sequences(input_sentences)\n",
        "\n",
        "word2idx_inputs = input_tokenizer.word_index\n",
        "print(\"Palabras en el vocabulario:\", len(word2idx_inputs))\n",
        "\n",
        "max_input_len = max(len(sen) for sen in input_integer_seq)\n",
        "print(\"Sentencia de entrada más larga:\", max_input_len)"
      ],
      "metadata": {
        "colab": {
          "base_uri": "https://localhost:8080/"
        },
        "id": "G42HT77HPUmM",
        "outputId": "efe62ebd-983f-4b97-8d52-30652c454b4d"
      },
      "execution_count": 77,
      "outputs": [
        {
          "output_type": "stream",
          "name": "stdout",
          "text": [
            "Palabras en el vocabulario: 811\n",
            "Sentencia de entrada más larga: 9\n"
          ]
        }
      ]
    },
    {
      "cell_type": "code",
      "source": [
        "# A los filtros de símbolos del Tokenizer agregamos el \"¿\",\n",
        "# sacamos los \"<>\" para que no afectar nuestros tokens\n",
        "output_tokenizer = Tokenizer(num_words=MAX_VOCAB_SIZE, filters='!\"#$%&()*+,-./:;=¿?@[\\\\]^_`{|}~\\t\\n')\n",
        "output_tokenizer.fit_on_texts([\"<sos>\", \"<eos>\"] + output_sentences)\n",
        "output_integer_seq = output_tokenizer.texts_to_sequences(output_sentences)\n",
        "output_input_integer_seq = output_tokenizer.texts_to_sequences(output_sentences_inputs)\n",
        "\n",
        "word2idx_outputs = output_tokenizer.word_index\n",
        "print(\"Palabras en el vocabulario:\", len(word2idx_outputs))\n",
        "\n",
        "num_words_output = min(len(word2idx_outputs) + 1, MAX_VOCAB_SIZE) # Se suma 1 por el primer <sos>\n",
        "max_out_len = max(len(sen) for sen in output_integer_seq)\n",
        "print(\"Sentencia de salida más larga:\", max_out_len)"
      ],
      "metadata": {
        "colab": {
          "base_uri": "https://localhost:8080/"
        },
        "id": "_6S0PF_LPUoc",
        "outputId": "6b3188e1-470c-4d32-9430-e417422b5b06"
      },
      "execution_count": 78,
      "outputs": [
        {
          "output_type": "stream",
          "name": "stdout",
          "text": [
            "Palabras en el vocabulario: 815\n",
            "Sentencia de salida más larga: 10\n"
          ]
        }
      ]
    },
    {
      "cell_type": "code",
      "source": [
        "# Por una cuestion de que no explote la RAM se limitará el tamaño de las sentencias de entrada\n",
        "# a la mitad:\n",
        "#max_input_len = 16\n",
        "#max_out_len = 18"
      ],
      "metadata": {
        "id": "qJ5lOl0VPUq0"
      },
      "execution_count": 16,
      "outputs": []
    },
    {
      "cell_type": "code",
      "source": [
        "print(\"Cantidad de rows del dataset:\", len(input_integer_seq))\n",
        "\n",
        "encoder_input_sequences = pad_sequences(input_integer_seq, maxlen=max_input_len)\n",
        "print(\"encoder_input_sequences shape:\", encoder_input_sequences.shape)\n",
        "\n",
        "decoder_input_sequences = pad_sequences(output_input_integer_seq, maxlen=max_out_len, padding='post')\n",
        "print(\"decoder_input_sequences shape:\", decoder_input_sequences.shape)"
      ],
      "metadata": {
        "colab": {
          "base_uri": "https://localhost:8080/"
        },
        "id": "mweHMVaxPUs8",
        "outputId": "70ca8dc6-6dec-4f7b-e4b4-81c1cc66b869"
      },
      "execution_count": 79,
      "outputs": [
        {
          "output_type": "stream",
          "name": "stdout",
          "text": [
            "Cantidad de rows del dataset: 1590\n",
            "encoder_input_sequences shape: (1590, 9)\n",
            "decoder_input_sequences shape: (1590, 10)\n"
          ]
        }
      ]
    },
    {
      "cell_type": "code",
      "source": [
        "from keras.utils.np_utils import to_categorical\n",
        "decoder_output_sequences = pad_sequences(output_integer_seq, maxlen=max_out_len, padding='post')\n",
        "decoder_targets = to_categorical(decoder_output_sequences, num_classes=num_words_output)\n",
        "decoder_targets.shape"
      ],
      "metadata": {
        "colab": {
          "base_uri": "https://localhost:8080/"
        },
        "id": "qGrSTN2vPUzr",
        "outputId": "2a8568ed-1845-4bac-9b23-81d17ef88fe6"
      },
      "execution_count": 80,
      "outputs": [
        {
          "output_type": "execute_result",
          "data": {
            "text/plain": [
              "(1590, 10, 816)"
            ]
          },
          "metadata": {},
          "execution_count": 80
        }
      ]
    },
    {
      "cell_type": "markdown",
      "metadata": {
        "id": "_CJIsLBbj6rg"
      },
      "source": [
        "### 3 - Preparar los embeddings\n",
        "Utilizar los embeddings de Glove o FastText para transformar los tokens de entrada en vectores"
      ]
    },
    {
      "cell_type": "code",
      "source": [
        "# Descargar los embeddings desde un gogle drive (es la forma más rápida)\n",
        "# NOTA: No hay garantía de que estos links perduren, en caso de que no estén\n",
        "# disponibles descargar de la página oficial como se explica en el siguiente bloque\n",
        "import os\n",
        "import gdown\n",
        "if os.access('gloveembedding.pkl', os.F_OK) is False:\n",
        "    url = 'https://drive.google.com/uc?id=1wlDBOrxPq2-3htQ6ryVo7K1XnzLcfh4r&export=download'\n",
        "    output = 'gloveembedding.pkl'\n",
        "    gdown.download(url, output, quiet=False)\n",
        "else:\n",
        "    print(\"Los embeddings gloveembedding.pkl ya están descargados\")"
      ],
      "metadata": {
        "colab": {
          "base_uri": "https://localhost:8080/"
        },
        "id": "7eVFt1U0P4iN",
        "outputId": "3ba7f859-dfc6-413e-d0c0-2241aadf1742"
      },
      "execution_count": 19,
      "outputs": [
        {
          "output_type": "stream",
          "name": "stderr",
          "text": [
            "Downloading...\n",
            "From: https://drive.google.com/uc?id=1wlDBOrxPq2-3htQ6ryVo7K1XnzLcfh4r&export=download\n",
            "To: /content/gloveembedding.pkl\n",
            "100%|██████████| 525M/525M [00:03<00:00, 168MB/s]\n"
          ]
        }
      ]
    },
    {
      "cell_type": "code",
      "source": [
        "import logging\n",
        "import os\n",
        "from pathlib import Path\n",
        "from io import StringIO\n",
        "import pickle\n",
        "\n",
        "class WordsEmbeddings(object):\n",
        "    logger = logging.getLogger(__name__)\n",
        "\n",
        "    def __init__(self):\n",
        "        # load the embeddings\n",
        "        words_embedding_pkl = Path(self.PKL_PATH)\n",
        "        if not words_embedding_pkl.is_file():\n",
        "            words_embedding_txt = Path(self.WORD_TO_VEC_MODEL_TXT_PATH)\n",
        "            assert words_embedding_txt.is_file(), 'Words embedding not available'\n",
        "            embeddings = self.convert_model_to_pickle()\n",
        "        else:\n",
        "            embeddings = self.load_model_from_pickle()\n",
        "        self.embeddings = embeddings\n",
        "        # build the vocabulary hashmap\n",
        "        index = np.arange(self.embeddings.shape[0])\n",
        "        # Dicctionarios para traducir de embedding a IDX de la palabra\n",
        "        self.word2idx = dict(zip(self.embeddings['word'], index))\n",
        "        self.idx2word = dict(zip(index, self.embeddings['word']))\n",
        "\n",
        "    def get_words_embeddings(self, words):\n",
        "        words_idxs = self.words2idxs(words)\n",
        "        return self.embeddings[words_idxs]['embedding']\n",
        "\n",
        "    def words2idxs(self, words):\n",
        "        return np.array([self.word2idx.get(word, -1) for word in words])\n",
        "\n",
        "    def idxs2words(self, idxs):\n",
        "        return np.array([self.idx2word.get(idx, '-1') for idx in idxs])\n",
        "\n",
        "    def load_model_from_pickle(self):\n",
        "        self.logger.debug(\n",
        "            'loading words embeddings from pickle {}'.format(\n",
        "                self.PKL_PATH\n",
        "            )\n",
        "        )\n",
        "        max_bytes = 2**28 - 1 # 256MB\n",
        "        bytes_in = bytearray(0)\n",
        "        input_size = os.path.getsize(self.PKL_PATH)\n",
        "        with open(self.PKL_PATH, 'rb') as f_in:\n",
        "            for _ in range(0, input_size, max_bytes):\n",
        "                bytes_in += f_in.read(max_bytes)\n",
        "        embeddings = pickle.loads(bytes_in)\n",
        "        self.logger.debug('words embeddings loaded')\n",
        "        return embeddings\n",
        "\n",
        "    def convert_model_to_pickle(self):\n",
        "        # create a numpy strctured array:\n",
        "        # word     embedding\n",
        "        # U50      np.float32[]\n",
        "        # word_1   a, b, c\n",
        "        # word_2   d, e, f\n",
        "        # ...\n",
        "        # word_n   g, h, i\n",
        "        self.logger.debug(\n",
        "            'converting and loading words embeddings from text file {}'.format(\n",
        "                self.WORD_TO_VEC_MODEL_TXT_PATH\n",
        "            )\n",
        "        )\n",
        "        structure = [('word', np.dtype('U' + str(self.WORD_MAX_SIZE))),\n",
        "                     ('embedding', np.float32, (self.N_FEATURES,))]\n",
        "        structure = np.dtype(structure)\n",
        "        # load numpy array from disk using a generator\n",
        "        with open(self.WORD_TO_VEC_MODEL_TXT_PATH, encoding=\"utf8\") as words_embeddings_txt:\n",
        "            embeddings_gen = (\n",
        "                (line.split()[0], line.split()[1:]) for line in words_embeddings_txt\n",
        "                if len(line.split()[1:]) == self.N_FEATURES\n",
        "            )\n",
        "            embeddings = np.fromiter(embeddings_gen, structure)\n",
        "        # add a null embedding\n",
        "        null_embedding = np.array(\n",
        "            [('null_embedding', np.zeros((self.N_FEATURES,), dtype=np.float32))],\n",
        "            dtype=structure\n",
        "        )\n",
        "        embeddings = np.concatenate([embeddings, null_embedding])\n",
        "        # dump numpy array to disk using pickle\n",
        "        max_bytes = 2**28 - 1 # # 256MB\n",
        "        bytes_out = pickle.dumps(embeddings, protocol=pickle.HIGHEST_PROTOCOL)\n",
        "        with open(self.PKL_PATH, 'wb') as f_out:\n",
        "            for idx in range(0, len(bytes_out), max_bytes):\n",
        "                f_out.write(bytes_out[idx:idx+max_bytes])\n",
        "        self.logger.debug('words embeddings loaded')\n",
        "        return embeddings\n",
        "\n",
        "\n",
        "class GloveEmbeddings(WordsEmbeddings):\n",
        "    WORD_TO_VEC_MODEL_TXT_PATH = 'glove.twitter.27B.50d.txt'\n",
        "    PKL_PATH = 'gloveembedding.pkl'\n",
        "    N_FEATURES = 50\n",
        "    WORD_MAX_SIZE = 60\n",
        "\n",
        "class FasttextEmbeddings(WordsEmbeddings):\n",
        "    WORD_TO_VEC_MODEL_TXT_PATH = 'cc.en.300.vec'\n",
        "    PKL_PATH = 'fasttext.pkl'\n",
        "    N_FEATURES = 300\n",
        "    WORD_MAX_SIZE = 60"
      ],
      "metadata": {
        "id": "B0FzEWJJP4n7"
      },
      "execution_count": 89,
      "outputs": []
    },
    {
      "cell_type": "code",
      "source": [
        "# Por una cuestion de RAM se utilizará los embeddings de Glove de dimension 50\n",
        "model_embeddings = GloveEmbeddings()"
      ],
      "metadata": {
        "id": "xQcw2KasP4qH"
      },
      "execution_count": 90,
      "outputs": []
    },
    {
      "cell_type": "code",
      "source": [
        "# Crear la Embedding matrix de las secuencias\n",
        "# en ingles\n",
        "\n",
        "print('preparing embedding matrix...')\n",
        "embed_dim = model_embeddings.N_FEATURES\n",
        "words_not_found = []\n",
        "\n",
        "# word_index provieen del tokenizer\n",
        "\n",
        "nb_words = min(MAX_VOCAB_SIZE, len(word2idx_inputs)) # vocab_size\n",
        "embedding_matrix = np.zeros((nb_words, embed_dim))\n",
        "for word, i in word2idx_inputs.items():\n",
        "    if i >= nb_words:\n",
        "        continue\n",
        "    embedding_vector = model_embeddings.get_words_embeddings(word)[0]\n",
        "    if (embedding_vector is not None) and len(embedding_vector) > 0:\n",
        "        \n",
        "        embedding_matrix[i] = embedding_vector\n",
        "    else:\n",
        "        # words not found in embedding index will be all-zeros.\n",
        "        words_not_found.append(word)\n",
        "\n",
        "print('number of null word embeddings:', np.sum(np.sum(embedding_matrix, axis=1) == 0))"
      ],
      "metadata": {
        "colab": {
          "base_uri": "https://localhost:8080/"
        },
        "id": "tsw6wE54P4sW",
        "outputId": "4db18822-e85c-463b-8682-05248f0803ec"
      },
      "execution_count": 91,
      "outputs": [
        {
          "output_type": "stream",
          "name": "stdout",
          "text": [
            "preparing embedding matrix...\n",
            "number of null word embeddings: 21\n"
          ]
        }
      ]
    },
    {
      "cell_type": "code",
      "source": [
        "# Dimensión de los embeddings de la secuencia en ingles\n",
        "embedding_matrix.shape"
      ],
      "metadata": {
        "colab": {
          "base_uri": "https://localhost:8080/"
        },
        "id": "PmSyktwfP4uM",
        "outputId": "e8c7e7a0-1084-4f8a-f345-6868babedf44"
      },
      "execution_count": 92,
      "outputs": [
        {
          "output_type": "execute_result",
          "data": {
            "text/plain": [
              "(811, 50)"
            ]
          },
          "metadata": {},
          "execution_count": 92
        }
      ]
    },
    {
      "cell_type": "markdown",
      "metadata": {
        "id": "3vKbhjtIwPgM"
      },
      "source": [
        "### 4 - Entrenar el modelo\n",
        "Entrenar un modelo basado en el esquema encoder-decoder utilizando los datos generados en los puntos anteriores. Utilce como referencias los ejemplos vistos en clase."
      ]
    },
    {
      "cell_type": "code",
      "source": [
        "max_input_len"
      ],
      "metadata": {
        "colab": {
          "base_uri": "https://localhost:8080/"
        },
        "id": "UsWu3P6PQi-1",
        "outputId": "b7a2a039-c045-48e0-aac3-562ceecb242f"
      },
      "execution_count": 93,
      "outputs": [
        {
          "output_type": "execute_result",
          "data": {
            "text/plain": [
              "9"
            ]
          },
          "metadata": {},
          "execution_count": 93
        }
      ]
    },
    {
      "cell_type": "code",
      "source": [
        "from keras.models import Model\n",
        "from keras.layers import Input, LSTM, Dense\n",
        "\n",
        "n_units = 128\n",
        "\n",
        "# define training encoder\n",
        "encoder_inputs = Input(shape=(max_input_len))\n",
        "\n",
        "#encoder_embedding_layer = Embedding(num_words, EMBEDDING_SIZE, weights=[embedding_matrix], input_length=max_input_len)\n",
        "\n",
        "encoder_embedding_layer = Embedding(\n",
        "          input_dim=nb_words,  # definido en el Tokenizador\n",
        "          output_dim=embed_dim,  # dimensión de los embeddings utilizados\n",
        "          input_length=max_input_len, # máxima sentencia de entrada\n",
        "          weights=[embedding_matrix],  # matrix de embeddings\n",
        "          trainable=False)      # marcar como layer no entrenable\n",
        "\n",
        "encoder_inputs_x = encoder_embedding_layer(encoder_inputs)\n",
        "\n",
        "encoder = LSTM(n_units, return_state=True)\n",
        "encoder_outputs, state_h, state_c = encoder(encoder_inputs_x)\n",
        "encoder_states = [state_h, state_c]\n",
        "\n",
        "# define training decoder\n",
        "decoder_inputs = Input(shape=(max_out_len))\n",
        "decoder_embedding_layer = Embedding(input_dim=num_words_output, output_dim=n_units, input_length=max_out_len)\n",
        "decoder_inputs_x = decoder_embedding_layer(decoder_inputs)\n",
        "\n",
        "decoder_lstm = LSTM(n_units, return_sequences=True, return_state=True)\n",
        "decoder_outputs, _, _ = decoder_lstm(decoder_inputs_x, initial_state=encoder_states)\n",
        "\n",
        "# Dense\n",
        "decoder_dense = Dense(num_words_output, activation='softmax')\n",
        "decoder_outputs = decoder_dense(decoder_outputs)\n",
        "model = Model([encoder_inputs, decoder_inputs], decoder_outputs)\n",
        "\n",
        "model.compile(loss='categorical_crossentropy', optimizer=\"Adam\", metrics=['accuracy'])\n",
        "model.summary()"
      ],
      "metadata": {
        "colab": {
          "base_uri": "https://localhost:8080/"
        },
        "id": "nnNWe721QjI8",
        "outputId": "7dfe7d2a-a6b0-4b71-9e98-6bf19b3dfd28"
      },
      "execution_count": 94,
      "outputs": [
        {
          "output_type": "stream",
          "name": "stdout",
          "text": [
            "Model: \"model_6\"\n",
            "__________________________________________________________________________________________________\n",
            " Layer (type)                   Output Shape         Param #     Connected to                     \n",
            "==================================================================================================\n",
            " input_11 (InputLayer)          [(None, 9)]          0           []                               \n",
            "                                                                                                  \n",
            " input_12 (InputLayer)          [(None, 10)]         0           []                               \n",
            "                                                                                                  \n",
            " embedding_4 (Embedding)        (None, 9, 50)        40550       ['input_11[0][0]']               \n",
            "                                                                                                  \n",
            " embedding_5 (Embedding)        (None, 10, 128)      104448      ['input_12[0][0]']               \n",
            "                                                                                                  \n",
            " lstm_4 (LSTM)                  [(None, 128),        91648       ['embedding_4[0][0]']            \n",
            "                                 (None, 128),                                                     \n",
            "                                 (None, 128)]                                                     \n",
            "                                                                                                  \n",
            " lstm_5 (LSTM)                  [(None, 10, 128),    131584      ['embedding_5[0][0]',            \n",
            "                                 (None, 128),                     'lstm_4[0][1]',                 \n",
            "                                 (None, 128)]                     'lstm_4[0][2]']                 \n",
            "                                                                                                  \n",
            " dense_2 (Dense)                (None, 10, 816)      105264      ['lstm_5[0][0]']                 \n",
            "                                                                                                  \n",
            "==================================================================================================\n",
            "Total params: 473,494\n",
            "Trainable params: 432,944\n",
            "Non-trainable params: 40,550\n",
            "__________________________________________________________________________________________________\n"
          ]
        }
      ]
    },
    {
      "cell_type": "code",
      "source": [
        "# Modelo completo (encoder+decoder) para poder entrenar\n",
        "from keras.utils.vis_utils import plot_model\n",
        "plot_model(model, to_file='model_plot.png', show_shapes=True, show_layer_names=True)"
      ],
      "metadata": {
        "colab": {
          "base_uri": "https://localhost:8080/",
          "height": 533
        },
        "id": "fnzapsbrQjK0",
        "outputId": "a44c603c-b07e-4a12-e75e-9c2504e25e90"
      },
      "execution_count": 95,
      "outputs": [
        {
          "output_type": "execute_result",
          "data": {
            "text/plain": [
              "<IPython.core.display.Image object>"
            ],
            "image/png": "[encoded data removed]"
          },
          "metadata": {},
          "execution_count": 95
        }
      ]
    },
    {
      "cell_type": "code",
      "source": [
        "# Modelo solo encoder\n",
        "\n",
        "# define inference encoder\n",
        "encoder_model = Model(encoder_inputs, encoder_states)\n",
        "\n",
        "from keras.utils.vis_utils import plot_model\n",
        "plot_model(encoder_model, to_file='encoder_plot.png', show_shapes=True, show_layer_names=True)"
      ],
      "metadata": {
        "colab": {
          "base_uri": "https://localhost:8080/",
          "height": 312
        },
        "id": "O-b5LLWPQjNE",
        "outputId": "0db8ff17-7521-49b5-9566-3321eae6158e"
      },
      "execution_count": 96,
      "outputs": [
        {
          "output_type": "execute_result",
          "data": {
            "text/plain": [
              "<IPython.core.display.Image object>"
            ],
            "image/png": "[encoded data removed]"
          },
          "metadata": {},
          "execution_count": 96
        }
      ]
    },
    {
      "cell_type": "code",
      "source": [
        "# Modelo solo decoder (para realizar inferencia)\n",
        "from keras.utils.vis_utils import plot_model\n",
        "\n",
        "# define inference decoder\n",
        "decoder_state_input_h = Input(shape=(n_units,))\n",
        "decoder_state_input_c = Input(shape=(n_units,))\n",
        "decoder_states_inputs = [decoder_state_input_h, decoder_state_input_c]\n",
        "\n",
        "# EN cada predicción habrá una sola palabra de entrada al decoder,\n",
        "# que es la realimentación de la palabra anterior\n",
        "# por lo que hay que modificar el input shup de la layer de Embedding\n",
        "decoder_inputs_single = Input(shape=(1,))\n",
        "decoder_inputs_single_x = decoder_embedding_layer(decoder_inputs_single)\n",
        "\n",
        "decoder_outputs, state_h, state_c = decoder_lstm(decoder_inputs_single_x, initial_state=decoder_states_inputs)\n",
        "decoder_states = [state_h, state_c]\n",
        "decoder_outputs = decoder_dense(decoder_outputs)\n",
        "decoder_model = Model([decoder_inputs_single] + decoder_states_inputs, [decoder_outputs] + decoder_states)\n",
        "\n",
        "plot_model(decoder_model, to_file='decoder_plot.png', show_shapes=True, show_layer_names=True)"
      ],
      "metadata": {
        "colab": {
          "base_uri": "https://localhost:8080/",
          "height": 413
        },
        "id": "yQxdL4SQQjO3",
        "outputId": "be348c88-c792-4d39-e3c5-51f1df30ce25"
      },
      "execution_count": 97,
      "outputs": [
        {
          "output_type": "execute_result",
          "data": {
            "text/plain": [
              "<IPython.core.display.Image object>"
            ],
            "image/png": "[encoded data removed]"
          },
          "metadata": {},
          "execution_count": 97
        }
      ]
    },
    {
      "cell_type": "code",
      "source": [
        "hist = model.fit(\n",
        "    [encoder_input_sequences, decoder_input_sequences],\n",
        "    decoder_targets,\n",
        "    epochs=50, \n",
        "    validation_split=0.2)"
      ],
      "metadata": {
        "colab": {
          "base_uri": "https://localhost:8080/"
        },
        "id": "7NyS5JyiQxbl",
        "outputId": "8c19d588-6fcb-4aca-ba39-68a8819cafa7"
      },
      "execution_count": 98,
      "outputs": [
        {
          "output_type": "stream",
          "name": "stdout",
          "text": [
            "Epoch 1/50\n",
            "40/40 [==============================] - 6s 43ms/step - loss: 4.1826 - accuracy: 0.4752 - val_loss: 2.7860 - val_accuracy: 0.5101\n",
            "Epoch 2/50\n",
            "40/40 [==============================] - 1s 17ms/step - loss: 2.5256 - accuracy: 0.5231 - val_loss: 2.5654 - val_accuracy: 0.5330\n",
            "Epoch 3/50\n",
            "40/40 [==============================] - 1s 17ms/step - loss: 2.2732 - accuracy: 0.5714 - val_loss: 2.3762 - val_accuracy: 0.5984\n",
            "Epoch 4/50\n",
            "40/40 [==============================] - 1s 17ms/step - loss: 2.1261 - accuracy: 0.6160 - val_loss: 2.3208 - val_accuracy: 0.6148\n",
            "Epoch 5/50\n",
            "40/40 [==============================] - 1s 19ms/step - loss: 2.0538 - accuracy: 0.6175 - val_loss: 2.2783 - val_accuracy: 0.6164\n",
            "Epoch 6/50\n",
            "40/40 [==============================] - 1s 17ms/step - loss: 1.9905 - accuracy: 0.6211 - val_loss: 2.2452 - val_accuracy: 0.6214\n",
            "Epoch 7/50\n",
            "40/40 [==============================] - 1s 17ms/step - loss: 1.9282 - accuracy: 0.6365 - val_loss: 2.2171 - val_accuracy: 0.6311\n",
            "Epoch 8/50\n",
            "40/40 [==============================] - 1s 17ms/step - loss: 1.8605 - accuracy: 0.6506 - val_loss: 2.1768 - val_accuracy: 0.6384\n",
            "Epoch 9/50\n",
            "40/40 [==============================] - 1s 17ms/step - loss: 1.7905 - accuracy: 0.6624 - val_loss: 2.1354 - val_accuracy: 0.6453\n",
            "Epoch 10/50\n",
            "40/40 [==============================] - 1s 17ms/step - loss: 1.7277 - accuracy: 0.6841 - val_loss: 2.1062 - val_accuracy: 0.6506\n",
            "Epoch 11/50\n",
            "40/40 [==============================] - 1s 17ms/step - loss: 1.6763 - accuracy: 0.6899 - val_loss: 2.0744 - val_accuracy: 0.6516\n",
            "Epoch 12/50\n",
            "40/40 [==============================] - 1s 17ms/step - loss: 1.6328 - accuracy: 0.6943 - val_loss: 2.0533 - val_accuracy: 0.6582\n",
            "Epoch 13/50\n",
            "40/40 [==============================] - 1s 17ms/step - loss: 1.5934 - accuracy: 0.6967 - val_loss: 2.0420 - val_accuracy: 0.6604\n",
            "Epoch 14/50\n",
            "40/40 [==============================] - 1s 17ms/step - loss: 1.5573 - accuracy: 0.7011 - val_loss: 2.0228 - val_accuracy: 0.6695\n",
            "Epoch 15/50\n",
            "40/40 [==============================] - 1s 17ms/step - loss: 1.5247 - accuracy: 0.7085 - val_loss: 1.9999 - val_accuracy: 0.6711\n",
            "Epoch 16/50\n",
            "40/40 [==============================] - 1s 17ms/step - loss: 1.4921 - accuracy: 0.7120 - val_loss: 1.9947 - val_accuracy: 0.6736\n",
            "Epoch 17/50\n",
            "40/40 [==============================] - 1s 17ms/step - loss: 1.4638 - accuracy: 0.7153 - val_loss: 1.9749 - val_accuracy: 0.6811\n",
            "Epoch 18/50\n",
            "40/40 [==============================] - 1s 19ms/step - loss: 1.4369 - accuracy: 0.7186 - val_loss: 1.9629 - val_accuracy: 0.6796\n",
            "Epoch 19/50\n",
            "40/40 [==============================] - 1s 17ms/step - loss: 1.4104 - accuracy: 0.7211 - val_loss: 1.9477 - val_accuracy: 0.6824\n",
            "Epoch 20/50\n",
            "40/40 [==============================] - 1s 17ms/step - loss: 1.3850 - accuracy: 0.7250 - val_loss: 1.9437 - val_accuracy: 0.6855\n",
            "Epoch 21/50\n",
            "40/40 [==============================] - 1s 17ms/step - loss: 1.3609 - accuracy: 0.7243 - val_loss: 1.9309 - val_accuracy: 0.6827\n",
            "Epoch 22/50\n",
            "40/40 [==============================] - 1s 17ms/step - loss: 1.3366 - accuracy: 0.7273 - val_loss: 1.9344 - val_accuracy: 0.6846\n",
            "Epoch 23/50\n",
            "40/40 [==============================] - 1s 19ms/step - loss: 1.3150 - accuracy: 0.7299 - val_loss: 1.9146 - val_accuracy: 0.6918\n",
            "Epoch 24/50\n",
            "40/40 [==============================] - 1s 17ms/step - loss: 1.2944 - accuracy: 0.7300 - val_loss: 1.9160 - val_accuracy: 0.6931\n",
            "Epoch 25/50\n",
            "40/40 [==============================] - 1s 18ms/step - loss: 1.2728 - accuracy: 0.7319 - val_loss: 1.9056 - val_accuracy: 0.6899\n",
            "Epoch 26/50\n",
            "40/40 [==============================] - 1s 19ms/step - loss: 1.2529 - accuracy: 0.7358 - val_loss: 1.8991 - val_accuracy: 0.6943\n",
            "Epoch 27/50\n",
            "40/40 [==============================] - 1s 17ms/step - loss: 1.2340 - accuracy: 0.7382 - val_loss: 1.9053 - val_accuracy: 0.6947\n",
            "Epoch 28/50\n",
            "40/40 [==============================] - 1s 19ms/step - loss: 1.2158 - accuracy: 0.7399 - val_loss: 1.9008 - val_accuracy: 0.6978\n",
            "Epoch 29/50\n",
            "40/40 [==============================] - 1s 17ms/step - loss: 1.1969 - accuracy: 0.7431 - val_loss: 1.8957 - val_accuracy: 0.6972\n",
            "Epoch 30/50\n",
            "40/40 [==============================] - 1s 17ms/step - loss: 1.1801 - accuracy: 0.7462 - val_loss: 1.8990 - val_accuracy: 0.6981\n",
            "Epoch 31/50\n",
            "40/40 [==============================] - 1s 17ms/step - loss: 1.1627 - accuracy: 0.7478 - val_loss: 1.8984 - val_accuracy: 0.6978\n",
            "Epoch 32/50\n",
            "40/40 [==============================] - 1s 17ms/step - loss: 1.1471 - accuracy: 0.7496 - val_loss: 1.8927 - val_accuracy: 0.6984\n",
            "Epoch 33/50\n",
            "40/40 [==============================] - 1s 19ms/step - loss: 1.1300 - accuracy: 0.7539 - val_loss: 1.8959 - val_accuracy: 0.7016\n",
            "Epoch 34/50\n",
            "40/40 [==============================] - 1s 17ms/step - loss: 1.1157 - accuracy: 0.7532 - val_loss: 1.9013 - val_accuracy: 0.7022\n",
            "Epoch 35/50\n",
            "40/40 [==============================] - 1s 17ms/step - loss: 1.0992 - accuracy: 0.7545 - val_loss: 1.8948 - val_accuracy: 0.7038\n",
            "Epoch 36/50\n",
            "40/40 [==============================] - 1s 17ms/step - loss: 1.0848 - accuracy: 0.7577 - val_loss: 1.9091 - val_accuracy: 0.7035\n",
            "Epoch 37/50\n",
            "40/40 [==============================] - 1s 17ms/step - loss: 1.0705 - accuracy: 0.7593 - val_loss: 1.9026 - val_accuracy: 0.7035\n",
            "Epoch 38/50\n",
            "40/40 [==============================] - 1s 17ms/step - loss: 1.0564 - accuracy: 0.7609 - val_loss: 1.9098 - val_accuracy: 0.7035\n",
            "Epoch 39/50\n",
            "40/40 [==============================] - 1s 17ms/step - loss: 1.0429 - accuracy: 0.7630 - val_loss: 1.9086 - val_accuracy: 0.7031\n",
            "Epoch 40/50\n",
            "40/40 [==============================] - 1s 17ms/step - loss: 1.0289 - accuracy: 0.7662 - val_loss: 1.9015 - val_accuracy: 0.7050\n",
            "Epoch 41/50\n",
            "40/40 [==============================] - 1s 19ms/step - loss: 1.0142 - accuracy: 0.7674 - val_loss: 1.9114 - val_accuracy: 0.7063\n",
            "Epoch 42/50\n",
            "40/40 [==============================] - 1s 17ms/step - loss: 1.0021 - accuracy: 0.7682 - val_loss: 1.9089 - val_accuracy: 0.7053\n",
            "Epoch 43/50\n",
            "40/40 [==============================] - 1s 18ms/step - loss: 0.9893 - accuracy: 0.7699 - val_loss: 1.9131 - val_accuracy: 0.7063\n",
            "Epoch 44/50\n",
            "40/40 [==============================] - 1s 18ms/step - loss: 0.9768 - accuracy: 0.7736 - val_loss: 1.9173 - val_accuracy: 0.7094\n",
            "Epoch 45/50\n",
            "40/40 [==============================] - 1s 17ms/step - loss: 0.9653 - accuracy: 0.7741 - val_loss: 1.9235 - val_accuracy: 0.7069\n",
            "Epoch 46/50\n",
            "40/40 [==============================] - 1s 17ms/step - loss: 0.9538 - accuracy: 0.7773 - val_loss: 1.9238 - val_accuracy: 0.7072\n",
            "Epoch 47/50\n",
            "40/40 [==============================] - 1s 18ms/step - loss: 0.9427 - accuracy: 0.7803 - val_loss: 1.9220 - val_accuracy: 0.7072\n",
            "Epoch 48/50\n",
            "40/40 [==============================] - 1s 17ms/step - loss: 0.9301 - accuracy: 0.7818 - val_loss: 1.9206 - val_accuracy: 0.7094\n",
            "Epoch 49/50\n",
            "40/40 [==============================] - 1s 17ms/step - loss: 0.9203 - accuracy: 0.7832 - val_loss: 1.9350 - val_accuracy: 0.7085\n",
            "Epoch 50/50\n",
            "40/40 [==============================] - 1s 17ms/step - loss: 0.9087 - accuracy: 0.7873 - val_loss: 1.9311 - val_accuracy: 0.7094\n"
          ]
        }
      ]
    },
    {
      "cell_type": "code",
      "source": [
        "import matplotlib.pyplot as plt\n",
        "import seaborn as sns\n",
        "\n",
        "# Entrenamiento\n",
        "epoch_count = range(1, len(hist.history['accuracy']) + 1)\n",
        "sns.lineplot(x=epoch_count,  y=hist.history['accuracy'], label='train')\n",
        "sns.lineplot(x=epoch_count,  y=hist.history['val_accuracy'], label='valid')\n",
        "plt.show()"
      ],
      "metadata": {
        "colab": {
          "base_uri": "https://localhost:8080/",
          "height": 268
        },
        "id": "a5CMdSeyQxd7",
        "outputId": "b76bf57f-d3cf-4785-d6d7-f89d72ec7bb4"
      },
      "execution_count": 99,
      "outputs": [
        {
          "output_type": "display_data",
          "data": {
            "text/plain": [
              "<Figure size 432x288 with 1 Axes>"
            ],
            "image/png": "[encoded data removed]"
          },
          "metadata": {
            "needs_background": "light"
          }
        }
      ]
    },
    {
      "cell_type": "markdown",
      "metadata": {
        "id": "Zbwn0ekDy_s2"
      },
      "source": [
        "### 5 - Inferencia\n",
        "Experimentar el funcionamiento de su modelo. Recuerde que debe realizar la inferencia de los modelos por separado de encoder y decoder."
      ]
    },
    {
      "cell_type": "code",
      "source": [
        "# Armar lo conversores de indice a palabra:\n",
        "idx2word_input = {v:k for k, v in word2idx_inputs.items()}\n",
        "idx2word_target = {v:k for k, v in word2idx_outputs.items()}"
      ],
      "metadata": {
        "id": "-Ca08tOTRQTu"
      },
      "execution_count": 100,
      "outputs": []
    },
    {
      "cell_type": "code",
      "source": [
        "def responde_sentence(input_seq):\n",
        "    # Se transforma la sequencia de entrada a los stados \"h\" y \"c\" de la LSTM\n",
        "    # para enviar la primera vez al decoder\"\n",
        "    states_value = encoder_model.predict(input_seq)\n",
        "\n",
        "    # Se inicializa la secuencia de entrada al decoder como \"<sos>\"\n",
        "    target_seq = np.zeros((1, 1))\n",
        "    target_seq[0, 0] = word2idx_outputs['<sos>']\n",
        "\n",
        "    # Se obtiene el indice que finaliza la inferencia\n",
        "    eos = word2idx_outputs['<eos>']\n",
        "    \n",
        "    output_sentence = []\n",
        "    for _ in range(max_out_len):\n",
        "        # Predicción del próximo elemento\n",
        "        output_tokens, h, c = decoder_model.predict([target_seq] + states_value)\n",
        "        idx = np.argmax(output_tokens[0, 0, :])\n",
        "\n",
        "        # Si es \"end of sentece <eos>\" se acaba\n",
        "        if eos == idx:\n",
        "            break\n",
        "\n",
        "        # Transformar ídx a palabra\n",
        "        word = ''        \n",
        "        if idx > 0:\n",
        "            word = idx2word_target[idx]\n",
        "            output_sentence.append(word)\n",
        "\n",
        "        # Actualizar los estados dado la ultimo prediccion\n",
        "        states_value = [h, c]\n",
        "\n",
        "        # Actualizar secuencia de entrada con la salida (re-alimentacion)\n",
        "        target_seq[0, 0] = idx\n",
        "\n",
        "    return ' '.join(output_sentence)"
      ],
      "metadata": {
        "id": "mdXgJLWVRQWM"
      },
      "execution_count": 101,
      "outputs": []
    },
    {
      "cell_type": "code",
      "source": [
        "i = np.random.choice(len(input_sentences))\n",
        "input_seq = encoder_input_sequences[i:i+1]\n",
        "respuesta = responde_sentence(input_seq)\n",
        "print('-')\n",
        "print('Input:', input_sentences[i])\n",
        "print('Response:', respuesta)"
      ],
      "metadata": {
        "colab": {
          "base_uri": "https://localhost:8080/"
        },
        "id": "yYSk8R4URQYf",
        "outputId": "0e01a8b9-7339-4183-858d-afcd98dc14a1"
      },
      "execution_count": 112,
      "outputs": [
        {
          "output_type": "stream",
          "name": "stdout",
          "text": [
            "-\n",
            "Input: i love hiking and skating\n",
            "Response: i like to listen to music\n"
          ]
        }
      ]
    },
    {
      "cell_type": "code",
      "source": [
        "input_test = \"Coffee\"\n",
        "print('Input:', input_test)\n",
        "integer_seq_test = input_tokenizer.texts_to_sequences([input_test])[0]\n",
        "print(\"Representacion en vector de tokens de ids\", integer_seq_test)\n",
        "encoder_sequence_test = pad_sequences([integer_seq_test], maxlen=max_input_len)\n",
        "print(\"Padding del vector:\", encoder_sequence_test)\n",
        "print('Input:', input_test)\n",
        "states_value = encoder_model.predict(encoder_sequence_test)\n",
        "respuesta = responde_sentence(encoder_sequence_test)\n",
        "print('Response:', respuesta)"
      ],
      "metadata": {
        "colab": {
          "base_uri": "https://localhost:8080/"
        },
        "id": "wx_WTFzqRQac",
        "outputId": "1ede319c-5603-446b-864b-fb9e7911cd6a"
      },
      "execution_count": 113,
      "outputs": [
        {
          "output_type": "stream",
          "name": "stdout",
          "text": [
            "Input: Coffee\n",
            "Representacion en vector de tokens de ids []\n",
            "Padding del vector: [[0 0 0 0 0 0 0 0 0]]\n",
            "Input: Coffee\n",
            "Response: i love to listen to music\n"
          ]
        }
      ]
    },
    {
      "cell_type": "markdown",
      "source": [
        "**6. Conclusiones**"
      ],
      "metadata": {
        "id": "IPNHjT_bSkt1"
      }
    },
    {
      "cell_type": "markdown",
      "source": [
        "El modelo realiza algo de overfitting como en el anterior dataset.\n",
        "\n",
        "**Tras entrenarlo con 50 épocas, obtenemos resultados como:**\n",
        "\n",
        "Input: no what about you\n",
        "Response: i am a little depressed\n",
        "\n",
        "Input: Hello.\n",
        "Response: i like to listen to music\n",
        "\n",
        "Input: Are you ok?\n",
        "Response: i am a little depressed\n",
        "\n",
        "Input: i love hiking and skating\n",
        "Response: i like to listen to music\n",
        "\n",
        "**Las respuestas parecen acotadas, pero conservan una cierta coherencia**\n",
        "\n",
        "\n"
      ],
      "metadata": {
        "id": "1R4QbjfRS5Pc"
      }
    }
  ]
}