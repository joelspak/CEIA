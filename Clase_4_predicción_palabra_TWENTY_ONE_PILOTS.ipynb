{
  "nbformat": 4,
  "nbformat_minor": 0,
  "metadata": {
    "colab": {
      "name": "Clase 4 predicción_palabra: TWENTY ONE PILOTS.ipynb",
      "provenance": [],
      "collapsed_sections": []
    },
    "kernelspec": {
      "name": "python3",
      "display_name": "Python 3"
    },
    "language_info": {
      "name": "python"
    },
    "accelerator": "GPU"
  },
  "cells": [
    {
      "cell_type": "markdown",
      "metadata": {
        "id": "g3yeJGnCYxuF"
      },
      "source": [
        "<img src=\"https://github.com/hernancontigiani/ceia_memorias_especializacion/raw/master/Figures/logoFIUBA.jpg\" width=\"500\" align=\"center\">\n",
        "\n",
        "\n",
        "# Procesamiento de lenguaje natural\n",
        "## Predicción de próxima palabra\n",
        "\n",
        "Al ejercicio de clase, se le han cambiado:\n",
        "-> los parámetros de la red\n",
        "-> la cantidad de épocas\n",
        "\n",
        "para intentar aumentar la Accuracy."
      ]
    },
    {
      "cell_type": "markdown",
      "metadata": {
        "id": "Iv5PEwGzZA9-"
      },
      "source": [
        "### Objetivo\n",
        "El objetivo es utilizar documentos / corpus para crear embeddings de palabras basado en ese contexto utilizando la layer Embedding de Keras. Se utilizará esos embeddings junto con layers LSTM para predeccir la próxima posible palabra."
      ]
    },
    {
      "cell_type": "code",
      "metadata": {
        "id": "Y-QdFbHZYj7C"
      },
      "source": [
        "import random\n",
        "import io\n",
        "import pickle\n",
        "\n",
        "import numpy as np\n",
        "import pandas as pd\n",
        "\n",
        "from tensorflow import keras\n",
        "from tensorflow.keras import layers\n",
        "from keras.utils.np_utils import to_categorical\n",
        "from keras.models import Sequential\n",
        "from keras.layers import Dense, LSTM, Embedding, Dropout"
      ],
      "execution_count": 1,
      "outputs": []
    },
    {
      "cell_type": "markdown",
      "metadata": {
        "id": "xTvXlEKQZdqx"
      },
      "source": [
        "### Datos\n",
        "Utilizaremos como dataset canciones de Twenty One Pilots"
      ]
    },
    {
      "cell_type": "code",
      "metadata": {
        "id": "IkdPfrQJZdB5",
        "colab": {
          "base_uri": "https://localhost:8080/"
        },
        "outputId": "62185152-f183-4295-998c-ddce196288e3"
      },
      "source": [
        "from google.colab import drive \n",
        "drive.mount('/content/drive')"
      ],
      "execution_count": 2,
      "outputs": [
        {
          "output_type": "stream",
          "name": "stdout",
          "text": [
            "Mounted at /content/drive\n"
          ]
        }
      ]
    },
    {
      "cell_type": "code",
      "metadata": {
        "id": "6j-3nQ4lZjfb",
        "colab": {
          "base_uri": "https://localhost:8080/",
          "height": 261
        },
        "outputId": "41446776-352d-4766-93b3-3f2db9dabb3d"
      },
      "source": [
        "# Armar el dataset utilizando salto de línea para separar las oraciones/docs\n",
        "df = pd.read_csv('/content/drive/MyDrive/NLP/twenty-one-pilots-songs.txt', sep='/n', header=None)\n",
        "df.head()"
      ],
      "execution_count": 3,
      "outputs": [
        {
          "output_type": "stream",
          "name": "stderr",
          "text": [
            "/usr/local/lib/python3.7/dist-packages/pandas/util/_decorators.py:311: ParserWarning: Falling back to the 'python' engine because the 'c' engine does not support regex separators (separators > 1 char and different from '\\s+' are interpreted as regex); you can avoid this warning by specifying engine='python'.\n",
            "  return func(*args, **kwargs)\n"
          ]
        },
        {
          "output_type": "execute_result",
          "data": {
            "text/plain": [
              "                                   0\n",
              "0  I wish I found some better sounds\n",
              "1                No one's ever heard\n",
              "2        I wish I had a better voice\n",
              "3        That sang some better words\n",
              "4         I wish I found some chords"
            ],
            "text/html": [
              "\n",
              "  <div id=\"df-5568ef9d-8fab-4506-a651-6f4766dab588\">\n",
              "    <div class=\"colab-df-container\">\n",
              "      <div>\n",
              "<style scoped>\n",
              "    .dataframe tbody tr th:only-of-type {\n",
              "        vertical-align: middle;\n",
              "    }\n",
              "\n",
              "    .dataframe tbody tr th {\n",
              "        vertical-align: top;\n",
              "    }\n",
              "\n",
              "    .dataframe thead th {\n",
              "        text-align: right;\n",
              "    }\n",
              "</style>\n",
              "<table border=\"1\" class=\"dataframe\">\n",
              "  <thead>\n",
              "    <tr style=\"text-align: right;\">\n",
              "      <th></th>\n",
              "      <th>0</th>\n",
              "    </tr>\n",
              "  </thead>\n",
              "  <tbody>\n",
              "    <tr>\n",
              "      <th>0</th>\n",
              "      <td>I wish I found some better sounds</td>\n",
              "    </tr>\n",
              "    <tr>\n",
              "      <th>1</th>\n",
              "      <td>No one's ever heard</td>\n",
              "    </tr>\n",
              "    <tr>\n",
              "      <th>2</th>\n",
              "      <td>I wish I had a better voice</td>\n",
              "    </tr>\n",
              "    <tr>\n",
              "      <th>3</th>\n",
              "      <td>That sang some better words</td>\n",
              "    </tr>\n",
              "    <tr>\n",
              "      <th>4</th>\n",
              "      <td>I wish I found some chords</td>\n",
              "    </tr>\n",
              "  </tbody>\n",
              "</table>\n",
              "</div>\n",
              "      <button class=\"colab-df-convert\" onclick=\"convertToInteractive('df-5568ef9d-8fab-4506-a651-6f4766dab588')\"\n",
              "              title=\"Convert this dataframe to an interactive table.\"\n",
              "              style=\"display:none;\">\n",
              "        \n",
              "  <svg xmlns=\"http://www.w3.org/2000/svg\" height=\"24px\"viewBox=\"0 0 24 24\"\n",
              "       width=\"24px\">\n",
              "    <path d=\"M0 0h24v24H0V0z\" fill=\"none\"/>\n",
              "    <path d=\"M18.56 5.44l.94 2.06.94-2.06 2.06-.94-2.06-.94-.94-2.06-.94 2.06-2.06.94zm-11 1L8.5 8.5l.94-2.06 2.06-.94-2.06-.94L8.5 2.5l-.94 2.06-2.06.94zm10 10l.94 2.06.94-2.06 2.06-.94-2.06-.94-.94-2.06-.94 2.06-2.06.94z\"/><path d=\"M17.41 7.96l-1.37-1.37c-.4-.4-.92-.59-1.43-.59-.52 0-1.04.2-1.43.59L10.3 9.45l-7.72 7.72c-.78.78-.78 2.05 0 2.83L4 21.41c.39.39.9.59 1.41.59.51 0 1.02-.2 1.41-.59l7.78-7.78 2.81-2.81c.8-.78.8-2.07 0-2.86zM5.41 20L4 18.59l7.72-7.72 1.47 1.35L5.41 20z\"/>\n",
              "  </svg>\n",
              "      </button>\n",
              "      \n",
              "  <style>\n",
              "    .colab-df-container {\n",
              "      display:flex;\n",
              "      flex-wrap:wrap;\n",
              "      gap: 12px;\n",
              "    }\n",
              "\n",
              "    .colab-df-convert {\n",
              "      background-color: #E8F0FE;\n",
              "      border: none;\n",
              "      border-radius: 50%;\n",
              "      cursor: pointer;\n",
              "      display: none;\n",
              "      fill: #1967D2;\n",
              "      height: 32px;\n",
              "      padding: 0 0 0 0;\n",
              "      width: 32px;\n",
              "    }\n",
              "\n",
              "    .colab-df-convert:hover {\n",
              "      background-color: #E2EBFA;\n",
              "      box-shadow: 0px 1px 2px rgba(60, 64, 67, 0.3), 0px 1px 3px 1px rgba(60, 64, 67, 0.15);\n",
              "      fill: #174EA6;\n",
              "    }\n",
              "\n",
              "    [theme=dark] .colab-df-convert {\n",
              "      background-color: #3B4455;\n",
              "      fill: #D2E3FC;\n",
              "    }\n",
              "\n",
              "    [theme=dark] .colab-df-convert:hover {\n",
              "      background-color: #434B5C;\n",
              "      box-shadow: 0px 1px 3px 1px rgba(0, 0, 0, 0.15);\n",
              "      filter: drop-shadow(0px 1px 2px rgba(0, 0, 0, 0.3));\n",
              "      fill: #FFFFFF;\n",
              "    }\n",
              "  </style>\n",
              "\n",
              "      <script>\n",
              "        const buttonEl =\n",
              "          document.querySelector('#df-5568ef9d-8fab-4506-a651-6f4766dab588 button.colab-df-convert');\n",
              "        buttonEl.style.display =\n",
              "          google.colab.kernel.accessAllowed ? 'block' : 'none';\n",
              "\n",
              "        async function convertToInteractive(key) {\n",
              "          const element = document.querySelector('#df-5568ef9d-8fab-4506-a651-6f4766dab588');\n",
              "          const dataTable =\n",
              "            await google.colab.kernel.invokeFunction('convertToInteractive',\n",
              "                                                     [key], {});\n",
              "          if (!dataTable) return;\n",
              "\n",
              "          const docLinkHtml = 'Like what you see? Visit the ' +\n",
              "            '<a target=\"_blank\" href=https://colab.research.google.com/notebooks/data_table.ipynb>data table notebook</a>'\n",
              "            + ' to learn more about interactive tables.';\n",
              "          element.innerHTML = '';\n",
              "          dataTable['output_type'] = 'display_data';\n",
              "          await google.colab.output.renderOutput(dataTable, element);\n",
              "          const docLink = document.createElement('div');\n",
              "          docLink.innerHTML = docLinkHtml;\n",
              "          element.appendChild(docLink);\n",
              "        }\n",
              "      </script>\n",
              "    </div>\n",
              "  </div>\n",
              "  "
            ]
          },
          "metadata": {},
          "execution_count": 3
        }
      ]
    },
    {
      "cell_type": "code",
      "metadata": {
        "id": "riT898QlZnmF",
        "colab": {
          "base_uri": "https://localhost:8080/"
        },
        "outputId": "049b0ec8-046b-45fd-f7d3-1dc8bd2979d5"
      },
      "source": [
        "print(\"Cantidad de documentos:\", df.shape[0])"
      ],
      "execution_count": 4,
      "outputs": [
        {
          "output_type": "stream",
          "name": "stdout",
          "text": [
            "Cantidad de documentos: 2048\n"
          ]
        }
      ]
    },
    {
      "cell_type": "markdown",
      "metadata": {
        "id": "RDoouHp7Zp6D"
      },
      "source": [
        "### 1 - Ejemplo de Preprocesamiento\n",
        "- Hay que transformar las oraciones en tokens.\n",
        "- Dichas oraciones hay que ajustarlas al tamaño fijo de nuestra sentencia de entrada al modelo.\n",
        "- Hay que separar las palabras objetivos (target) que el modelo debe predecir en cada sentencia armada."
      ]
    },
    {
      "cell_type": "code",
      "metadata": {
        "id": "m5FeTaGvbDbw"
      },
      "source": [
        "from keras.preprocessing.text import Tokenizer # equivalente a ltokenizer de nltk\n",
        "from keras.preprocessing.text import text_to_word_sequence # equivalente a word_teokenize de nltk\n",
        "from keras.preprocessing.sequence import pad_sequences # se utilizará para padding\n",
        "\n",
        "# largo de la secuencia, incluye seq input + word output\n",
        "train_len = 4"
      ],
      "execution_count": 5,
      "outputs": []
    },
    {
      "cell_type": "code",
      "metadata": {
        "id": "Zf3O7eK6ZpP8",
        "colab": {
          "base_uri": "https://localhost:8080/",
          "height": 35
        },
        "outputId": "86108667-c138-4afa-bc54-e984150bf38c"
      },
      "source": [
        "# Ejemplo de como transformar una oración a tokens usando keras\n",
        "text = df.loc[0,0]\n",
        "text"
      ],
      "execution_count": 6,
      "outputs": [
        {
          "output_type": "execute_result",
          "data": {
            "text/plain": [
              "'I wish I found some better sounds'"
            ],
            "application/vnd.google.colaboratory.intrinsic+json": {
              "type": "string"
            }
          },
          "metadata": {},
          "execution_count": 6
        }
      ]
    },
    {
      "cell_type": "code",
      "metadata": {
        "id": "AOv67Sj7aeFH",
        "colab": {
          "base_uri": "https://localhost:8080/"
        },
        "outputId": "28ce011f-567f-495c-b3dd-2f791e8a12a0"
      },
      "source": [
        "tokens = text_to_word_sequence(text) # entran oraciones -> salen vectores de N posiciones (tokens)\n",
        "tokens"
      ],
      "execution_count": 7,
      "outputs": [
        {
          "output_type": "execute_result",
          "data": {
            "text/plain": [
              "['i', 'wish', 'i', 'found', 'some', 'better', 'sounds']"
            ]
          },
          "metadata": {},
          "execution_count": 7
        }
      ]
    },
    {
      "cell_type": "markdown",
      "metadata": {
        "id": "ZrlyqkoiaymK"
      },
      "source": [
        "1.1 - Transformar las oraciones en secuencias (tokens) de palabras"
      ]
    },
    {
      "cell_type": "code",
      "metadata": {
        "id": "XH_L14Wjaowe"
      },
      "source": [
        "# Recorrer todas las filas y transformar las oraciones\n",
        "# en secuencias de palabras\n",
        "sentence_tokens = []\n",
        "for _, row in df[:None].iterrows():\n",
        "    sentence_tokens.append(text_to_word_sequence(row[0]))"
      ],
      "execution_count": 8,
      "outputs": []
    },
    {
      "cell_type": "code",
      "metadata": {
        "id": "KASzU4CdaxbZ",
        "colab": {
          "base_uri": "https://localhost:8080/"
        },
        "outputId": "e64703e9-4887-4723-f745-977783d24324"
      },
      "source": [
        "# Demos un vistazo\n",
        "sentence_tokens[:2]"
      ],
      "execution_count": 9,
      "outputs": [
        {
          "output_type": "execute_result",
          "data": {
            "text/plain": [
              "[['i', 'wish', 'i', 'found', 'some', 'better', 'sounds'],\n",
              " ['no', \"one's\", 'ever', 'heard']]"
            ]
          },
          "metadata": {},
          "execution_count": 9
        }
      ]
    },
    {
      "cell_type": "code",
      "metadata": {
        "id": "A659lswTbIIB"
      },
      "source": [
        "# Código para hacer el desfazaje de las palabras\n",
        "# según el train_len\n",
        "text_sequences = []\n",
        "\n",
        "for i in range(train_len, len(tokens)):\n",
        "  seq = tokens[i-train_len:i]\n",
        "  text_sequences.append(seq)"
      ],
      "execution_count": 10,
      "outputs": []
    },
    {
      "cell_type": "code",
      "metadata": {
        "id": "01JEoPPnbgRF",
        "colab": {
          "base_uri": "https://localhost:8080/"
        },
        "outputId": "0165935c-307c-42aa-e35c-3b63e16a77dc"
      },
      "source": [
        "# Demos un vistazo a nuestros vectores para entrenar el modelo\n",
        "text_sequences "
      ],
      "execution_count": 11,
      "outputs": [
        {
          "output_type": "execute_result",
          "data": {
            "text/plain": [
              "[['i', 'wish', 'i', 'found'],\n",
              " ['wish', 'i', 'found', 'some'],\n",
              " ['i', 'found', 'some', 'better']]"
            ]
          },
          "metadata": {},
          "execution_count": 11
        }
      ]
    },
    {
      "cell_type": "markdown",
      "metadata": {
        "id": "4B0gHnKVa4W_"
      },
      "source": [
        "1.2 - Crear los vectores de palabras (word2vec)\n",
        "\n",
        "Ahora necesitamos pasarlos a números para que lo entienda la red y separar input de output.\n",
        "- El Input seran integers (word2vec)\n",
        "- Mientras que el output será one hot encodeado (labels) del tamaño del vocabulario"
      ]
    },
    {
      "cell_type": "code",
      "metadata": {
        "id": "fkPNvXeQcS0U"
      },
      "source": [
        "tok = Tokenizer() \n",
        "\n",
        "# El tokeinzer \"aprende\" las palabras que se usaran\n",
        "# Se construye (fit) una vez por proyecto, se aplica N veces (tal cual un encoder)\n",
        "tok.fit_on_texts(text_sequences) \n",
        "\n",
        "# Convertimos las palabras a números\n",
        "# entran palabras -> salen números\n",
        "sequences = tok.texts_to_sequences(text_sequences)"
      ],
      "execution_count": 12,
      "outputs": []
    },
    {
      "cell_type": "code",
      "metadata": {
        "id": "4SIc44IocyQb",
        "colab": {
          "base_uri": "https://localhost:8080/"
        },
        "outputId": "d91abd4f-9806-4914-fad4-ed5edc7eb510"
      },
      "source": [
        "# Ahora sequences tiene los números \"ID\", largo 4\n",
        "sequences"
      ],
      "execution_count": 13,
      "outputs": [
        {
          "output_type": "execute_result",
          "data": {
            "text/plain": [
              "[[1, 3, 1, 2], [3, 1, 2, 4], [1, 2, 4, 5]]"
            ]
          },
          "metadata": {},
          "execution_count": 13
        }
      ]
    },
    {
      "cell_type": "code",
      "metadata": {
        "id": "3ro81yCQc1oX",
        "colab": {
          "base_uri": "https://localhost:8080/"
        },
        "outputId": "47917250-244b-4ab4-cba6-51ffae53a40c"
      },
      "source": [
        "# Cantidad de casos (doc) de entrada\n",
        "print(tok.document_count)"
      ],
      "execution_count": 14,
      "outputs": [
        {
          "output_type": "stream",
          "name": "stdout",
          "text": [
            "3\n"
          ]
        }
      ]
    },
    {
      "cell_type": "code",
      "metadata": {
        "id": "nzAWNfroc4u1",
        "colab": {
          "base_uri": "https://localhost:8080/"
        },
        "outputId": "3d1f9809-639c-408a-8781-572e11869872"
      },
      "source": [
        "# Cantidad de veces que aparece cada palabra\n",
        "print(len(tok.word_counts))"
      ],
      "execution_count": 15,
      "outputs": [
        {
          "output_type": "stream",
          "name": "stdout",
          "text": [
            "5\n"
          ]
        }
      ]
    },
    {
      "cell_type": "code",
      "metadata": {
        "id": "spTBxmFQc6h8",
        "colab": {
          "base_uri": "https://localhost:8080/"
        },
        "outputId": "56a3f271-9558-4cc1-b6d2-08b6c837f326"
      },
      "source": [
        "# El índice para cada palabra\n",
        "# El sistema las ordena de las más populares a las menos populares\n",
        "print(tok.word_index)"
      ],
      "execution_count": 16,
      "outputs": [
        {
          "output_type": "stream",
          "name": "stdout",
          "text": [
            "{'i': 1, 'found': 2, 'wish': 3, 'some': 4, 'better': 5}\n"
          ]
        }
      ]
    },
    {
      "cell_type": "code",
      "metadata": {
        "id": "nUDkjy80c77h",
        "colab": {
          "base_uri": "https://localhost:8080/"
        },
        "outputId": "e6059bd5-da8f-459a-cd62-7be2267cc4de"
      },
      "source": [
        "# Cantidad de veces quea aparece cada palabra en cada \"documento\"\n",
        "# (1 documento = 1 caso de entrada)\n",
        "print(tok.word_docs)"
      ],
      "execution_count": 17,
      "outputs": [
        {
          "output_type": "stream",
          "name": "stdout",
          "text": [
            "defaultdict(<class 'int'>, {'i': 3, 'found': 3, 'wish': 2, 'some': 2, 'better': 1})\n"
          ]
        }
      ]
    },
    {
      "cell_type": "markdown",
      "metadata": {
        "id": "ohS5Tao1d2KB"
      },
      "source": [
        "### 2 - Preprocesamiento completo\n",
        "Debemos realizar los mismos pasos que en el ejemplo anterior, pero antes de eso debemos transformar ese dataset de filas de oraciones en un texto completo continuo para poder extraer el vocabulario."
      ]
    },
    {
      "cell_type": "code",
      "metadata": {
        "id": "63Z2-Se2t27r",
        "colab": {
          "base_uri": "https://localhost:8080/"
        },
        "outputId": "063544a1-a525-433e-a67c-0209d22b643b"
      },
      "source": [
        "# Vistazo a las primeras filas\n",
        "df.loc[:15,0]"
      ],
      "execution_count": 18,
      "outputs": [
        {
          "output_type": "execute_result",
          "data": {
            "text/plain": [
              "0                  I wish I found some better sounds\n",
              "1                                No one's ever heard\n",
              "2                        I wish I had a better voice\n",
              "3                        That sang some better words\n",
              "4                         I wish I found some chords\n",
              "5                            In an order that is new\n",
              "6                      I wish I didn't have to rhyme\n",
              "7                                  Every time I sang\n",
              "8                        I was told when I get older\n",
              "9                          All my fears would shrink\n",
              "10                              But now I'm insecure\n",
              "11                      And I care what people think\n",
              "12    My name's Blurryface and I care what you think\n",
              "13    My name's Blurryface and I care what you think\n",
              "14                      Wish we could turn back time\n",
              "15                              To the good old days\n",
              "Name: 0, dtype: object"
            ]
          },
          "metadata": {},
          "execution_count": 18
        }
      ]
    },
    {
      "cell_type": "code",
      "metadata": {
        "id": "kILsSoxTuHEr",
        "colab": {
          "base_uri": "https://localhost:8080/",
          "height": 140
        },
        "outputId": "1d3247b1-315b-4715-9692-e10140743da2"
      },
      "source": [
        "# Concatenamos todos los rows en un solo valor\n",
        "corpus = df.apply(lambda row: ' '.join(row.values.astype(str)), axis=0)[0]\n",
        "corpus"
      ],
      "execution_count": 19,
      "outputs": [
        {
          "output_type": "execute_result",
          "data": {
            "text/plain": [
              "'I wish I found some better sounds No one\\'s ever heard I wish I had a better voice That sang some better words I wish I found some chords In an order that is new I wish I didn\\'t have to rhyme Every time I sang I was told when I get older All my fears would shrink But now I\\'m insecure And I care what people think My name\\'s Blurryface and I care what you think My name\\'s Blurryface and I care what you think Wish we could turn back time To the good old days When our momma sang us to sleep But now we\\'re stressed out Wish we could turn back time To the good old days When our momma sang us to sleep But now we\\'re stressed out We\\'re stressed out Sometimes a certain smell will Take me back to when I was young How come I\\'m never able to identify Where it\\'s coming from? I\\'d make a candle out of it If I ever found it Try to sell it, never sell out of it I\\'d probably only sell one It\\'d be to my brother, cause we have the same nose Same clothes, home grown The stone\\'s throw from a creek we used to roam But it would remind us of when Nothing really mattered Out of student loans and tree house homes We all would take the latter My name\\'s Blurryface and I care what you think My name\\'s Blurryface and I care what you think Wish we could turn back time To the good old days When our momma sang us to sleep But now we\\'re stressed out Wish we could turn back time To the good old days When our momma sang us to sleep But now we\\'re stressed out Used to play pretend Give each other different names We would build a rocket ship and then we\\'d fly it far away Used to dream of outer space But now they\\'re laughing at our face singing \"Wake up, you need to make money\", yeah Used to play pretend Give each other different names We would build a rocket ship And then we\\'d fly it far away Used to dream of outer space But now they\\'re laughing at our face singing \"Wake up, you need to make money\", yeah Wish we could turn back time To the good old days When our momma sang us to sleep But now we\\'re stressed out Wish we could turn back time To the good old days When our momma sang us to sleep But now we\\'re stressed out We used to play pretend, used to play pretend, money We used to play pretend, wake up you need the money Used to play pretend, used to play pretend, money We used to play pretend, wake up you need the money Used to play pretend Give each other different names We would build a rocket ship And then we\\'d fly it far away Used to dream of outer space But now they\\'re laughing at our face saying \"Wake up, you need to make money\", yeah All my friends are heathens, take it slow Wait for them to ask you who you know Please don\\'t make any sudden moves You don\\'t know the half of the abuse All my friends are heathens, take it slow Wait for them to ask you who you know Please don\\'t make any sudden moves You don\\'t know the half of the abuse Welcome to the room of people Who have rooms of people that they loved one day Docked away Just because we check the guns at the door Doesn\\'t mean our brains will change from hand grenades You\\'ll never know the psychopath sitting next to you You\\'ll never know the murderer sitting next to you You\\'ll think, \"How\\'d I get here, sitting next to you?\" But after all I\\'ve said, please don\\'t forget All my friends are heathens, take it slow Wait for them to ask you who you know Please don\\'t make any sudden moves You don\\'t know the half of the abuse We don\\'t deal with outsiders very well They say newcomers have a certain smell You have trust issues, not to mention They say they can smell your intentions You\\'ll never know the freak show sitting next to you You\\'ll have some weird people sitting next to you You\\'ll think \"How did I get here, sitting next to you?\" But after all I\\'ve said, please don\\'t forget All my friends are heathens, take it slow Wait for them to ask you who you know Please don\\'t make any sudden moves You don\\'t know the half of the abuse All my friends are heathens, take it slow (Watch it) Wait for them to ask you who you know (Watch it) Please all my friends are heathens, take it slow (Watch it) Wait for them to ask you who you know Why\\'d you come? You knew you should have stayed I tried to warn you just to stay away And now they\\'re outside ready to bust It looks like you might be one of us I just wanna stay in the sun where I find I know it\\'s hard sometimes Pieces of peace in the sun\\'s peace of mind I know it\\'s hard sometimes Yeah, I think about the end just way too much But it\\'s fun to fantasize On my enemies who wouldn\\'t wish who I was But it\\'s fun to fantasize Oh, oh, oh, oh Oh, oh, oh, oh I\\'m fallin\\' so I\\'m taking my time on my ride Oh, oh, oh, oh I\\'m fallin\\' so I\\'m taking my time on my ride Takin\\' my time on my ride \"I\\'d die for you\" that\\'s easy to say We have a list of people that we would take A bullet for them, a bullet for you A bullet for everybody in this room But I don\\'t seem to see many bullets coming through See many bullets coming through Metaphorically, I\\'m the man But literally, I don\\'t know what I\\'d do \"I\\'d live for you\" and that\\'s hard to do Even harder to say, when you know it\\'s not true Even harder to write, when you know that\\'s a lie There were people back home who tried talking to you But then you ignore them still All these questions they\\'re for real, like \"Who would you live for?\" \"Who would you die for?\" And \"Would you ever kill?\" Oh, oh, oh, oh Oh, oh, oh, oh I\\'m fallin\\' so I\\'m taking my time on my ride Oh, oh, oh, oh I\\'m fallin\\' so I\\'m taking my time on my ride Takin\\' my time on my ride I\\'ve been thinking too much I\\'ve been thinking too much I\\'ve been thinking too much I\\'ve been thinking too much (Help me) I\\'ve been thinking too much (I\\'ve been thinking too much) I\\'ve been thinking too much (Help me) I\\'ve been thinking too much (I\\'ve been thinking too much) I\\'ve been thinking too much Oh, oh, oh, oh Oh, oh, oh, oh I\\'m fallin\\' so I\\'m taking my time on my ride Oh, oh, oh, oh I\\'m fallin\\' so I\\'m taking my time Takin\\' my time on my ride Whoa, oh, oh Oh, oh, oh, oh Oh, oh, oh, oh I\\'m fallin\\' so I\\'m taking my time on my ride Oh, oh, oh, oh I\\'m fallin\\' so I\\'m takin\\' my time on my- I\\'ve been thinking too much (Help me) I\\'ve been thinking too much (Help me) I\\'ve been thinking too much (I\\'ve been thinking too much) I\\'ve been thinking too much (Help me) I\\'ve been thinking too much (I\\'ve been thinking too much) I\\'ve been thinking too much (Help me) There\\'s an infestation in my mind\\'s imagination I hope that they choke on smoke \\'cause I\\'m smoking them out the basement This is not rap, this is not hip-hop Just another attempt to make the voices stop Rapping to prove nothing, just writing to say something \\'Cause I wasn\\'t the only one who wasn\\'t rushing to say nothing This doesn\\'t mean I lost my dream It\\'s just right now I got a really crazy mind to clean Gangsters don\\'t cry Therefore, therefore I\\'m Mr. Misty-eyed, therefore I\\'m Can you save, can you save my Can you save my heavy dirty soul? Can you save, can you save my Can you save my heavy dirty soul? For me, for me, uh Can you save my heavy dirty soul? For me, for me, uh Can you save my heavy dirty soul? Nah, I didn\\'t understand a thing you said If I didn\\'t know better I\\'d guess you\\'re all already dead Mindless zombies walking around with a limp and a hunch Saying stuff like, \"You only live once\" You\\'ve got one time to figure it out One time to twist, and one time to shout One time to think and I say we start now Sing it with me if you know what I\\'m talking about Gangsters don\\'t cry Therefore, therefore I\\'m Mr. Misty-eyed, therefore I\\'m Can you save, can you save my Can you save my heavy dirty soul? Can you save, can you save my Can you save my heavy dirty soul? For me, for me, uh Can you save my heavy dirty soul? For me, for me, uh Can you save my heavy dirty soul? Death inspires me like a dog inspires a rabbit Death inspires me like a dog inspires a rabbit Can you save, can you save my Can you save my heavy dirty soul? Can you save, can you save my Can you save my heavy dirty soul? For me, for me, uh Can you save my heavy dirty soul? For me, for me, uh Can you save my heavy dirty soul? Can you save, can you save my, save my Can you save my heavy dirty soul? Can you save, can you save my, save my Can you save my heavy dirty soul? Cover me I can\\'t believe how much I hate Pressures of a new place roll my way Jumpsuit, jumpsuit, cover me Jumpsuit, jumpsuit, cover me I crumble underneath the weight Pressures of a new place roll my way Jumpsuit, jumpsuit, cover me Jumpsuit, jumpsuit, cover me Spirits in my room, friend or foe? Felt it in my youth, feel it when I\\'m old Jumpsuit, jumpsuit (cover me) Dusting off my jumpsuit, cover me I can\\'t believe how much I hate Pressures of a new place roll my way Jumpsuit, jumpsuit, cover me Jumpsuit, jumpsuit, cover me I\\'ll be right there But you\\'ll have to grab my throat and lift me in the air If you need anyone, I\\'ll stop my plans But you\\'ll have to tie me down and then break both my hands If you need anyone I\\'ll be right there But you\\'ll have to grab my throat and lift me in the air (If you need anyone) If you need anyone (if you need anyone) If you need anyone (if you need anyone) If you need anyone (If you need anyone) I can\\'t believe how much I hate Pressures of a new place roll my way Jumpsuit, jumpsuit, cover me Oh, jumpsuit, jumpsuit, cover me, oh Jumpsuit, jumpsuit, cover me Jumpsuit, jumpsuit, cover me Oh, I know how to levitate up off my feet Ever since the seventh grade I learned to fire-breathe And though I feed on things that fell You can learn to levitate with just a little help Learn to levitate with just a little help Come down, come down Cowards only come through when the hour\\'s late And everyone\\'s asleep, mind you Now show up, show up I know I shouldn\\'t say this But a curse from you is all that I would need right now, man Come down, come down Cowards only come through when the hour\\'s late And everyone\\'s asleep, mind you Now show up, show up I know I shouldn\\'t say this But a curse from you is all that I would need right now, man Danger in the fabric of this thing I made I probably shouldn\\'t show you, but it\\'s way too late My heart is with you hiding, but my mind\\'s not made Now they know it like we both knew for some time I\\'d say They\\'re smirking at first blood, they\\'re circling above But this is not enough Yeah, this is not what you thought No, no we are not just graffiti on a passing train I got back what I once bought back In that slot I won\\'t need to replace This culture is a poacher of overexposure, not today Don\\'t feed me to the vultures I am a vulture who feeds on pain Sleep in a well-lit room, don\\'t let the shadow through And sever all I knew, yeah, sever all I... Thought I could depend on my weekends On the freezing ground that I\\'m sleeping on Please, keep me from, please, keep me down from the ledges Better test it, wooden wedges under doorways Keep your wooden wedges under doors, chorus, verse, chorus, verse Now here comes the eight Wait, habits here too You\\'re the worst, your structure compensates But compensation feels a lot like rising up to dominate by track two At least they all know all they hear comes from a place Oh, I know how to levitate up off my feet And ever since the seventh grade I learned to fire-breathe And though I feed on things that fell You can learn to levitate with just a little help You can levitate with just a little help Can\\'t stop thinking about if and when I\\'d die For now I see that \"if\" and \"when\" are truly different cries For \"if\" is purely panic and \"when\" is solemn sorrow And one invades today while the other spies tomorrow We\\'re surrounded and we\\'re hounded There\\'s no \"above\", or \"under\", or \"around\" it For \"above\" is blind belief and \"under\" is sword to sleeve And \"around\" is scientific miracle, let\\'s pick \"above\" and see For if and when we go \"above\", the question still remains Are we still in love and is it possible we feel the same? And that\\'s when going \"under\" starts to take my wonder But until that time, I\\'ll try to sing this If I keep moving, they won\\'t know I\\'ll morph to someone else What they throw at me\\'s too slow I\\'ll morph to someone else I\\'m just a ghost I\\'ll morph to someone else Defense mechanism mode He\\'ll always try to stop me, that Nicholas Bourbaki He\\'s got no friends close but those who know him most know He goes by Nico, he told me I\\'m a copy When I\\'d hear him mock me that\\'s almost stopped me Well we\\'re surrounded and we\\'re hounded There\\'s no above or a secret door What are we here for? If not to run straight through all our tormentors? But until that time I\\'ll try and sing this If I keep moving, they won\\'t know I\\'ll morph to someone else What they throw at me\\'s too slow I\\'ll morph to someone else I\\'m just a ghost I\\'ll morph to someone else Defense mechanism mode I\\'ll morph to someone else Lights they blink to me, transmitting things to me Ones and zeroes, ergo this symphony Anybody listening? Ones and zeroes Count to infinity, ones and zeroes I\\'m surrounded and I\\'m hounded There\\'s no \"above\", or \"under\", or \"around\" it For \"above\" is blind belief and \"under\" is sword to sleeve And \"around\" is scientific miracle, let\\'s pick \"above\" and see For if and when we go \"above\", the question still remains Are we still in love and is it possible we feel the same? And that\\'s when going \"under\" starts to take my wonder But until that time I\\'ll morph to someone else, I\\'m just a ghost If I keep moving, they won\\'t know I\\'ll morph to someone else What they throw at me\\'s too slow I\\'ll morph to someone else I\\'m just a ghost I\\'ll morph to someone else Defense mechanism mode If I keep moving, they won\\'t know I\\'ll morph to someone else Defense mechanism mode I\\'ll morph to someone else Not done, not done, not done Josh Dun I\\'ll morph to someone else When everyone You thought you knew Deserts your fight I\\'ll go with you You\\'re facing down A dark hall I\\'ll grab my light And go with you I\\'ll go with you I\\'ll go with you I\\'ll go with you I\\'ll go with you I\\'ll go with you I\\'ll go with you I\\'ll go with you Surrounded and Up against a wall I\\'ll shred them all And go with you When choices end You must defend I\\'ll grab my bat And go with you I\\'ll go with you I\\'ll go with you I\\'ll go with you, yeah Stay with me No, you don\\'t need to run Stay with me, my blood You don\\'t need to run Stay with me No, you don\\'t need to run Stay with me, my blood You don\\'t need to run If there comes a day People posted up at the end of your driveway They\\'re calling for your head and they\\'re calling for your name I\\'ll bomb down on them, I\\'m coming through Do they know I was grown with you? If they\\'re here to smoke, know I\\'ll go with you Just keep it outside, keep it outside, yeah Stay with me No, you don\\'t need to run Stay with me, my blood You don\\'t need to run Stay with me No, you don\\'t need to run Stay with me, my blood You don\\'t need to run You don\\'t need to run You don\\'t need to run You don\\'t need to run You don\\'t need to run If you find yourself In a lion\\'s den I\\'ll jump right in And pull my pin And go with you I\\'ll go with you I\\'ll go with you I\\'ll go with you (you don\\'t need to run) I\\'ll go with you I\\'ll go with you, (you don\\'t need to run) I\\'ll go with you My blood, I\\'ll go with you, yeah Stay with me No, you don\\'t need to run Stay with me, my blood You don\\'t need to run Stay with me No, you don\\'t need to run Stay with me, my blood You don\\'t need to run You don\\'t need to run You don\\'t need to run You don\\'t need to run You don\\'t need to run Stay with me No, you don\\'t need to run Stay with me, my blood So where are you? It\\'s been a little while Sippin\\' on straight chlorine, let the vibes slide over me This beat is a chemical, beat is a chemical When I leave don\\'t save my seat, I\\'ll be back when it\\'s all complete The moment is medical, moment is medical Sippin\\' on straight chlorine Lovin\\' what I\\'m tastin\\' Venom on my tongue Dependant at times Poisonous vibration Help my body run I\\'m runnin\\' for my li-i-i-i-i-i-fe Runnin\\' for my li-i-i-i-i-i-fe Sippin\\' on straight chlorine, let the vibes slide over me This beat is a chemical, beat is a chemical When I leave don\\'t save my seat, I\\'ll be back when it\\'s all complete The moment is medical, moment is medical Sippin\\' on straight chlorine Fall out of formation I plan my escape from walls they confined Rebel red carnation Grows while I decay I\\'m runnin\\' for my li-i-i-i-i-i-fe Runnin\\' for my li-i-i-i-i-i-fe Yeah, I\\'m runnin\\' for my li-i-i-i-i-i-fe Runnin\\' for my li-i-i-i-i-i-fe Had you in my coat pocket, where I kept my rebel red I felt I was invincible, you wrapped around my head Now different lives I lead, my body lives on lead The last two lines may read incorrect until said The lead is terrible in flavor But now you double as a papermaker I despise you sometimes I love to hate the fight and you in my life is like Sippin\\' on straight chlorine, let the vibes slide over me This beat is a chemical, beat is a chemical When I leave don\\'t save my seat, I\\'ll be back when it\\'s all complete The moment is medical, moment is medical Sippin\\' on straight chlorine Let the vibe, let the vibe Let the vibe, let the vibe Beat is a chemical, yeah Let the vibe, let the vibe Let the vibe, let the vibe Moment is medical, yeah Sippin\\' on straight chlorine Let the vibe, let the vibe Let the vibe, let the vibe Beat is a chemical, yeah Let the vibe, let the vibe Let the vibe, let the vibe Moment is medical, yeah I\\'m so sorry, I forgot you Let me catch you up to speed I\\'ve been tested like the ends of A weathered flag that\\'s by the sea Can you build my house with pieces? I\\'m just a chemical Can you build my house with pieces? I\\'m just a chemical Can you build my house with pieces? I\\'m just a chemical Can you build my house with pieces? I\\'m just a chemical East is up I\\'m fearless when I hear this on the low East is up I\\'m careless when I wear my rebel clothes East is up When Bishops come together they will know that Dema don\\'t control us, Dema don\\'t control East is up They want to make you forget They want to make you forget Save your razorblades now, not yet Save your razorblades now, not yet I\\'m heavy, my jumpsuit is on steady I\\'m lighter when I\\'m lower, I\\'m higher when I\\'m heavy, oh I\\'m so high, my jumpsuit takes me so high I\\'m flying from a fire, from Nico and the Niners, oh East is up I\\'m fearless when I hear this on the low East is up I\\'m careless when I wear my rebel clothes East is up When Bishops come together they will know that Dema don\\'t control us, Dema don\\'t control I\\'m heavy, my jumpsuit is on steady I\\'m lighter when I\\'m lower, I\\'m higher when I\\'m heavy, oh I\\'m so high, my jumpsuit takes me so high I\\'m flying from a fire, from Nico and the Niners, oh What I say when I want to be enough What a beautiful day for making a break for it We\\'ll find a way to pay for it Maybe from all the money we made razorblade stores Rent a race horse and force a sponsor And start a concert, a complete diversion Start a mob and you can be quite certain We\\'ll win but not everyone will get out No, no We\\'ll win but not everyone will get out No, no We\\'ll win but not everyone will get out East is up I\\'m fearless when I hear this on the low East is up I\\'m careless when I wear my rebel clothes East is up When Bishops come together they will know that Dema don\\'t control us, Dema don\\'t control East it up Call, call, call What\\'s my problem? Well, I want you to follow me down to the bottom Underneath the insane asylum Keep your wits about you while you got \\'em \\'Cause your wits are first to go while you\\'re problem-solving And my problem? We glorify those even more when they... My opinion, our culture can treat a loss Like it\\'s a win and right before we turn on them We give them the highest of praise And hang their banner from a ceiling Communicating, further engraving An earlier grave is an optional way No! Neon gravestones try to call (Neon gravestones try to call) Neon gravestones try to call for my bones Call, call, call, call Call, call What\\'s my problem? Don\\'t get it twisted It\\'s with the people we praise who may have assisted I could use the streams and extra conversations I could give up, and boost up my reputation I could go out with a bang, they would know my name They would host and post a celebration My opinion will not be lenient My opinion, it\\'s real convenient Our words are loud, but now I\\'m talking action We don\\'t get enough love? Well, they get a fraction They say \"How could he go if he\\'s got everything?\" I\\'ll mourn for a kid, but won\\'t cry for a king Neon gravestones try to call (Neon gravestones try to call) Neon gravestones try to call for my bones Call, call, call Promise me this If I lose to myself You won\\'t mourn a day And you\\'ll move onto someone else Promise me this If I lose to myself You won\\'t mourn a day And you\\'ll move onto someone else Neon gravestones try to call Neon gravestones try to call for my bones Neon gravestones try to call Neon gravestones try to call for my bones But they won\\'t get them No, they won\\'t get them They won\\'t get them But they won\\'t get them Don\\'t get me wrong, the rise in awareness Is beating a stigma that no longer scares us But for sake of discussion, in spirit of fairness Could we give this some room for a new point of view? And could it be true that some could be tempted To use this mistake as a form of aggression A form of succession, a form of a weapon Thinking \"I\\'ll teach them, \" well, I\\'m refusing the lesson It won\\'t resonate in our minds I\\'m not disrespecting what was left behind Just pleading that it does not get glorified Maybe we swap out what it is that we hold so high Find your grandparents or someone of age Pay some respects for the path that they paved To life they were dedicated Now, that should be celebrated! I\\'m tired of tending to this fire I\\'ve used up all I\\'ve collected I have singed my hands It\\'s glowing Embers barely showing Proof of life in the shadows Dancing on my plans They know that it\\'s almost... They know that it\\'s almost over They know that it\\'s almost... They know that it\\'s almost over The burning is so low it\\'s concerning \\'Cause they know that when it goes out It\\'s a glorious gone It\\'s only time before they show me Why no one ever comes back with details from beyond They know that it\\'s almost... They know that it\\'s almost over They know that it\\'s almost... They know that it\\'s almost over They know that it\\'s almost over They know that it\\'s almost over In time I will leave the city For now I will stay alive In time I will leave the city For now I will stay alive In time I will leave the city For now I will stay alive In time I will leave the city For now I will stay alive They know that it\\'s almost... They know that it\\'s almost over They know that it\\'s almost... They know that it\\'s almost over Last year, I needed change of pace Couldn\\'t take the pace of change Moving hastily But this year, though I\\'m far from home In Trench, I\\'m not alone These faces facing me They know... They know... What I mean An-nyŏng-ha-se-yo Sometimes you gotta bleed to know That you\\'re alive and have a soul But it takes someone to come around To show you how She\\'s the tear in my heart I\\'m alive She\\'s the tear in my heart I\\'m on fire She\\'s the tear in my heart Take me higher Than I\\'ve ever been The songs on the radio are okay But my taste in music is your face And it takes a song to come around To show you how She\\'s the tear in my heart I\\'m alive She\\'s the tear in my heart I\\'m on fire She\\'s the tear in my heart Take me higher Than I\\'ve ever been Than I\\'ve ever been Than I\\'ve ever been Than I\\'ve ever been You fell asleep in my car I drove the whole time But that\\'s okay I\\'ll just avoid the holes so you sleep fine I\\'m driving here I sit Cursing my government For not using my taxes to fill holes with more cement You fell asleep in my car I drove the whole time But that\\'s okay I\\'ll just avoid the holes so you sleep fine I\\'m driving here I sit Cursing my government For not using my taxes to fill holes with more cement Sometimes you gotta bleed to know, oh, oh That you\\'re alive and have a soul, oh, oh But it takes someone to come around To show you how She\\'s the tear in my heart I\\'m alive She\\'s the tear in my heart I\\'m on fire She\\'s the tear in my heart Take me higher Than I\\'ve ever been My heart is my armor She\\'s the tear in my heart She\\'s a carver She\\'s a butcher with a smile Cut me farther Than I\\'ve ever been Than I\\'ve ever been Than I\\'ve ever been Than I\\'ve ever been My heart is my armor She\\'s the tear in my heart She\\'s a carver She\\'s a butcher with a smile Cut me farther Than I\\'ve ever been I\\'m fairly local, I\\'ve been around I\\'ve seen the streets you\\'re walking down I\\'m fairly local, good people now Oh, oh, oh, oh, oh, oh, oh I\\'m evil to the core What I shouldn\\'t do I will They say I\\'m emotional What I wanna save I\\'ll kill Is that who I truly am? I truly don\\'t have a chance Tomorrow I\\'ll keep a beat And repeat yesterday\\'s dance Yo, this song will never be on the radio Even if my clique were to pick and the people were to vote It\\'s the few, the proud, and the emotional Yo, you, bulletproof in black like a funeral The world around us is burning but we\\'re so cold It\\'s the few, the proud, and the emotional I\\'m fairly local, I\\'ve been around I\\'ve seen the streets you\\'re walking down I\\'m fairly local, good people now Oh, oh, oh, oh, oh, oh, oh Oh, oh, oh, oh, oh, oh, oh I\\'m not evil to the core What I shouldn\\'t do I will fight I know I\\'m emotional What I wanna save I will try I know who I truly am I truly do have a chance Tomorrow I\\'ll switch the beat To avoid yesterday\\'s dance Yo, this song will never be on the radio Even if my clique were to pick and the people were to vote It\\'s the few, the proud, and the emotional Yo, you, bulletproof in black like a funeral The world around us is burning but we\\'re so cold It\\'s the few, the proud, and the emotional I\\'m fairly local, I\\'ve been around I\\'ve seen the streets you\\'re walking down I\\'m fairly local, good people now Oh, oh, oh, oh, oh, oh, oh Oh, oh, oh, oh, oh, oh, oh Oh, oh, oh, oh, oh, oh, oh I\\'m fairly local, I\\'ve been around I\\'ve seen the streets you\\'re walking down I\\'m fairly local, good people now Oh, oh, oh, oh, oh, oh, oh Yeah I\\'m fairly local, good people now Oh, oh, oh, oh, oh, oh, oh Good people now Oh, oh, oh, oh, oh, oh, oh Good people now Oh, oh, oh, oh, oh, oh, oh They say, stay in your lane, boy, lane, boy But we go where we want to They think this thing is a highway, highway But will they be alive tomorrow? They think this thing is a highway If it was our way, we\\'d have a tempo change every other time change \\'Cause our mind\\'s changed on what we think is good I wasn\\'t raised in the hood But I know a thing or two about pain and darkness If it wasn\\'t for this music I don\\'t know how I would have fought this Regardless, all these songs I\\'m hearing are so heartless Don\\'t trust a perfect person and Don\\'t trust a song that\\'s flawless, honest There\\'s a few songs on this record that feel common I\\'m in constant confrontation with what I want and what is poppin\\' In the industry, it seems to me that singles on the radio are currency My creativity\\'s only free when I\\'m playing shows They say, stay in your lane, boy, lane, boy But we go where we want to They think this thing is a highway, highway But will they be alive tomorrow? I\\'m sorry if that question I asked last Scared you a bit like a Hazmat, in a gas mask if you ask Zack He\\'s my brother, he likes when I rap fast But let\\'s backtrack, back to this Who would you live and die for on that list? But the problem is, there\\'s another list that exists And no one really wants to think about this Forget sanity, forget salary, forget vanity, my morality If you get in between someone I love and me You\\'re gonna feel the heat of my cavalry All these songs I\\'m hearing are so heartless Don\\'t trust a perfect person And don\\'t trust a song that\\'s flawless They say, stay in your lane, boy, lane, boy But we go where we want to They think this thing is a highway, highway But will they be alive tomorrow? They say, stay in your lane, boy, lane, boy But we go where we want to They think this thing is a highway, highway But will they be alive tomorrow? They be alive tomorrow? They say, stay in your lane, boy, lane, boy But we go where we want to They think this thing is a highway, highway But will they be alive tomorrow? They say, stay in your lane, boy, lane, boy But we go where we want to They think this thing is a highway, highway But will they be alive tomorrow? Na na na na oh oh Na na na na oh oh Na na na na oh oh When the leader of the bad guys sang Something soft and soaked in pain I heard the echo from his secret hideaway He must\\'ve forgot to close his door As he cranked out those dismal chords And his four walls declared him insane I found my way Right time wrong place As I plead my case You\\'re the judge, oh no Set me free You\\'re the judge, oh no Set me free I know my soul\\'s freezing Hell\\'s hot for good reason So please, take me Na na na na oh Na na na na oh Na na na na oh Three lights are lit But the fourth one\\'s out I can tell cause it\\'s a bit darker Than the last night\\'s bout I forgot about the drought Of light bulbs in this house So I head out Down a route I think is heading south But I\\'m not good with directions And I hide behind my mouth I\\'m a pro at imperfections And I\\'m best friends with my doubt And now that my mind\\'s out And now I hear it clear and loud I\\'m thinking, \\'Wow I probably should\\'ve stayed inside my house\\' I found my way Right time wrong place As I plead my case You\\'re the judge, oh no Set me free You\\'re the judge, oh no Set me free I know my soul\\'s freezing Hell\\'s hot for good reason So please I don\\'t know if this song Is a surrender or a revel I don\\'t know if this one Is about me or the devil I don\\'t know if this song Is a surrender or a revel I don\\'t know if this one Is about me or the devil You\\'re the judge, oh no Set me free, oh no You\\'re the judge, oh no Set me free, oh no I know my soul\\'s freezing Hell\\'s hot for good reason So please Na na na na oh, oh Na na na na oh, oh Na na na na oh, oh Na na na na oh, oh You\\'re the judge, oh no (na na na na oh, oh) Set me free (na na na na oh, oh) You\\'re the judge, oh no (na na na na oh, oh) Set me free (na na na na oh, oh) You\\'re the judge, oh no (na na na na oh, oh) Set me free (na na na na oh, oh) You\\'re the judge, oh no (na na na na oh, oh) Set me free (na na na na oh, oh) I know what you think in the morning When the sun shines on the ground And shows what you have done It shows where your mind has gone And you swearing to your parents That it will never happen again I know, I know oh ow, what that means, I know oh oh oh ow That you all have guns And you never put the safety on And you all have plans, To take it, to take it, don\\'t take it, take it, take it I\\'m trying, I\\'m trying to sleep I\\'m trying, I\\'m trying to sleep But I can\\'t, but I can\\'t when you all have Guns for hands, yeah I\\'m trying, I\\'m trying to sleep I\\'m trying, I\\'m trying to sleep But I can\\'t, but I can\\'t when you all have Guns for hands, yeah Let\\'s take this a second at a time Let\\'s take this one song, this one rhyme Together, let\\'s breathe Together, to the beat But there\\'s hope out the window So that\\'s where we\\'ll go Let\\'s go outside and all join hands But until then you\\'ll never understand That you all have guns And you never put the safety on And you all have plans To take it, to take it, don\\'t take it, take it, take it I\\'m trying, I\\'m trying to sleep I\\'m trying, I\\'m trying to sleep But I can\\'t, but I can\\'t when you all have Guns for hands, yeah We\\'ve turned our hands to guns, traded our thumbs for ammunition I must forewarn you of my disorder, or my condition \\'Cause when the sun sets, it upsets what\\'s left of my invested interest Interested in putting my fingers to my head The solution is, I see a whole room of these mutant kids Fused at the wrist, I simply tell them they should shoot at this Simply suggest my chest and this confused music It\\'s obviously best for them to turn their guns to a fist I\\'m trying, I\\'m trying to sleep I\\'m trying, I\\'m trying to sleep But I can\\'t, but I can\\'t when you all have Guns for hands I\\'m trying, I\\'m trying to sleep I\\'m trying, I\\'m trying to sleep But I can\\'t, but I can\\'t when you all have Guns for hands Eh, eh, eh, eh Eh, eh, eh, eh No, no, no, no, no, no Yeah, yeah, yeah, yeah, yeah, yeah A loser hides behind a mask of my disguise And who I am today is worse than other times You don\\'t know what I\\'ve done, I\\'m wanted and on the run I\\'m wanted and on the run So I\\'m taking this moment to live in the future Release me from the present I\\'m obsessing all these questions Why I\\'m in denial that they tried the suicidal session Please use discretion when you\\'re messing with the message, man These lyrics aren\\'t for everyone, only few understand Eh, eh, eh, eh Eh, eh, eh, eh No, no, no, no, no, no Yeah, yeah, yeah, yeah, yeah, yeah You don\\'t know my brain, the way you know my name You don\\'t know my heart, the way you know my face You don\\'t know what I\\'ve done, I\\'m wanted and on the run I\\'m wanted and on the run So I\\'m taking this moment to live in the future Release me from the present I\\'m obsessing all these questions Why I\\'m in denial that they tried the suicidal session Please use discretion when you\\'re messing with the message, man These lyrics aren\\'t for everyone, only few understand My people singin\\' My people singin\\' I hope you\\'re dead, \\'cause how could you sleep at a time like this? People, they rhyme like this, we\\'re all impressed by this They rip it, flip it, but these are just triplets Wrote this in three minutes, three words to a line It\\'s just poetry divided, I\\'m the kind of guy who Takes every moment he knows he confided in Music to use it for others to use it You\\'re dead, \\'cause how could you sleep at a time like this? Life is up here but you comment below And the comments will always become common motivation To promote your show\\'s next episode So your brain knows to keep going even though hope Is far from this moment, but you and I know it Gets better when morning finally rears its head Together we\\'re losers, remember the future Remember the morning is when night is dead Release me from the present I\\'m obsessing all these questions Why I\\'m in denial that they tried the suicidal session Please use discretion when you\\'re messing with the message, man These lyrics aren\\'t for everyone, only few understand Please use discretion when you\\'re messing with the message, man These lyrics aren\\'t for everyone, only few understand Eh, eh, eh, eh Eh, eh, eh, eh My people singin\\' Eh, eh, eh, eh My people singin\\' Eh, eh, eh, eh My people singin\\' I\\'m a goner Somebody catch my breath I\\'m a goner Somebody catch my breath I wanna be known by you I wanna be known by you I\\'m a goner Somebody catch my breath I\\'m a goner Somebody catch my breath I wanna be known by you I wanna be known by you Though I\\'m weak Beaten down I\\'ll slip away Into the sound The ghost of you Is close to me I\\'m inside out You\\'re underneath I\\'ve got two faces Blurry\\'s the one I\\'m not I\\'ve got two faces Blurry\\'s the one I\\'m not I need your help to Take him out I need your help to Take him out Though I\\'m weak And beaten down I\\'ll slip away Into the sound The ghost of you Is close to me I\\'m inside out You\\'re underneath Though I\\'m weak And beaten down I\\'ll slip away Into the sound The ghost of you Is close to me I\\'m inside out You\\'re underneath Don\\'t let me be gone Don\\'t let me be gone Don\\'t let me be gone Don\\'t let me be gone Don\\'t let me be! Don\\'t let me be! Ah Yeah I\\'m a goner Somebody catch my breath I\\'m a goner Somebody catch my breath I wanna be known by you I wanna be known by you I wake up fine and dandy But then by the time I find it handy To rip my heart apart and start Planning my crash landing I go up, up, up, up, up to the ceiling Then I feel my soul start leaving Like an old man\\'s hair receding I\\'m pleading: Please, oh please! On my knees repeatedly asking Why it\\'s got to be like this Is this living free? I don\\'t wanna be the one Be the one to have the sun\\'s blood on my hands I\\'ll tell the moon Take this weapon, forged in darkness Some see a pen, I see harpoon I\\'ll stay awake Cause the dark\\'s not taking prisoners tonight Why am I not scared in the morning? I don\\'t hear those voices calling I must have kicked them out I must have kicked them out I swear I heard demons yelling Those crazy words they were spelling They told me I was gone They told me I was gone But I tell \\'em Why won\\'t you let me go? Do I threaten all your plans? I\\'m insignificant Please tell \\'em You have no plans for me I will set my soul on fire What have I become? I\\'ll tell \\'em On the eve of a day that\\'s forgotten and fake As the trees, they await, and clouds anticipate The start of a day when we put on our face A mask that portrays that we don\\'t need grace On the eve of a day that is bigger than us But we open our eyes, cause we\\'re told that we must And the trees wave their arms and the clouds try to plead Desperately yelling: There\\'s something we need! I\\'m not free, I Asked forgiveness three times Same amount that I denied I three-time MVP\\'d this crime I\\'m afraid to tell you who I adore Won\\'t tell you who I\\'m singing towards Metaphorically, I\\'m a whore And that\\'s denial number four I\\'ll stay awake Cause the dark\\'s not taking prisoners tonight Why am I not scared in the morning? I don\\'t hear those voices calling I must have kicked them out I must have kicked them out I swear I heard demons yelling Those crazy words they were spelling They told me I was gone They told me I was gone But I tell \\'em Why won\\'t you let me go? Do I threaten all your plans? I\\'m insignificant Please tell \\'em You have no plans for me I will set my soul on fire What have I become? I\\'ll tell \\'em You have have no plans for me I will set my soul on fire What have I become? I\\'ll tell \\'em I\\'ll tell \\'em I\\'ll tell \\'em I\\'ll tell \\'em Please tell \\'em You have no plans for me I will set my soul on fire What have I become? I\\'m sorry I\\'m taking over my body Back in control, no more shotty I bet a lot of me was lost \"T\"\\'s uncrossed and \"I\"\\'s undotted I fought it a lot and it seems a lot Like flesh is all I got Not any more, flesh out the door, Swat! I must\\'a forgot, you can\\'t trust me I\\'m open a moment and close when you show it Before that you know it I\\'m lost at sea And now that I write and think about it And the story unfolds You should take my life You should take my soul You are surrounding all my surroundings Sounding down the mountain range Of my left-side brain You are surrounding all my surroundings Twisting the kaleidoscope Behind both of my eyes And I\\'ll be holding on to you Remember the moment You know exactly where you\\'re goin\\' \\'Cause the next moment before you know it Time is slowin\\' and it\\'s rolling still And the windowsill looks really nice, right? You think twice about your life It probably happens at night, right? Fight it, take the pain, ignite it Tie a noose around your mind Loose enough to breath fine and tie it To a tree tell it, You belong to me, this ain\\'t a noose This is a leash and I have news for you You must obey me! You are surrounding all my surroundings Sounding down the mountain range Of my left-side brain You are surrounding all my surroundings Twisting the kaleidoscope Behind both of my eyes Entertain my faith Entertain my faith Entertain my faith Entertain my faith Entertain my faith Entertain my faith Entertain my faith Entertain my faith Entertain my faith Entertain my faith Lean with it, rock with it When we gonna stop with it? Lyrics that mean nothing We were gifted with thought Is it time to move our feet To an introspective beat It ain\\'t the speakers that bump hard It\\'s our hearts that make the beat Lean with it, rock with it When we gonna stop with it? Lyrics that mean nothing We were gifted with thought Is it time to move our feet To an introspective beat It ain\\'t the speakers that bump hard It\\'s our hearts that make the beat Lean with it, rock with it When we gonna stop with it? Lyrics that mean nothing We were gifted with thought Is it time to move our feet To an introspective beat It ain\\'t the speakers that bump hard It\\'s our hearts that make the beat Lean with it, rock with it When we gonna stop with it? Lyrics that mean nothing We were gifted with thought Is it time to move our feet To an introspective beat It ain\\'t the speakers that bump hard It\\'s our hearts that make the beat And I\\'ll be holding on to you And I\\'ll be holding on to you And I\\'ll be holding on to you And I\\'ll be holding on to you And I\\'ll be holding on to you And I\\'ll be holding on to you And I\\'ll be holding on to you And I\\'ll be holding on to you Am I the only one I know? Waging my wars behind my face and above my throat Shadows will scream that I\\'m alone I-I-I\\'ve got a migraine And my pain will range from up down and sideways Thank God it\\'s Friday \\'Cause Fridays will always be better than Sundays \\'Cause Sunday\\'s are my suicide days I don\\'t know why they always seem so dismal Thunderstorms, cloud, snow, and a slight drizzle Whether it\\'s the weather or the letters by my bed Sometimes death seems better than the migraine in my head Let it be said what the headache represents It\\'s me defending in suspense, it\\'s me suspended in a defenseless Test being tested by a ruthless examiner That\\'s represented best by my depressing thoughts I do not have writers block My writer just hates the clock It will not let me sleep, I\\'ll get some sleep when I\\'m dead And sometimes death seems better than the migraine in my head Am I the only one I know? Waging my wars behind my face and above my throat Shadows will scream that I\\'m alone But I know we\\'ve made it this far, kid Yeah, yeah, yeah I am not as fine as I seem pardon Me for yelling I\\'m telling you green gardens Are not what\\'s growing in my psyche It\\'s a different me A difficult to be, stop feasting lumber down trees Freeze frame Please let me paint a mental picture portrait Something you won\\'t forget, it\\'s all about my forehead Deny what is important, holds back contents That make Pandora\\'s box contents look non-violent Behind my eyelids are islands of violence My mind shipwrecked, this is the only land my mind could find I did not know it was such a violent island Bullet tidal waves, suicidal crazed lions They\\'re trying to eat me blood running down their chin And they know that I can fight or I can let the lion win I begin to assemble what weapons I can find \\'Cause sometimes to stay alive you gotta kill your mind Am I the only one I know? Waging my wars behind my face and above my throat Shadows will scream that I\\'m alone But I know we\\'ve made it this far, kid Yeah, yeah, yeah, yeah Yeah, yeah, yeah And I will say that, \"We should take a day to break away From all the pain our brain has made\" The game is not played alone And I will say that, \"We should take a moment and hold it And keep it frozen and know that life has a hopeful undertone\" And I will say that, \"We should take a day to break away From all the pain our brain has made\" The game is not played alone And I will say that, \"We should take a moment and hold it And keep it frozen and know that life has a hopeful undertone\" Am I the only one I know? Waging my wars behind my face and above my throat Shadows will scream that I\\'m alone But I know we\\'ve made it this far, kid We\\'ve made it this far, we\\'ve made it this... I ponder of something great My lungs will fill and then deflate They fill with fire, exhale desire I know it\\'s dire my time today I have these thoughts, so often I ought To replace that slot with what I once bought \\'Cause somebody stole my car radio And now I just sit in silence Sometimes quiet is violent I find it hard to hide it My pride is no longer inside It\\'s on my sleeve My skin will scream reminding me of Who I killed inside my dream I hate this car that I\\'m driving There\\'s no hiding for me I\\'m forced to deal with what I feel There is no distraction to mask what is real I could pull the steering wheel I have these thoughts, so often I ought To replace that slot with what I once bought \\'Cause somebody stole my car radio And now I just sit in silence I ponder of something terrifying \\'Cause this time there\\'s no sound to hide behind I find over the course of our human existence One thing consists of consistence And it\\'s that we\\'re all battling fear Oh dear, I don\\'t know if we know why we\\'re here Oh my, too deep, please stop thinking I liked it better when my car had sound There are things we can do But from the things that work there are only two And from the two that we choose to do Peace will win and fear will lose It is faith and there\\'s sleep We need to pick one please because Faith is to be awake And to be awake is for us to think And for us to think is to be alive And I will try with every rhyme To come across like I am dying To let you know you need to try to think I have these thoughts, so often I ought To replace that slot with what I once bought \\'Cause somebody stole my car radio And now I just sit in silence And now I just sit in silence And now I just sit And now I just sit in silence And now I just sit in silence And now I just sit in silence And now I just sit I ponder of something great My lungs will fill and then deflate They fill with fire, exhale desire I know it\\'s dire my time today I have these thoughts, so often I ought To replace that slot with what I once bought \\'Cause somebody stole my car radio And now I just sit in silence I know where you stand Silent in the trees And thats where I am Silent in the trees Why won\\'t you speak Where I happen to be? Silent in the trees Standing cowardly I can feel your breath I can feel my death I want to know you I want to see. I want to say, hello Hello Hello Hello Na na, na na na nah na na Na na, na na na nah na na Na na, na na na nah na na Na na, na na na nah na na I know where you stand Silent in the trees And that\\'s where I am Silent in the trees. Why won\\'t you speak Where I happen to be? Silent in the trees Standing cowardly I can feel your breath I can feel my death I want to know you I want to see I want to say hello Na na, na na na nah na na Na na, na na na nah na na Hello, hello Na na, na na na nah na na Na na, na na na nah na na Hello, hello Hello, hello Hello, hello Ruby I hope I see you, I\\'ve waited all this week For you to walk my way, your soul will capture me Your momma painted your room a shade of pink, she said But with your great arrival that shade has turned to red Ruby take my hand, please lead me to the promised land Tell me, where am I from, your eyes say, shada de da dum Ruby, you\\'re royalty, in your home land, they all call you queen Tell me, where are you from, your eyes say, shada de da dum You\\'re an angel fallen down, won\\'t you tell us of the clouds You have fallen from the sky, how high, how high? You\\'re an angel fallen down, won\\'t you tell us of the clouds You have fallen from the sky, how high, how high? You\\'re true and pure You hold the cure We\\'re all diseased You hold the key You\\'re an angel fallen down, won\\'t you tell us of the clouds You have fallen from the sky, how high, how high? You\\'re an angel You\\'re an angel You\\'re an angel (hey, hey, hey, hey) You\\'re an angel (hey, hey, hey) You\\'re an angel Tell our dad, I\\'m sorry Tell our dad, I\\'m sorry Tell our dad, I\\'m sorry, yeah I can feel my saturation leaving me slowly Broke the news on mom\\'s vacation Oh, but you know me Low-key, I\\'m all right Would you say you depend on the weather? My sunshine Is a buzz and a light, I\\'ll be singing out I know it\\'s hard to believe me It\\'s a good day Lost my job, my wife and child Homie just sued me Shoot my life in shoot-\\'em-up style Her favorite movies Low-key, I\\'m all right Would you say you depend on the weather? My sunshine Is a buzz and a light, I\\'ll be singing out I know it\\'s hard to believe me It\\'s a good day Today\\'s a good day Never know, never know When the next one will show, it\\'ll show So I\\'ma sing my soul, I\\'ma sing my soul Today\\'s a good day Never know, never know When the next one will show, it\\'ll show So I\\'ma sing my soul, I\\'ma sing my soul, yeah So I\\'ma sing my soul, I\\'ma sing my soul I\\'m all right Would you say you depend on the weather? My sunshine Is a buzz and a light, I\\'ll be singing out I know it\\'s hard to believe me It\\'s a good day I\\'m all right I\\'m all right I think that I\\'m all right It\\'s a good day Mmh-mm, mmh-mm Mmh-mm, mmh-mm Mmh-mm, mmh-mm I don\\'t bother anyone Nervous when I stand Chokin\\' on the circumstance Only smokin\\' secondhand (mmh-mm) Cut us open, spread us out (mmh-mm) Dry us in the sand (mmh-mm) Lay the fibers side by side (mmh-mm) and you\\'ll begin to understand (mmh-mm) I know it\\'s over I was born a choker Nobody\\'s comin\\' for me Comin\\' for me Mmh-mm (I know it\\'s over), mmh-mm Mmh-mm I don\\'t bother anyone Never make demands Chokin\\' on the circumstance Self-sabotage is a sweet romance (mmh-mm) Seems like all I\\'m worth is (mmh-mm) what I\\'m able to withstand (mmh-mm) Sooner I can realize (mmh-mm) that pain is just a middleman (mmh-mm) I know it\\'s over I was born a choker Nobody\\'s comin\\' for me I see no volunteers to cosign on my fears I\\'ll sign on the line Alone, you\\'re gonna change my circumstance I know I need to move right now \\'Cause I know it\\'s over I was born a choker Nobody\\'s comin\\' for me (only smokin\\' secondhand) I know it\\'s over I was born a choker Nobody\\'s comin\\' for me Comin\\' for me Like a little splinter buried in your skin Someone else can carve it out, but when you\\'ve got the pin It hurts a little less and you can even push it further in When your body\\'s screamin\\' out, trust your mind\\'s listenin\\' Like a silhouette that you can barely see As a shadow cast upon the ground where you\\'ll eventually Lay forever, but the day goes on, the sun moves behind you You get taller, bolder, stronger and the rearview only blinds you Mmh-mm, mmh-mm, mmh-mm When I get home You better not be there We\\'re placing bets, you won\\'t Shed your modesty And the only thing to leave behind Is your own skin on the floor Don\\'t you shy away Manifest a ceiling When you shy away Searching for that feeling Just like an \"I love you\" (ooh, ooh) That isn\\'t words Like a song he wrote, that\\'s never heard Don\\'t you... Shh When you get home You barely recognize the pictures They put in a frame \\'Cause you shed your modesty Don\\'t circle the track Take what you have And leave your skin on the floor Don\\'t you shy away Manifest a ceiling When you shy away Searching for that feeling Just like an \"I love you\" (ooh, ooh) That isn\\'t words Like a song he wrote That\\'s never heard When I get home Boy, you better not be there You\\'re long gone You shed your modesty Don\\'t circle the track Just break the cycle in half And leave your skin on the floor Don\\'t you shy away Manifest a ceiling When you shy away Searching for that feeling Just like an \"I love you\" (ooh, ooh) That isn\\'t words Like a song he wrote That\\'s never heard That\\'s never heard An \"I love you\" That isn\\'t words Like a song he wrote That\\'s never heard Don\\'t you shy away One, two, three, yeah Ah-ah Keep your bliss There\\'s nothing wrong with this Ah-ah-ah, yeah, woo-ooh Keep your bliss There\\'s nothing wrong with this Keep your sunny days Leave us in the rain Tie strings to our hands and feet To rain on your parade You can have the weekends We will live between them Keep your pills, save your breath And don\\'t ever forget Get out of our way We\\'re moving sideways Welcome to Mulberry Street, yeah So move out of our way We\\'re pushing sideways Keep sidewalk under your feet Ain\\'t no sunny skies, \\'til you finally realize That everybody relies on synthetic highs They find someone to prescribe Keep your bliss There\\'s nothing wrong with this We just wanna feel it all Keep your pills, save your breath And don\\'t ever forget Get out of our way We\\'re moving sideways Welcome to Mulberry Street, yeah So move out of our way, we\\'re pushing sideways Keep sidewalk under your feet When times aren\\'t the best And I\\'m on the edge I\\'ll listen for a song in the distance Mulberry Street, so good to see you Mulberry Street, so good to see you Mulberry Street, so good to see you Mulberry Street And don\\'t ever forget Get out of our way We\\'re moving sideways Welcome to Mulberry Street, yeah So move out of our way We\\'re pushing sideways Keep sidewalk under your feet Get out of our way, we\\'re moving sideways Welcome to Mulberry Street, yeah So move out of our way (so good, so good) We\\'re pushing sideways Keep sidewalk under your feet (so good to see you) Keep your bliss There\\'s nothing wrong with this I\\'m already bored I\\'m pretty sure I\\'ve seen this one before I\\'ve got a long drive, I\\'ll tape my eyes So I don\\'t fall asleep again Singing out Up and down They\\'re nodding Heads are moving up and down You got it Everybody stand in line One by one, take a hit, join the club Kids will try to take my vibes Or am I on the outside? I\\'ve got a long drive, I\\'ll tape my eyes So I don\\'t fall asleep again Singing out Up and down They\\'re nodding Heads are moving up and down You got it Everybody stand in line One by one, take a hit, join the club Kids will try to take my vibes Or am I on the outside? I am a Megalodon, oceans feeling like a pond Swimming like a beast, underneath they be clinging on Meteoric rise, in prehistoric times Now that meteor is coming, coming I am Megatron, cogs I\\'m stepping on Then the little cogs got together, start a renaissance Switched it up on me, fuel efficiency On fumes I am running, running, running Up and down They\\'re nodding Heads are moving up and down You got it Everybody Up and down They\\'re nodding Heads are moving up and down You got it Everybody stand in line One by one, take a hit, join the club Kids will try to take my vibes Or am I on the outside? I\\'m on the outside in the summer heat You can pay the cover charge, I\\'m in the street Little do they know that they can\\'t touch me I\\'m vibin\\', vibin\\' I\\'m on the outside in the summer heat You can pay the cover charge, I\\'m in the street Little do they know that they can\\'t touch me I\\'m vibin\\', vibin\\', yeah Taking inventory of his life Seeing snapshots chronologically inline Something told him he should look around and tidy up He collected many things but never quite enough Tried looking at it from a new perspective Flat on his back but he still heard the directive Orders from that corner where that shadow always lived Never asked permission, he just hopes that they\\'d forgive I don\\'t want to go on like this At least let me clean my room I don\\'t want to leave like this \\'Cause the last thing I want to do is Make my people make decisions Wondering what to do, oh Should they keep it on display Or redecorate? Blankets over mirrors, she tends to like it She\\'s not afraid of her reflection But of what she might see behind it She had plans to change her name (yeah) Just not the traditional way (yeah) Haunted by a couple big mistakes She covers all the dents with the way she decorates Then one night she got cold with no blankets on her bed So she ripped them off the mirror, stepped back and she said I don\\'t want to go on like this At least let me clean my room I don\\'t want to leave like this \\'Cause the last thing I want to do is Make my people make decisions Wondering what to do, oh Should they keep it on display Or redecorate? With the bells and the whistles scaled back Like an isolated track And he feels trapped when he\\'s not inebriated Fair to say he\\'s fairly sedated most days of the week He might have made it if he\\'d lived on a different street I repeat, scaled back and isolated He says he likes an open schedule but he mostly hates it If you\\'re running to his room, take a breath before you break-in Put your ear up to the door, tell me can you hear him saying? I don\\'t want to go like this At least let me clean my room I don\\'t want to leave like this \\'Cause the last thing I want to do is Make my people make decisions Wondering what to do, oh Should they keep it on display Or redecorate? I don\\'t want to go like this (go like this) At least let me clean my room (clean my room) I don\\'t want to leave like this (leave like this) \\'Cause the last thing I want to do is (to do is) Make my people make decisions Wondering what to do, oh Should they keep it on display Or redecorate? Or redecorate? Or redecorate? We come for you, no chances We come for you, no chances In my house shoes in a foot race In this house we got feng shui Get the door to blow you away Flamethrower, you a switchblade Feet planted on grip tape With my shoulders squared, and my back straight Got a good base and a loose tongue Notorious in the octagon Now mm bada-dum bada-dum dum We got people on the way We want you home in one piece now (Run away, run away) Mm bada-dum bada-dum dum We get bodies every day We want you home in one piece now We come for you, no chances We come for you, no chances How\\'d you get the location? Put together pieces? They say they sell the information In those terms of agreement We spent some weekends on the grind Surveillances outside, we see when you arrive Ride or die my son Spent some weekends on the grind Surveillances outside, we see when you arrive Ride or die my son Mm bada-dum bada-dum dum We got people on the way We want you home in one piece now (Run away, run away) Mm bada-dum bada-dum dum We get bodies every day We want you home in one piece now (Run away, run away) Mm bada-dum bada-dum dum Mm bada-dum bada-dum dum We got people on the way We want you home in one piece now (Run away, run away) Mm bada-dum bada-dum dum We get bodies every day We want you home in one piece now (We come for you, no chances) (We come for you, no chances) (We-we-we) I know you\\'re not a liar And I know you could set fire this day Go ahead and make me look away Strike me down, I am calling your lightning Down from your dark hiding place Go ahead and show me your face Reign down And destroy me Reign down And destroy me Reign down I mean no disrespect I am simply very perplexed by your ways Why won\\'t you let us use your name? Reign down And destroy me Reign down And destroy me Reign down And destroy me Reign down And destroy me Reign down Reign down I don\\'t wanna fall, fall away I don\\'t wanna fall, fall away I\\'ll keep the lights on in this place \\'Cause I don\\'t wanna fall, fall a—way (la, da-da-da-da) I don\\'t wanna fall, fall a—way (la, da-da-da-da) I don\\'t, I don\\'t wanna fall away (la, da-da-da-da) I will keep the lights on in this place (la, da-da-da-da) \\'Cause I don\\'t wanna fall, fall away I disguise and I will lie And I will take my precious time As the days melt away As I stand in line, and I die as I wait as I wait on my crime And I\\'ll try to delay what you make of my life But I don\\'t want your way, I want mine I\\'m dying and I\\'m trying But believe me, I\\'m fine, but I\\'m lying I\\'m so very far from fine And I, I can feel the pull begin I feel my conscience wearing thin And my skin, it will start To break up and fall apart Way (la, da-da-da-da) I don\\'t wanna fall, fall away (la, da-da-da-da) I don\\'t wanna fall, fall away (la, da-da-da-da) I will keep the lights on in this place (la, da-da-da-da) \\'Cause I don\\'t wanna fall, fall away Every time I feel selfish ambition is taking my vision My crime is my sentence, repentance is taking commission It\\'s taking a toll on my soul, I\\'m screaming submission and I don\\'t know if I am dying or living \\'Cause I will save face for name\\'s sake, abuse grace Take aim to obtain a new name in a newer place But my name is lame, I can\\'t walk and I ain\\'t the same And my name became a new destiny to the grave And I, I can feel the pull begin Feel my conscience wearing thin And my skin, it will start To break up and fall apart Way (la, da-da-da-da) I don\\'t wanna fall, fall away (la, da-da-da-da) I don\\'t wanna fall, fall away (la, da-da-da-da) I will keep the lights on in this place (la, da-da-da-da) \\'Cause I don\\'t wanna fall, fall away La, da-da-da-da La, da-da-da-da La, da-da-da-da La, da-da-da-da La, da-da-da-da La, da-da-da-da Your grandpa died when you were nine They said he had lost his mind You have learned way too soon You should never trust the pantaloon Now it\\'s your turn to be alone Find a wife and build yourself a home You have learned way too soon That your dad is now the pantaloon You are tired, you are hurt A moth ate through your favorite shirt And all your friends fertilize The ground you walk Lose your mind He\\'s seen too many stare downs Between the sun and the moon in the morning air How he used to hustle all the people Walking through the fairgrounds He\\'s been around so long he\\'s changed his meaning of a chair now Because a chair now, Is like a tiny island in the sea of all the people Who glide across the very surface that made his bones feeble The end can\\'t come soon enough but is it too soon? Either way he can\\'t deny he is a pantaloon You are tired, you are hurt A moth ate through your favorite shirt And all your friends fertilize The ground you walk Lose your mind You like to sleep alone It\\'s colder than you know \\'Cause your skin is so Used to colder bones It\\'s warmer in the morning Than what it is at night Your bones are held together by your nightmare and your frights You are tired, you are hurt A moth ate through your favorite shirt And all your friends, they fertilize The ground you walk So lose your mind You are tired, you are hurt A moth ate through your favorite shirt And all your friends, they fertilize The ground you walk Lose your mind I wanna fall inside your ghost And fill up every hole inside my mind And I want everyone to know That I am half a soul divided Sometimes we will die and sometimes we will fly away Either way you\\'re by my side until my dying days And if I\\'m not there and I\\'m far away I said, don\\'t be afraid I said, don\\'t be afraid We\\'re going home I wanna strip myself of breath A breathless beast of death I\\'ve made for you A mortal writing piece of song Will help me carry on But these you heard Sometimes we will die and sometimes we will fly away Either way you\\'re by my side until my dying days And if I\\'m not there and I\\'m far away I said, don\\'t be afraid I said, don\\'t be afraid We\\'re going home So the hearse ran out of gas A passenger purse and grabbed a map And the driver inside it contrived a new route to save the past And checked his watch and grabbed a cab A beautifully planned taxi cab A cab, had it cleared out back And two men started to unpack Driving once again But now this time there were three men And then I heard one of them say I know the night will turn to gray I know the stars will start to fade When all the darkness fades away We had to steal him from his fate So he could see another day Then I cracked open my box Someone must have picked the lock A little light revealed the spot Where my fingernails had fought Then I pushed it open more, Pushing up against the door Then I sat up off the floor And found the breath I was searching for Then there were three men up front All I saw were backs of heads And then I asked them am I alive and well or am I dreaming dead And then one turned around to say We\\'re driving toward the morning sun Where all your blood is washed away And all you did will be undone I said, don\\'t be afraid I said, don\\'t be afraid Open the slits in your face and start your day You don\\'t have much time to make your slits look just right I\\'m in your mind I\\'m singing I\\'m in your mind I\\'m singing La da, la da, la da, la da, la da, la da Look in the mirror and ask your soul if you\\'re alright Put out the glitter that your soul hides behind You\\'re in my mind I\\'m singing You\\'re in my mind I\\'m singing La da, la da, la da, la da, la da, la da Nowhere were they holy Open up your eyes and see The clouds above will hold you The clouds above will sing And in your mind You\\'re singing La da, la da, la da, la da, la da, la da Hello, we haven\\'t talked in quite some time I know, I haven\\'t been the best of sons Hello, I\\'ve been traveling in the deserts of my mind And I haven\\'t found a drop Of life I haven\\'t found a drop of you I haven\\'t found a drop I haven\\'t found a drop Of water Water I try desperately to run through the sand As I hold the water in the palm of my hand \\'Cause it\\'s all that I have And it\\'s all that I need and The waves of the water mean nothing to me But I try my best and all that I can to Hold tightly onto What\\'s left in my hand But no matter how How tightly I will strain The sand will slow me down And the water will drain I\\'m just being dramatic In fact, I\\'m only at it again As an addict with a pen Who\\'s addicted to the wind as it blows me back and forth Mindless, spineless, and pretend Of course, I\\'ll be here again See you tomorrow But it\\'s the end of today End of my ways as a walking denial My trial was filed as a crazy, suicidal head-case But you specialize in dying You hear me screaming \"Father!\" And I\\'m lying here just crying So wash me with your water Water Hello, we haven\\'t talked in quite some time I know, I haven\\'t been the best of sons Hello, I\\'ve been traveling in the deserts of my mind And I haven\\'t found a drop Of life I haven\\'t found a drop of you I haven\\'t found a drop I haven\\'t found a drop Of water'"
            ],
            "application/vnd.google.colaboratory.intrinsic+json": {
              "type": "string"
            }
          },
          "metadata": {},
          "execution_count": 19
        }
      ]
    },
    {
      "cell_type": "code",
      "metadata": {
        "id": "_KlsYd7_uOez",
        "colab": {
          "base_uri": "https://localhost:8080/"
        },
        "outputId": "9af42530-8e1f-42f4-ee3b-1e322d8c7f6b"
      },
      "source": [
        "# Transformar el corpus a tokens\n",
        "tokens=text_to_word_sequence(corpus)\n",
        "# Vistazo general de los primeros tokens\n",
        "tokens[:20]"
      ],
      "execution_count": 20,
      "outputs": [
        {
          "output_type": "execute_result",
          "data": {
            "text/plain": [
              "['i',\n",
              " 'wish',\n",
              " 'i',\n",
              " 'found',\n",
              " 'some',\n",
              " 'better',\n",
              " 'sounds',\n",
              " 'no',\n",
              " \"one's\",\n",
              " 'ever',\n",
              " 'heard',\n",
              " 'i',\n",
              " 'wish',\n",
              " 'i',\n",
              " 'had',\n",
              " 'a',\n",
              " 'better',\n",
              " 'voice',\n",
              " 'that',\n",
              " 'sang']"
            ]
          },
          "metadata": {},
          "execution_count": 20
        }
      ]
    },
    {
      "cell_type": "code",
      "metadata": {
        "id": "GlqpZSJOJ1xQ",
        "colab": {
          "base_uri": "https://localhost:8080/"
        },
        "outputId": "8ad6d591-0389-48a7-faaa-aed389f41145"
      },
      "source": [
        "print(\"Cantidad de tokens en el corpus:\", len(tokens))"
      ],
      "execution_count": 21,
      "outputs": [
        {
          "output_type": "stream",
          "name": "stdout",
          "text": [
            "Cantidad de tokens en el corpus: 13158\n"
          ]
        }
      ]
    },
    {
      "cell_type": "code",
      "metadata": {
        "id": "RhQevOynuYk2"
      },
      "source": [
        "# Código para hacer el desfazaje de las palabras\n",
        "# según el train_len\n",
        "text_sequences = []\n",
        "for i in range(train_len, len(tokens)):\n",
        "  seq = tokens[i-train_len:i]\n",
        "  text_sequences.append(seq)"
      ],
      "execution_count": 22,
      "outputs": []
    },
    {
      "cell_type": "code",
      "metadata": {
        "id": "FU3FuqHSuhzq",
        "colab": {
          "base_uri": "https://localhost:8080/"
        },
        "outputId": "057126b7-8505-46ae-ea94-5f99b1b9b130"
      },
      "source": [
        "# Demos un vistazo a nuestros vectores para entrenar el modelo\n",
        "text_sequences[:20]"
      ],
      "execution_count": 23,
      "outputs": [
        {
          "output_type": "execute_result",
          "data": {
            "text/plain": [
              "[['i', 'wish', 'i', 'found'],\n",
              " ['wish', 'i', 'found', 'some'],\n",
              " ['i', 'found', 'some', 'better'],\n",
              " ['found', 'some', 'better', 'sounds'],\n",
              " ['some', 'better', 'sounds', 'no'],\n",
              " ['better', 'sounds', 'no', \"one's\"],\n",
              " ['sounds', 'no', \"one's\", 'ever'],\n",
              " ['no', \"one's\", 'ever', 'heard'],\n",
              " [\"one's\", 'ever', 'heard', 'i'],\n",
              " ['ever', 'heard', 'i', 'wish'],\n",
              " ['heard', 'i', 'wish', 'i'],\n",
              " ['i', 'wish', 'i', 'had'],\n",
              " ['wish', 'i', 'had', 'a'],\n",
              " ['i', 'had', 'a', 'better'],\n",
              " ['had', 'a', 'better', 'voice'],\n",
              " ['a', 'better', 'voice', 'that'],\n",
              " ['better', 'voice', 'that', 'sang'],\n",
              " ['voice', 'that', 'sang', 'some'],\n",
              " ['that', 'sang', 'some', 'better'],\n",
              " ['sang', 'some', 'better', 'words']]"
            ]
          },
          "metadata": {},
          "execution_count": 23
        }
      ]
    },
    {
      "cell_type": "code",
      "metadata": {
        "id": "064N2jtLvHRg",
        "colab": {
          "base_uri": "https://localhost:8080/"
        },
        "outputId": "ca17e744-6004-439f-d08d-25efbe0b0e9b"
      },
      "source": [
        "# Proceso de tokenizacion\n",
        "tok = Tokenizer() \n",
        "tok.fit_on_texts(text_sequences) \n",
        "\n",
        "# Convertimos las palabras a números\n",
        "# entran palabras -> salen números\n",
        "sequences = tok.texts_to_sequences(text_sequences)\n",
        "\n",
        "# Damos un vistazo\n",
        "sequences[:20]"
      ],
      "execution_count": 24,
      "outputs": [
        {
          "output_type": "execute_result",
          "data": {
            "text/plain": [
              "[[1, 213, 1, 154],\n",
              " [213, 1, 154, 155],\n",
              " [1, 154, 155, 179],\n",
              " [154, 155, 179, 902],\n",
              " [155, 179, 902, 34],\n",
              " [179, 902, 34, 658],\n",
              " [902, 34, 658, 116],\n",
              " [34, 658, 116, 180],\n",
              " [658, 116, 180, 1],\n",
              " [116, 180, 1, 213],\n",
              " [180, 1, 213, 1],\n",
              " [1, 213, 1, 254],\n",
              " [213, 1, 254, 7],\n",
              " [1, 254, 7, 179],\n",
              " [254, 7, 179, 903],\n",
              " [7, 179, 903, 17],\n",
              " [179, 903, 17, 230],\n",
              " [903, 17, 230, 155],\n",
              " [17, 230, 155, 179],\n",
              " [230, 155, 179, 231]]"
            ]
          },
          "metadata": {},
          "execution_count": 24
        }
      ]
    },
    {
      "cell_type": "code",
      "metadata": {
        "id": "vwsvmvDKKXSP",
        "colab": {
          "base_uri": "https://localhost:8080/"
        },
        "outputId": "8975f86c-d7bd-44c2-ff7a-02234594efdf"
      },
      "source": [
        "print(\"Cantidad de rows del dataset:\", len(sequences))"
      ],
      "execution_count": 25,
      "outputs": [
        {
          "output_type": "stream",
          "name": "stdout",
          "text": [
            "Cantidad de rows del dataset: 13154\n"
          ]
        }
      ]
    },
    {
      "cell_type": "markdown",
      "metadata": {
        "id": "QMVP4bj0vL2e"
      },
      "source": [
        "### 3 - Input y target"
      ]
    },
    {
      "cell_type": "code",
      "metadata": {
        "id": "mx2xwdz3KloJ",
        "colab": {
          "base_uri": "https://localhost:8080/"
        },
        "outputId": "28b1610e-1867-4393-c501-f4a6be0ce90e"
      },
      "source": [
        "# Con numpy es muy fácil realizar el slicing de vectores\n",
        "ex = np.array([[1,2,3,4],[5,6,7,8]])\n",
        "ex"
      ],
      "execution_count": 26,
      "outputs": [
        {
          "output_type": "execute_result",
          "data": {
            "text/plain": [
              "array([[1, 2, 3, 4],\n",
              "       [5, 6, 7, 8]])"
            ]
          },
          "metadata": {},
          "execution_count": 26
        }
      ]
    },
    {
      "cell_type": "code",
      "metadata": {
        "id": "BEod7qghvTVt",
        "colab": {
          "base_uri": "https://localhost:8080/"
        },
        "outputId": "b2ce193c-0e4b-4660-b17d-407d383de95d"
      },
      "source": [
        "# Con numpy es muy fácil realizar el slicing de vectores\n",
        "print(\"Dimension:\", ex.shape)\n",
        "print(\"Todos los elementos:\", ex)\n",
        "print(\"Todos los elementos menos el último:\", ex[:, :-1])"
      ],
      "execution_count": 27,
      "outputs": [
        {
          "output_type": "stream",
          "name": "stdout",
          "text": [
            "Dimension: (2, 4)\n",
            "Todos los elementos: [[1 2 3 4]\n",
            " [5 6 7 8]]\n",
            "Todos los elementos menos el último: [[1 2 3]\n",
            " [5 6 7]]\n"
          ]
        }
      ]
    },
    {
      "cell_type": "code",
      "metadata": {
        "id": "i95xWqtCvp8T",
        "colab": {
          "base_uri": "https://localhost:8080/"
        },
        "outputId": "14dca928-d7d6-46c1-9ce7-48fe1f2bf4b5"
      },
      "source": [
        "input = ex[:,:-1] # todos los rows, menos la ultima col\n",
        "target = ex[:, -1] # última col de cada row\n",
        "\n",
        "print(\"Input:\", input)\n",
        "print(\"Target:\", target)"
      ],
      "execution_count": 28,
      "outputs": [
        {
          "output_type": "stream",
          "name": "stdout",
          "text": [
            "Input: [[1 2 3]\n",
            " [5 6 7]]\n",
            "Target: [4 8]\n"
          ]
        }
      ]
    },
    {
      "cell_type": "code",
      "metadata": {
        "id": "e1vJTG65v4Qn",
        "colab": {
          "base_uri": "https://localhost:8080/"
        },
        "outputId": "3746085a-7ccb-415c-ccf1-72a602d2f868"
      },
      "source": [
        "arr_sequences = np.array(sequences)\n",
        "x_data = arr_sequences[:,:-1]\n",
        "y_data_int = arr_sequences[:,-1] # aún falta el oneHotEncoder\n",
        "\n",
        "print(x_data.shape)\n",
        "print(y_data_int.shape)"
      ],
      "execution_count": 29,
      "outputs": [
        {
          "output_type": "stream",
          "name": "stdout",
          "text": [
            "(13154, 3)\n",
            "(13154,)\n"
          ]
        }
      ]
    },
    {
      "cell_type": "code",
      "metadata": {
        "id": "ln6kVWVlwBBs",
        "colab": {
          "base_uri": "https://localhost:8080/"
        },
        "outputId": "f40ea6cb-d187-4840-9a30-83bd867e0ba0"
      },
      "source": [
        "# Palabras del vocabulario\n",
        "tok.index_word"
      ],
      "execution_count": 30,
      "outputs": [
        {
          "output_type": "execute_result",
          "data": {
            "text/plain": [
              "{1: 'i',\n",
              " 2: 'the',\n",
              " 3: 'you',\n",
              " 4: 'to',\n",
              " 5: 'my',\n",
              " 6: 'and',\n",
              " 7: 'a',\n",
              " 8: \"i'm\",\n",
              " 9: 'oh',\n",
              " 10: 'me',\n",
              " 11: 'in',\n",
              " 12: 'it',\n",
              " 13: 'is',\n",
              " 14: 'know',\n",
              " 15: 'na',\n",
              " 16: \"don't\",\n",
              " 17: 'that',\n",
              " 18: 'on',\n",
              " 19: 'they',\n",
              " 20: 'but',\n",
              " 21: 'we',\n",
              " 22: 'for',\n",
              " 23: 'of',\n",
              " 24: 'your',\n",
              " 25: 'with',\n",
              " 26: 'this',\n",
              " 27: 'da',\n",
              " 28: 'when',\n",
              " 29: \"i'll\",\n",
              " 30: 'will',\n",
              " 31: 'all',\n",
              " 32: \"it's\",\n",
              " 33: 'be',\n",
              " 34: 'no',\n",
              " 35: 'now',\n",
              " 36: 'can',\n",
              " 37: 'have',\n",
              " 38: 'so',\n",
              " 39: 'up',\n",
              " 40: 'time',\n",
              " 41: \"i've\",\n",
              " 42: 'what',\n",
              " 43: 'out',\n",
              " 44: 'yeah',\n",
              " 45: \"you're\",\n",
              " 46: 'take',\n",
              " 47: 'just',\n",
              " 48: 'not',\n",
              " 49: 'need',\n",
              " 50: 'if',\n",
              " 51: 'like',\n",
              " 52: 'go',\n",
              " 53: 'down',\n",
              " 54: 'one',\n",
              " 55: 'away',\n",
              " 56: 'our',\n",
              " 57: 'are',\n",
              " 58: 'save',\n",
              " 59: 'been',\n",
              " 60: 'let',\n",
              " 61: 'run',\n",
              " 62: 'want',\n",
              " 63: 'from',\n",
              " 64: 'la',\n",
              " 65: 'way',\n",
              " 66: 'say',\n",
              " 67: 'soul',\n",
              " 68: 'keep',\n",
              " 69: 'people',\n",
              " 70: 'eh',\n",
              " 71: 'good',\n",
              " 72: \"we're\",\n",
              " 73: 'get',\n",
              " 74: \"'cause\",\n",
              " 75: 'stay',\n",
              " 76: 'too',\n",
              " 77: 'fall',\n",
              " 78: 'mm',\n",
              " 79: 'make',\n",
              " 80: 'them',\n",
              " 81: 'or',\n",
              " 82: 'jumpsuit',\n",
              " 83: 'am',\n",
              " 84: 'think',\n",
              " 85: 'at',\n",
              " 86: 'he',\n",
              " 87: 'tell',\n",
              " 88: 'an',\n",
              " 89: 'us',\n",
              " 90: 'sleep',\n",
              " 91: 'where',\n",
              " 92: 'who',\n",
              " 93: 'please',\n",
              " 94: 'wanna',\n",
              " 95: 'got',\n",
              " 96: 'back',\n",
              " 97: 'never',\n",
              " 98: 'try',\n",
              " 99: \"won't\",\n",
              " 100: 'how',\n",
              " 101: 'day',\n",
              " 102: 'much',\n",
              " 103: 'see',\n",
              " 104: 'by',\n",
              " 105: 'someone',\n",
              " 106: 'call',\n",
              " 107: 'dum',\n",
              " 108: 'come',\n",
              " 109: 'only',\n",
              " 110: 'mind',\n",
              " 111: 'do',\n",
              " 112: 'thinking',\n",
              " 113: 'trying',\n",
              " 114: 'mmh',\n",
              " 115: \"that's\",\n",
              " 116: 'ever',\n",
              " 117: 'could',\n",
              " 118: \"can't\",\n",
              " 119: 'was',\n",
              " 120: 'would',\n",
              " 121: 'then',\n",
              " 122: 'right',\n",
              " 123: 'around',\n",
              " 124: 'over',\n",
              " 125: 'beat',\n",
              " 126: 'alive',\n",
              " 127: 'than',\n",
              " 128: 'these',\n",
              " 129: 'heavy',\n",
              " 130: 'feel',\n",
              " 131: 'as',\n",
              " 132: 'were',\n",
              " 133: 'else',\n",
              " 134: 'moment',\n",
              " 135: 'hello',\n",
              " 136: 'home',\n",
              " 137: 'used',\n",
              " 138: 'show',\n",
              " 139: 'taking',\n",
              " 140: 'thing',\n",
              " 141: 'heart',\n",
              " 142: 'above',\n",
              " 143: 'leave',\n",
              " 144: 'vibe',\n",
              " 145: \"she's\",\n",
              " 146: \"they're\",\n",
              " 147: 'should',\n",
              " 148: \"there's\",\n",
              " 149: 'cover',\n",
              " 150: 'fire',\n",
              " 151: 'almost',\n",
              " 152: 'behind',\n",
              " 153: 'set',\n",
              " 154: 'found',\n",
              " 155: 'some',\n",
              " 156: 'sometimes',\n",
              " 157: \"you'll\",\n",
              " 158: 'said',\n",
              " 159: 'help',\n",
              " 160: 'dirty',\n",
              " 161: 'morph',\n",
              " 162: 'why',\n",
              " 163: 'song',\n",
              " 164: 'breath',\n",
              " 165: 'bada',\n",
              " 166: 'face',\n",
              " 167: 'singing',\n",
              " 168: 'room',\n",
              " 169: 'through',\n",
              " 170: 'there',\n",
              " 171: 'place',\n",
              " 172: 'made',\n",
              " 173: 'moving',\n",
              " 174: 'life',\n",
              " 175: \"'em\",\n",
              " 176: 'boy',\n",
              " 177: 'highway',\n",
              " 178: 'free',\n",
              " 179: 'better',\n",
              " 180: 'heard',\n",
              " 181: 'days',\n",
              " 182: 'nothing',\n",
              " 183: 'far',\n",
              " 184: 'friends',\n",
              " 185: 'here',\n",
              " 186: 'about',\n",
              " 187: 'feet',\n",
              " 188: 'blood',\n",
              " 189: 'under',\n",
              " 190: 'chemical',\n",
              " 191: 'sit',\n",
              " 192: 'lane',\n",
              " 193: 'faith',\n",
              " 194: \"haven't\",\n",
              " 195: 'forget',\n",
              " 196: 'outside',\n",
              " 197: 'find',\n",
              " 198: 'hard',\n",
              " 199: 'ride',\n",
              " 200: 'start',\n",
              " 201: 'anyone',\n",
              " 202: 'plans',\n",
              " 203: 'hands',\n",
              " 204: 'little',\n",
              " 205: 'tomorrow',\n",
              " 206: 'east',\n",
              " 207: 'high',\n",
              " 208: 'move',\n",
              " 209: 'gone',\n",
              " 210: 'tear',\n",
              " 211: 'his',\n",
              " 212: 'street',\n",
              " 213: 'wish',\n",
              " 214: 'new',\n",
              " 215: 'turn',\n",
              " 216: 'pretend',\n",
              " 217: 'slow',\n",
              " 218: 'guns',\n",
              " 219: 'next',\n",
              " 220: 'stop',\n",
              " 221: 'sing',\n",
              " 222: 'hear',\n",
              " 223: 'neon',\n",
              " 224: 'gravestones',\n",
              " 225: 'alone',\n",
              " 226: 'fairly',\n",
              " 227: 'judge',\n",
              " 228: 'somebody',\n",
              " 229: 'entertain',\n",
              " 230: 'sang',\n",
              " 231: 'words',\n",
              " 232: 'every',\n",
              " 233: \"i'd\",\n",
              " 234: 'play',\n",
              " 235: 'wait',\n",
              " 236: 'mean',\n",
              " 237: 'die',\n",
              " 238: 'nah',\n",
              " 239: 'two',\n",
              " 240: 'love',\n",
              " 241: 'straight',\n",
              " 242: 'everyone',\n",
              " 243: 'must',\n",
              " 244: 'together',\n",
              " 245: 'use',\n",
              " 246: 'local',\n",
              " 247: 'few',\n",
              " 248: 'inside',\n",
              " 249: 'trees',\n",
              " 250: 'holding',\n",
              " 251: 'sideways',\n",
              " 252: 'she',\n",
              " 253: 'reign',\n",
              " 254: 'had',\n",
              " 255: 'told',\n",
              " 256: 'old',\n",
              " 257: 'house',\n",
              " 258: 'build',\n",
              " 259: 'money',\n",
              " 260: 'ask',\n",
              " 261: 'trust',\n",
              " 262: \"fallin'\",\n",
              " 263: 'something',\n",
              " 264: 'break',\n",
              " 265: 'pain',\n",
              " 266: 'ghost',\n",
              " 267: \"he's\",\n",
              " 268: 'those',\n",
              " 269: 'him',\n",
              " 270: 'head',\n",
              " 271: 'name',\n",
              " 272: 'medical',\n",
              " 273: 'last',\n",
              " 274: 'hold',\n",
              " 275: 'radio',\n",
              " 276: 'car',\n",
              " 277: 'three',\n",
              " 278: 'morning',\n",
              " 279: 'lyrics',\n",
              " 280: 'open',\n",
              " 281: 'eyes',\n",
              " 282: 'afraid',\n",
              " 283: 'silence',\n",
              " 284: 'skin',\n",
              " 285: 'angel',\n",
              " 286: 'mulberry',\n",
              " 287: 'drop',\n",
              " 288: 'momma',\n",
              " 289: 'stressed',\n",
              " 290: 'different',\n",
              " 291: 'door',\n",
              " 292: 'change',\n",
              " 293: 'well',\n",
              " 294: 'man',\n",
              " 295: 'live',\n",
              " 296: 'even',\n",
              " 297: 'still',\n",
              " 298: 'understand',\n",
              " 299: 'walking',\n",
              " 300: 'once',\n",
              " 301: 'death',\n",
              " 302: 'believe',\n",
              " 303: 'though',\n",
              " 304: 'thought',\n",
              " 305: 'ground',\n",
              " 306: \"let's\",\n",
              " 307: 'until',\n",
              " 308: \"sippin'\",\n",
              " 309: 'chlorine',\n",
              " 310: 'catch',\n",
              " 311: 'control',\n",
              " 312: 'bones',\n",
              " 313: 'lose',\n",
              " 314: 'wrong',\n",
              " 315: 'fine',\n",
              " 316: 'fill',\n",
              " 317: 'best',\n",
              " 318: 'put',\n",
              " 319: 'clouds',\n",
              " 320: \"ain't\",\n",
              " 321: 'stand',\n",
              " 322: 'hey',\n",
              " 323: 'shy',\n",
              " 324: 'ooh',\n",
              " 325: 'piece',\n",
              " 326: 'water',\n",
              " 327: 'coming',\n",
              " 328: 'same',\n",
              " 329: 'give',\n",
              " 330: 'other',\n",
              " 331: 'wake',\n",
              " 332: 'heathens',\n",
              " 333: 'half',\n",
              " 334: 'sitting',\n",
              " 335: 'tried',\n",
              " 336: 'sun',\n",
              " 337: 'pieces',\n",
              " 338: 'end',\n",
              " 339: 'everybody',\n",
              " 340: 'clean',\n",
              " 341: 'therefore',\n",
              " 342: 'uh',\n",
              " 343: 'dead',\n",
              " 344: 'underneath',\n",
              " 345: 'throat',\n",
              " 346: 'levitate',\n",
              " 347: 'things',\n",
              " 348: 'asleep',\n",
              " 349: 'enough',\n",
              " 350: 'today',\n",
              " 351: 'close',\n",
              " 352: 'lights',\n",
              " 353: 'done',\n",
              " 354: 'light',\n",
              " 355: 'vibes',\n",
              " 356: \"runnin'\",\n",
              " 357: 'li',\n",
              " 358: 'fe',\n",
              " 359: 'sorry',\n",
              " 360: 'low',\n",
              " 361: 'dema',\n",
              " 362: 'takes',\n",
              " 363: 'win',\n",
              " 364: 'more',\n",
              " 365: 'before',\n",
              " 366: 'seen',\n",
              " 367: 'emotional',\n",
              " 368: 'gonna',\n",
              " 369: 'has',\n",
              " 370: 'again',\n",
              " 371: \"we've\",\n",
              " 372: 'brain',\n",
              " 373: 'line',\n",
              " 374: 'goner',\n",
              " 375: 'known',\n",
              " 376: 'ah',\n",
              " 377: 'side',\n",
              " 378: 'dying',\n",
              " 379: 'silent',\n",
              " 380: 'walk',\n",
              " 381: 'fallen',\n",
              " 382: \"i'ma\",\n",
              " 383: \"comin'\",\n",
              " 384: 'redecorate',\n",
              " 385: 'chances',\n",
              " 386: 'destroy',\n",
              " 387: 'care',\n",
              " 388: \"name's\",\n",
              " 389: 'cause',\n",
              " 390: 'fly',\n",
              " 391: 'dream',\n",
              " 392: 'any',\n",
              " 393: 'moves',\n",
              " 394: 'abuse',\n",
              " 395: 'welcome',\n",
              " 396: \"mind's\",\n",
              " 397: 'hope',\n",
              " 398: 'lost',\n",
              " 399: 'hate',\n",
              " 400: 'off',\n",
              " 401: \"shouldn't\",\n",
              " 402: 'bought',\n",
              " 403: 'slot',\n",
              " 404: 'replace',\n",
              " 405: 'least',\n",
              " 406: 'truly',\n",
              " 407: 'while',\n",
              " 408: 'pick',\n",
              " 409: 'going',\n",
              " 410: 'always',\n",
              " 411: 'fight',\n",
              " 412: 'calling',\n",
              " 413: 'times',\n",
              " 414: 'rebel',\n",
              " 415: 'higher',\n",
              " 416: \"we'll\",\n",
              " 417: \"what's\",\n",
              " 418: 'problem',\n",
              " 419: 'ceiling',\n",
              " 420: 'left',\n",
              " 421: 'tired',\n",
              " 422: 'shadows',\n",
              " 423: 'yo',\n",
              " 424: 'driving',\n",
              " 425: 'seems',\n",
              " 426: 'denial',\n",
              " 427: 'suicidal',\n",
              " 428: \"aren't\",\n",
              " 429: \"singin'\",\n",
              " 430: 'wrote',\n",
              " 431: 'become',\n",
              " 432: 'night',\n",
              " 433: 'sound',\n",
              " 434: 'scream',\n",
              " 435: 'thoughts',\n",
              " 436: 'look',\n",
              " 437: 'running',\n",
              " 438: 'favorite',\n",
              " 439: 'pushing',\n",
              " 440: 'heads',\n",
              " 441: 'rhyme',\n",
              " 442: 'blurryface',\n",
              " 443: 'sell',\n",
              " 444: 'probably',\n",
              " 445: 'clothes',\n",
              " 446: 'throw',\n",
              " 447: 'really',\n",
              " 448: \"we'd\",\n",
              " 449: 'sudden',\n",
              " 450: 'hand',\n",
              " 451: 'very',\n",
              " 452: 'watch',\n",
              " 453: 'knew',\n",
              " 454: \"takin'\",\n",
              " 455: 'bullet',\n",
              " 456: 'many',\n",
              " 457: 'questions',\n",
              " 458: \"wasn't\",\n",
              " 459: 'crazy',\n",
              " 460: 'inspires',\n",
              " 461: 'pressures',\n",
              " 462: 'roll',\n",
              " 463: 'grab',\n",
              " 464: 'tie',\n",
              " 465: 'both',\n",
              " 466: 'learned',\n",
              " 467: 'fell',\n",
              " 468: 'depend',\n",
              " 469: 'weekends',\n",
              " 470: 'freezing',\n",
              " 471: 'comes',\n",
              " 472: 'lot',\n",
              " 473: 'track',\n",
              " 474: 'surrounded',\n",
              " 475: 'defense',\n",
              " 476: 'mechanism',\n",
              " 477: 'mode',\n",
              " 478: 'pull',\n",
              " 479: 'complete',\n",
              " 480: 'lead',\n",
              " 481: 'forgot',\n",
              " 482: 'pay',\n",
              " 483: 'quite',\n",
              " 484: 'their',\n",
              " 485: 'kid',\n",
              " 486: 'city',\n",
              " 487: 'songs',\n",
              " 488: 'music',\n",
              " 489: 'holes',\n",
              " 490: 'streets',\n",
              " 491: 'proud',\n",
              " 492: 'asked',\n",
              " 493: 'mask',\n",
              " 494: 'join',\n",
              " 495: 'kids',\n",
              " 496: 'wanted',\n",
              " 497: 'discretion',\n",
              " 498: 'messing',\n",
              " 499: 'message',\n",
              " 500: 'awake',\n",
              " 501: 'kicked',\n",
              " 502: 'yelling',\n",
              " 503: 'surrounding',\n",
              " 504: 'surroundings',\n",
              " 505: 'lean',\n",
              " 506: 'rock',\n",
              " 507: 'gifted',\n",
              " 508: 'introspective',\n",
              " 509: 'speakers',\n",
              " 510: 'bump',\n",
              " 511: 'hearts',\n",
              " 512: 'waging',\n",
              " 513: 'wars',\n",
              " 514: 'weather',\n",
              " 515: 'begin',\n",
              " 516: 'often',\n",
              " 517: 'ought',\n",
              " 518: 'stole',\n",
              " 519: 'dad',\n",
              " 520: 'her',\n",
              " 521: 'born',\n",
              " 522: 'choker',\n",
              " 523: \"nobody's\",\n",
              " 524: 'floor',\n",
              " 525: 'searching',\n",
              " 526: 'feeling',\n",
              " 527: \"isn't\",\n",
              " 528: 'long',\n",
              " 529: 'bliss',\n",
              " 530: 'sidewalk',\n",
              " 531: 'nodding',\n",
              " 532: \"vibin'\",\n",
              " 533: 'decisions',\n",
              " 534: 'wondering',\n",
              " 535: 'display',\n",
              " 536: 'soon',\n",
              " 537: 'hurt',\n",
              " 538: 'moth',\n",
              " 539: 'ate',\n",
              " 540: 'shirt',\n",
              " 541: 'fertilize',\n",
              " 542: \"didn't\",\n",
              " 543: 'certain',\n",
              " 544: 'smell',\n",
              " 545: 'each',\n",
              " 546: 'names',\n",
              " 547: 'rocket',\n",
              " 548: 'ship',\n",
              " 549: 'outer',\n",
              " 550: 'space',\n",
              " 551: 'laughing',\n",
              " 552: 'saying',\n",
              " 553: 'because',\n",
              " 554: 'did',\n",
              " 555: 'might',\n",
              " 556: 'peace',\n",
              " 557: 'list',\n",
              " 558: 'seem',\n",
              " 559: 'true',\n",
              " 560: 'talking',\n",
              " 561: 'real',\n",
              " 562: 'kill',\n",
              " 563: 'another',\n",
              " 564: 'voices',\n",
              " 565: 'cry',\n",
              " 566: 'air',\n",
              " 567: 'breathe',\n",
              " 568: 'feed',\n",
              " 569: 'learn',\n",
              " 570: 'late',\n",
              " 571: 'hiding',\n",
              " 572: 'shadow',\n",
              " 573: 'hounded',\n",
              " 574: 'sleeve',\n",
              " 575: 'question',\n",
              " 576: \"me's\",\n",
              " 577: 'goes',\n",
              " 578: 'nico',\n",
              " 579: 'ones',\n",
              " 580: 'zeroes',\n",
              " 581: 'deserts',\n",
              " 582: 'slide',\n",
              " 583: 'seat',\n",
              " 584: 'body',\n",
              " 585: 'red',\n",
              " 586: 'sea',\n",
              " 587: 'fearless',\n",
              " 588: 'careless',\n",
              " 589: 'wear',\n",
              " 590: 'bishops',\n",
              " 591: 'opinion',\n",
              " 592: 'mourn',\n",
              " 593: 'myself',\n",
              " 594: 'onto',\n",
              " 595: 'form',\n",
              " 596: 'barely',\n",
              " 597: 'burning',\n",
              " 598: 'faces',\n",
              " 599: 'gotta',\n",
              " 600: 'okay',\n",
              " 601: 'whole',\n",
              " 602: 'avoid',\n",
              " 603: 'cut',\n",
              " 604: 'cold',\n",
              " 605: 'darkness',\n",
              " 606: 'fought',\n",
              " 607: 'shows',\n",
              " 608: 'scared',\n",
              " 609: 'between',\n",
              " 610: 'heat',\n",
              " 611: 'plead',\n",
              " 612: 'case',\n",
              " 613: \"soul's\",\n",
              " 614: \"hell's\",\n",
              " 615: 'hot',\n",
              " 616: 'reason',\n",
              " 617: 'hide',\n",
              " 618: 'happen',\n",
              " 619: 'turned',\n",
              " 620: 'simply',\n",
              " 621: 'shoot',\n",
              " 622: 'future',\n",
              " 623: 'release',\n",
              " 624: 'present',\n",
              " 625: 'obsessing',\n",
              " 626: 'session',\n",
              " 627: 'remember',\n",
              " 628: 'weak',\n",
              " 629: 'beaten',\n",
              " 630: 'slip',\n",
              " 631: 'into',\n",
              " 632: 'apart',\n",
              " 633: 'crime',\n",
              " 634: 'range',\n",
              " 635: 'migraine',\n",
              " 636: 'violent',\n",
              " 637: 'land',\n",
              " 638: 'ponder',\n",
              " 639: 'great',\n",
              " 640: 'ruby',\n",
              " 641: 'sky',\n",
              " 642: 'key',\n",
              " 643: 'sunshine',\n",
              " 644: 'buzz',\n",
              " 645: 'circumstance',\n",
              " 646: 'sand',\n",
              " 647: 'shed',\n",
              " 648: 'modesty',\n",
              " 649: 'manifest',\n",
              " 650: 'tape',\n",
              " 651: 'hit',\n",
              " 652: 'club',\n",
              " 653: 'bodies',\n",
              " 654: 'pantaloon',\n",
              " 655: 'either',\n",
              " 656: 'cab',\n",
              " 657: 'men',\n",
              " 658: \"one's\",\n",
              " 659: 'chords',\n",
              " 660: 'fears',\n",
              " 661: 'able',\n",
              " 662: 'brother',\n",
              " 663: 'grown',\n",
              " 664: 'tree',\n",
              " 665: \"doesn't\",\n",
              " 666: \"how'd\",\n",
              " 667: 'after',\n",
              " 668: 'deal',\n",
              " 669: 'stayed',\n",
              " 670: 'looks',\n",
              " 671: \"sun's\",\n",
              " 672: 'fun',\n",
              " 673: 'fantasize',\n",
              " 674: 'bullets',\n",
              " 675: 'metaphorically',\n",
              " 676: 'harder',\n",
              " 677: 'write',\n",
              " 678: 'lie',\n",
              " 679: 'smoke',\n",
              " 680: 'rap',\n",
              " 681: 'writing',\n",
              " 682: 'gangsters',\n",
              " 683: 'mr',\n",
              " 684: 'misty',\n",
              " 685: 'eyed',\n",
              " 686: 'already',\n",
              " 687: 'mindless',\n",
              " 688: \"you've\",\n",
              " 689: 'dog',\n",
              " 690: 'rabbit',\n",
              " 691: 'felt',\n",
              " 692: 'lift',\n",
              " 693: 'since',\n",
              " 694: 'seventh',\n",
              " 695: 'grade',\n",
              " 696: 'cowards',\n",
              " 697: \"hour's\",\n",
              " 698: \"everyone's\",\n",
              " 699: 'curse',\n",
              " 700: 'first',\n",
              " 701: 'culture',\n",
              " 702: 'lit',\n",
              " 703: 'sever',\n",
              " 704: 'test',\n",
              " 705: 'wooden',\n",
              " 706: 'wedges',\n",
              " 707: 'chorus',\n",
              " 708: 'verse',\n",
              " 709: 'feels',\n",
              " 710: 'blind',\n",
              " 711: 'belief',\n",
              " 712: 'sword',\n",
              " 713: 'scientific',\n",
              " 714: 'miracle',\n",
              " 715: 'remains',\n",
              " 716: 'possible',\n",
              " 717: 'starts',\n",
              " 718: 'wonder',\n",
              " 719: 'most',\n",
              " 720: 'secret',\n",
              " 721: 'facing',\n",
              " 722: 'dark',\n",
              " 723: 'against',\n",
              " 724: 'yourself',\n",
              " 725: 'pin',\n",
              " 726: 'tongue',\n",
              " 727: 'walls',\n",
              " 728: 'lives',\n",
              " 729: 'may',\n",
              " 730: 'tested',\n",
              " 731: 'razorblades',\n",
              " 732: 'yet',\n",
              " 733: 'steady',\n",
              " 734: 'lighter',\n",
              " 735: 'lower',\n",
              " 736: 'flying',\n",
              " 737: 'niners',\n",
              " 738: 'maybe',\n",
              " 739: 'race',\n",
              " 740: 'insane',\n",
              " 741: 'wits',\n",
              " 742: 'praise',\n",
              " 743: 'further',\n",
              " 744: 'grave',\n",
              " 745: 'loud',\n",
              " 746: 'promise',\n",
              " 747: 'rise',\n",
              " 748: 'longer',\n",
              " 749: 'sake',\n",
              " 750: 'weapon',\n",
              " 751: 'pleading',\n",
              " 752: 'collected',\n",
              " 753: 'year',\n",
              " 754: 'pace',\n",
              " 755: 'bleed',\n",
              " 756: 'drove',\n",
              " 757: 'cursing',\n",
              " 758: 'government',\n",
              " 759: 'using',\n",
              " 760: 'taxes',\n",
              " 761: 'cement',\n",
              " 762: 'armor',\n",
              " 763: 'carver',\n",
              " 764: 'butcher',\n",
              " 765: 'smile',\n",
              " 766: 'farther',\n",
              " 767: 'evil',\n",
              " 768: 'core',\n",
              " 769: 'chance',\n",
              " 770: 'repeat',\n",
              " 771: \"yesterday's\",\n",
              " 772: 'dance',\n",
              " 773: 'clique',\n",
              " 774: 'vote',\n",
              " 775: 'bulletproof',\n",
              " 776: 'black',\n",
              " 777: 'funeral',\n",
              " 778: 'world',\n",
              " 779: 'changed',\n",
              " 780: 'hearing',\n",
              " 781: 'heartless',\n",
              " 782: 'perfect',\n",
              " 783: 'person',\n",
              " 784: 'flawless',\n",
              " 785: 'common',\n",
              " 786: 'bit',\n",
              " 787: 'gas',\n",
              " 788: 'likes',\n",
              " 789: 'dismal',\n",
              " 790: 'four',\n",
              " 791: 'route',\n",
              " 792: 'surrender',\n",
              " 793: 'revel',\n",
              " 794: 'devil',\n",
              " 795: 'ow',\n",
              " 796: 'safety',\n",
              " 797: 'hides',\n",
              " 798: 'disguise',\n",
              " 799: 'rip',\n",
              " 800: 'divided',\n",
              " 801: 'knows',\n",
              " 802: 'finally',\n",
              " 803: \"blurry's\",\n",
              " 804: 'leaving',\n",
              " 805: 'living',\n",
              " 806: 'moon',\n",
              " 807: 'pen',\n",
              " 808: \"dark's\",\n",
              " 809: 'prisoners',\n",
              " 810: 'tonight',\n",
              " 811: 'swear',\n",
              " 812: 'demons',\n",
              " 813: 'spelling',\n",
              " 814: 'threaten',\n",
              " 815: 'insignificant',\n",
              " 816: 'eve',\n",
              " 817: 'grace',\n",
              " 818: 'desperately',\n",
              " 819: \"'s\",\n",
              " 820: 'flesh',\n",
              " 821: 'sounding',\n",
              " 822: 'mountain',\n",
              " 823: 'twisting',\n",
              " 824: 'kaleidoscope',\n",
              " 825: 'noose',\n",
              " 826: 'loose',\n",
              " 827: 'news',\n",
              " 828: 'bed',\n",
              " 829: 'being',\n",
              " 830: 'hates',\n",
              " 831: 'frame',\n",
              " 832: 'deny',\n",
              " 833: 'contents',\n",
              " 834: 'box',\n",
              " 835: 'island',\n",
              " 836: 'waves',\n",
              " 837: 'game',\n",
              " 838: 'played',\n",
              " 839: 'frozen',\n",
              " 840: 'hopeful',\n",
              " 841: 'undertone',\n",
              " 842: 'lungs',\n",
              " 843: 'deflate',\n",
              " 844: 'exhale',\n",
              " 845: 'desire',\n",
              " 846: 'dire',\n",
              " 847: 'course',\n",
              " 848: 'fear',\n",
              " 849: 'across',\n",
              " 850: 'speak',\n",
              " 851: 'standing',\n",
              " 852: 'cowardly',\n",
              " 853: 'week',\n",
              " 854: 'shade',\n",
              " 855: 'shada',\n",
              " 856: 'de',\n",
              " 857: 'wife',\n",
              " 858: \"today's\",\n",
              " 859: \"it'll\",\n",
              " 860: 'bother',\n",
              " 861: \"chokin'\",\n",
              " 862: \"smokin'\",\n",
              " 863: 'secondhand',\n",
              " 864: 'lay',\n",
              " 865: 'realize',\n",
              " 866: 'circle',\n",
              " 867: 'sunny',\n",
              " 868: 'rain',\n",
              " 869: 'pills',\n",
              " 870: 'drive',\n",
              " 871: 'beast',\n",
              " 872: 'cogs',\n",
              " 873: 'summer',\n",
              " 874: 'charge',\n",
              " 875: 'touch',\n",
              " 876: 'lived',\n",
              " 877: 'blankets',\n",
              " 878: 'mirror',\n",
              " 879: 'scaled',\n",
              " 880: 'isolated',\n",
              " 881: 'spent',\n",
              " 882: 'grind',\n",
              " 883: 'surveillances',\n",
              " 884: 'arrive',\n",
              " 885: 'son',\n",
              " 886: 'ahead',\n",
              " 887: 'ways',\n",
              " 888: 'a—way',\n",
              " 889: 'lying',\n",
              " 890: 'conscience',\n",
              " 891: 'wearing',\n",
              " 892: 'thin',\n",
              " 893: 'screaming',\n",
              " 894: 'chair',\n",
              " 895: 'colder',\n",
              " 896: 'grabbed',\n",
              " 897: 'slits',\n",
              " 898: 'talked',\n",
              " 899: 'sons',\n",
              " 900: 'traveling',\n",
              " 901: 'tightly',\n",
              " 902: 'sounds',\n",
              " 903: 'voice',\n",
              " 904: 'order',\n",
              " 905: 'older',\n",
              " 906: 'shrink',\n",
              " 907: 'insecure',\n",
              " 908: 'young',\n",
              " 909: 'identify',\n",
              " 910: 'candle',\n",
              " 911: \"it'd\",\n",
              " 912: 'nose',\n",
              " 913: \"stone's\",\n",
              " 914: 'creek',\n",
              " 915: 'roam',\n",
              " 916: 'remind',\n",
              " 917: 'mattered',\n",
              " 918: 'student',\n",
              " 919: 'loans',\n",
              " 920: 'homes',\n",
              " 921: 'latter',\n",
              " 922: 'rooms',\n",
              " 923: 'loved',\n",
              " 924: 'docked',\n",
              " 925: 'check',\n",
              " 926: 'brains',\n",
              " 927: 'grenades',\n",
              " 928: 'psychopath',\n",
              " 929: 'murderer',\n",
              " 930: 'outsiders',\n",
              " 931: 'newcomers',\n",
              " 932: 'issues',\n",
              " 933: 'mention',\n",
              " 934: 'intentions',\n",
              " 935: 'freak',\n",
              " 936: 'weird',\n",
              " 937: \"why'd\",\n",
              " 938: 'warn',\n",
              " 939: 'ready',\n",
              " 940: 'bust',\n",
              " 941: 'enemies',\n",
              " 942: \"wouldn't\",\n",
              " 943: 'easy',\n",
              " 944: 'literally',\n",
              " 945: 'ignore',\n",
              " 946: 'whoa',\n",
              " 947: 'infestation',\n",
              " 948: 'imagination',\n",
              " 949: 'choke',\n",
              " 950: 'smoking',\n",
              " 951: 'basement',\n",
              " 952: 'hip',\n",
              " 953: 'hop',\n",
              " 954: 'attempt',\n",
              " 955: 'rapping',\n",
              " 956: 'prove',\n",
              " 957: 'rushing',\n",
              " 958: 'guess',\n",
              " 959: 'zombies',\n",
              " 960: 'limp',\n",
              " 961: 'hunch',\n",
              " 962: 'stuff',\n",
              " 963: 'figure',\n",
              " 964: 'twist',\n",
              " 965: 'shout',\n",
              " 966: 'crumble',\n",
              " 967: 'weight',\n",
              " 968: 'spirits',\n",
              " 969: 'friend',\n",
              " 970: 'foe',\n",
              " 971: 'youth',\n",
              " 972: 'dusting',\n",
              " 973: 'danger',\n",
              " 974: 'fabric',\n",
              " 975: 'smirking',\n",
              " 976: 'circling',\n",
              " 977: 'graffiti',\n",
              " 978: 'passing',\n",
              " 979: 'train',\n",
              " 980: 'poacher',\n",
              " 981: 'overexposure',\n",
              " 982: 'vultures',\n",
              " 983: 'vulture',\n",
              " 984: 'feeds',\n",
              " 985: 'sleeping',\n",
              " 986: 'ledges',\n",
              " 987: 'doorways',\n",
              " 988: 'doors',\n",
              " 989: 'eight',\n",
              " 990: 'habits',\n",
              " 991: 'worst',\n",
              " 992: 'structure',\n",
              " 993: 'compensates',\n",
              " 994: 'compensation',\n",
              " 995: 'rising',\n",
              " 996: 'dominate',\n",
              " 997: 'cries',\n",
              " 998: 'purely',\n",
              " 999: 'panic',\n",
              " 1000: 'solemn',\n",
              " ...}"
            ]
          },
          "metadata": {},
          "execution_count": 30
        }
      ]
    },
    {
      "cell_type": "code",
      "metadata": {
        "id": "gJgVhq1zwEpf",
        "colab": {
          "base_uri": "https://localhost:8080/"
        },
        "outputId": "e2432f95-8680-4f69-812f-317c290a723b"
      },
      "source": [
        "# Cantidad de palabras en el vocabulario\n",
        "vocab_size = len(tok.word_counts)\n",
        "vocab_size"
      ],
      "execution_count": 31,
      "outputs": [
        {
          "output_type": "execute_result",
          "data": {
            "text/plain": [
              "1640"
            ]
          },
          "metadata": {},
          "execution_count": 31
        }
      ]
    },
    {
      "cell_type": "code",
      "metadata": {
        "id": "wKV85M2uwKJ9",
        "colab": {
          "base_uri": "https://localhost:8080/",
          "height": 304
        },
        "outputId": "d26797aa-096d-4c79-b78a-f5608aebb605"
      },
      "source": [
        "# Transformar los datos a oneHotEncoding\n",
        "y_data = to_categorical(y_data_int, num_classes=vocab_size)"
      ],
      "execution_count": 32,
      "outputs": [
        {
          "output_type": "error",
          "ename": "IndexError",
          "evalue": "ignored",
          "traceback": [
            "\u001b[0;31m---------------------------------------------------------------------------\u001b[0m",
            "\u001b[0;31mIndexError\u001b[0m                                Traceback (most recent call last)",
            "\u001b[0;32m<ipython-input-32-51c0d3e0c52c>\u001b[0m in \u001b[0;36m<module>\u001b[0;34m()\u001b[0m\n\u001b[1;32m      1\u001b[0m \u001b[0;31m# Transformar los datos a oneHotEncoding\u001b[0m\u001b[0;34m\u001b[0m\u001b[0;34m\u001b[0m\u001b[0;34m\u001b[0m\u001b[0m\n\u001b[0;32m----> 2\u001b[0;31m \u001b[0my_data\u001b[0m \u001b[0;34m=\u001b[0m \u001b[0mto_categorical\u001b[0m\u001b[0;34m(\u001b[0m\u001b[0my_data_int\u001b[0m\u001b[0;34m,\u001b[0m \u001b[0mnum_classes\u001b[0m\u001b[0;34m=\u001b[0m\u001b[0mvocab_size\u001b[0m\u001b[0;34m)\u001b[0m\u001b[0;34m\u001b[0m\u001b[0;34m\u001b[0m\u001b[0m\n\u001b[0m",
            "\u001b[0;32m/usr/local/lib/python3.7/dist-packages/keras/utils/np_utils.py\u001b[0m in \u001b[0;36mto_categorical\u001b[0;34m(y, num_classes, dtype)\u001b[0m\n\u001b[1;32m     69\u001b[0m   \u001b[0mn\u001b[0m \u001b[0;34m=\u001b[0m \u001b[0my\u001b[0m\u001b[0;34m.\u001b[0m\u001b[0mshape\u001b[0m\u001b[0;34m[\u001b[0m\u001b[0;36m0\u001b[0m\u001b[0;34m]\u001b[0m\u001b[0;34m\u001b[0m\u001b[0;34m\u001b[0m\u001b[0m\n\u001b[1;32m     70\u001b[0m   \u001b[0mcategorical\u001b[0m \u001b[0;34m=\u001b[0m \u001b[0mnp\u001b[0m\u001b[0;34m.\u001b[0m\u001b[0mzeros\u001b[0m\u001b[0;34m(\u001b[0m\u001b[0;34m(\u001b[0m\u001b[0mn\u001b[0m\u001b[0;34m,\u001b[0m \u001b[0mnum_classes\u001b[0m\u001b[0;34m)\u001b[0m\u001b[0;34m,\u001b[0m \u001b[0mdtype\u001b[0m\u001b[0;34m=\u001b[0m\u001b[0mdtype\u001b[0m\u001b[0;34m)\u001b[0m\u001b[0;34m\u001b[0m\u001b[0;34m\u001b[0m\u001b[0m\n\u001b[0;32m---> 71\u001b[0;31m   \u001b[0mcategorical\u001b[0m\u001b[0;34m[\u001b[0m\u001b[0mnp\u001b[0m\u001b[0;34m.\u001b[0m\u001b[0marange\u001b[0m\u001b[0;34m(\u001b[0m\u001b[0mn\u001b[0m\u001b[0;34m)\u001b[0m\u001b[0;34m,\u001b[0m \u001b[0my\u001b[0m\u001b[0;34m]\u001b[0m \u001b[0;34m=\u001b[0m \u001b[0;36m1\u001b[0m\u001b[0;34m\u001b[0m\u001b[0;34m\u001b[0m\u001b[0m\n\u001b[0m\u001b[1;32m     72\u001b[0m   \u001b[0moutput_shape\u001b[0m \u001b[0;34m=\u001b[0m \u001b[0minput_shape\u001b[0m \u001b[0;34m+\u001b[0m \u001b[0;34m(\u001b[0m\u001b[0mnum_classes\u001b[0m\u001b[0;34m,\u001b[0m\u001b[0;34m)\u001b[0m\u001b[0;34m\u001b[0m\u001b[0;34m\u001b[0m\u001b[0m\n\u001b[1;32m     73\u001b[0m   \u001b[0mcategorical\u001b[0m \u001b[0;34m=\u001b[0m \u001b[0mnp\u001b[0m\u001b[0;34m.\u001b[0m\u001b[0mreshape\u001b[0m\u001b[0;34m(\u001b[0m\u001b[0mcategorical\u001b[0m\u001b[0;34m,\u001b[0m \u001b[0moutput_shape\u001b[0m\u001b[0;34m)\u001b[0m\u001b[0;34m\u001b[0m\u001b[0;34m\u001b[0m\u001b[0m\n",
            "\u001b[0;31mIndexError\u001b[0m: index 1640 is out of bounds for axis 1 with size 1640"
          ]
        }
      ]
    },
    {
      "cell_type": "code",
      "metadata": {
        "id": "qWjNrNx9wM1b",
        "colab": {
          "base_uri": "https://localhost:8080/"
        },
        "outputId": "93233fcd-d527-48d4-df2d-26768ed8e4d0"
      },
      "source": [
        "# En el caso anterior explota porque y_data_int comienza en \"1\" en vez de \"0\"\n",
        "# valor minimo:\n",
        "min(y_data_int)"
      ],
      "execution_count": 33,
      "outputs": [
        {
          "output_type": "execute_result",
          "data": {
            "text/plain": [
              "1"
            ]
          },
          "metadata": {},
          "execution_count": 33
        }
      ]
    },
    {
      "cell_type": "code",
      "metadata": {
        "id": "gIg2e2WCwXbG",
        "colab": {
          "base_uri": "https://localhost:8080/"
        },
        "outputId": "b35f00a1-b83f-4eba-8224-7865d0fa4997"
      },
      "source": [
        "y_data_int_offset = y_data_int - 1\n",
        "y_data = to_categorical(y_data_int_offset, num_classes=vocab_size) \n",
        "y_data.shape"
      ],
      "execution_count": 34,
      "outputs": [
        {
          "output_type": "execute_result",
          "data": {
            "text/plain": [
              "(13154, 1640)"
            ]
          },
          "metadata": {},
          "execution_count": 34
        }
      ]
    },
    {
      "cell_type": "markdown",
      "metadata": {
        "id": "GmJWNyxQwfCE"
      },
      "source": [
        "### 4 - Entrenar el modelo"
      ]
    },
    {
      "cell_type": "code",
      "metadata": {
        "id": "0cOmNZT_weK2",
        "colab": {
          "base_uri": "https://localhost:8080/"
        },
        "outputId": "856e8d89-9550-4bcc-a3de-4e5b36fb2a01"
      },
      "source": [
        "# largo de la secuencia de entrada\n",
        "input_seq_len = x_data.shape[1] \n",
        "input_seq_len"
      ],
      "execution_count": 35,
      "outputs": [
        {
          "output_type": "execute_result",
          "data": {
            "text/plain": [
              "3"
            ]
          },
          "metadata": {},
          "execution_count": 35
        }
      ]
    },
    {
      "cell_type": "code",
      "metadata": {
        "id": "qtwITjgnwlgp",
        "colab": {
          "base_uri": "https://localhost:8080/"
        },
        "outputId": "2f5b70c7-a264-4493-aae6-ac658ad735bf"
      },
      "source": [
        "# Largo del vector de salida --> vocab_size\n",
        "output_size = vocab_size\n",
        "output_size"
      ],
      "execution_count": 36,
      "outputs": [
        {
          "output_type": "execute_result",
          "data": {
            "text/plain": [
              "1640"
            ]
          },
          "metadata": {},
          "execution_count": 36
        }
      ]
    },
    {
      "cell_type": "code",
      "metadata": {
        "id": "jzTZRXrrwrvi",
        "colab": {
          "base_uri": "https://localhost:8080/"
        },
        "outputId": "e08ec10b-f8f0-41bf-d3f2-b6b07fb57a8c"
      },
      "source": [
        "model = Sequential()\n",
        "\n",
        "# Embedding:\n",
        "# input_seq_len = 3 --> ingreso 3 palabras\n",
        "# input_dim = vocab_size --> 1640 palabras distintas\n",
        "# output_dim = 5 --> crear embeddings de tamaño 3 (tamaño variable y ajustable)\n",
        "model.add(Embedding(input_dim=vocab_size+1, output_dim=5, input_length=input_seq_len))\n",
        "\n",
        "model.add(LSTM(128, return_sequences=True))\n",
        "model.add(Dropout(0.3))\n",
        "model.add(LSTM(128)) # La última capa LSTM no lleva return_sequences\n",
        "model.add(Dense(32, activation='relu'))\n",
        "\n",
        "# Predicción de clasificación con softmax\n",
        "# La salida vuelve al espacio de 1640 palabras posibles\n",
        "model.add(Dense(vocab_size, activation='softmax'))\n",
        "\n",
        "# Clasificación multiple categórica --> loss = categorical_crossentropy\n",
        "model.compile(loss='categorical_crossentropy', optimizer='adam', metrics=['accuracy'])\n",
        "\n",
        "model.summary()"
      ],
      "execution_count": 54,
      "outputs": [
        {
          "output_type": "stream",
          "name": "stdout",
          "text": [
            "Model: \"sequential_4\"\n",
            "_________________________________________________________________\n",
            " Layer (type)                Output Shape              Param #   \n",
            "=================================================================\n",
            " embedding_4 (Embedding)     (None, 3, 5)              8205      \n",
            "                                                                 \n",
            " lstm_8 (LSTM)               (None, 3, 128)            68608     \n",
            "                                                                 \n",
            " dropout_4 (Dropout)         (None, 3, 128)            0         \n",
            "                                                                 \n",
            " lstm_9 (LSTM)               (None, 128)               131584    \n",
            "                                                                 \n",
            " dense_8 (Dense)             (None, 32)                4128      \n",
            "                                                                 \n",
            " dense_9 (Dense)             (None, 1640)              54120     \n",
            "                                                                 \n",
            "=================================================================\n",
            "Total params: 266,645\n",
            "Trainable params: 266,645\n",
            "Non-trainable params: 0\n",
            "_________________________________________________________________\n"
          ]
        }
      ]
    },
    {
      "cell_type": "code",
      "metadata": {
        "id": "oQq1PHDkxDvN",
        "colab": {
          "base_uri": "https://localhost:8080/"
        },
        "outputId": "5dd88099-79ac-4891-ef2f-c8a9b2331c4c"
      },
      "source": [
        "hist = model.fit(x_data, y_data, epochs=100, validation_split=0.15)"
      ],
      "execution_count": 55,
      "outputs": [
        {
          "output_type": "stream",
          "name": "stdout",
          "text": [
            "Epoch 1/100\n",
            "350/350 [==============================] - 6s 10ms/step - loss: 6.2814 - accuracy: 0.0304 - val_loss: 6.6660 - val_accuracy: 0.0441\n",
            "Epoch 2/100\n",
            "350/350 [==============================] - 3s 7ms/step - loss: 5.9050 - accuracy: 0.0318 - val_loss: 6.8189 - val_accuracy: 0.0441\n",
            "Epoch 3/100\n",
            "350/350 [==============================] - 3s 7ms/step - loss: 5.8403 - accuracy: 0.0326 - val_loss: 6.9519 - val_accuracy: 0.0284\n",
            "Epoch 4/100\n",
            "350/350 [==============================] - 3s 7ms/step - loss: 5.7545 - accuracy: 0.0411 - val_loss: 6.9840 - val_accuracy: 0.0344\n",
            "Epoch 5/100\n",
            "350/350 [==============================] - 3s 7ms/step - loss: 5.6531 - accuracy: 0.0487 - val_loss: 7.1809 - val_accuracy: 0.0329\n",
            "Epoch 6/100\n",
            "350/350 [==============================] - 3s 8ms/step - loss: 5.5438 - accuracy: 0.0573 - val_loss: 7.2892 - val_accuracy: 0.0370\n",
            "Epoch 7/100\n",
            "350/350 [==============================] - 3s 8ms/step - loss: 5.4487 - accuracy: 0.0592 - val_loss: 7.2520 - val_accuracy: 0.0319\n",
            "Epoch 8/100\n",
            "350/350 [==============================] - 3s 8ms/step - loss: 5.3650 - accuracy: 0.0630 - val_loss: 7.3793 - val_accuracy: 0.0324\n",
            "Epoch 9/100\n",
            "350/350 [==============================] - 3s 7ms/step - loss: 5.2836 - accuracy: 0.0692 - val_loss: 7.5788 - val_accuracy: 0.0314\n",
            "Epoch 10/100\n",
            "350/350 [==============================] - 3s 7ms/step - loss: 5.1863 - accuracy: 0.0725 - val_loss: 7.6676 - val_accuracy: 0.0294\n",
            "Epoch 11/100\n",
            "350/350 [==============================] - 3s 8ms/step - loss: 5.0887 - accuracy: 0.0801 - val_loss: 7.9494 - val_accuracy: 0.0289\n",
            "Epoch 12/100\n",
            "350/350 [==============================] - 3s 7ms/step - loss: 4.9931 - accuracy: 0.0828 - val_loss: 8.0952 - val_accuracy: 0.0319\n",
            "Epoch 13/100\n",
            "350/350 [==============================] - 3s 8ms/step - loss: 4.9032 - accuracy: 0.0875 - val_loss: 8.3470 - val_accuracy: 0.0385\n",
            "Epoch 14/100\n",
            "350/350 [==============================] - 3s 7ms/step - loss: 4.8112 - accuracy: 0.0920 - val_loss: 8.3962 - val_accuracy: 0.0426\n",
            "Epoch 15/100\n",
            "350/350 [==============================] - 3s 7ms/step - loss: 4.7120 - accuracy: 0.0993 - val_loss: 8.7708 - val_accuracy: 0.0324\n",
            "Epoch 16/100\n",
            "350/350 [==============================] - 3s 7ms/step - loss: 4.6032 - accuracy: 0.1085 - val_loss: 8.9292 - val_accuracy: 0.0314\n",
            "Epoch 17/100\n",
            "350/350 [==============================] - 3s 7ms/step - loss: 4.4904 - accuracy: 0.1160 - val_loss: 9.0597 - val_accuracy: 0.0344\n",
            "Epoch 18/100\n",
            "350/350 [==============================] - 3s 7ms/step - loss: 4.3843 - accuracy: 0.1277 - val_loss: 9.5498 - val_accuracy: 0.0299\n",
            "Epoch 19/100\n",
            "350/350 [==============================] - 3s 8ms/step - loss: 4.2696 - accuracy: 0.1411 - val_loss: 10.0385 - val_accuracy: 0.0304\n",
            "Epoch 20/100\n",
            "350/350 [==============================] - 3s 8ms/step - loss: 4.1717 - accuracy: 0.1509 - val_loss: 10.3811 - val_accuracy: 0.0274\n",
            "Epoch 21/100\n",
            "350/350 [==============================] - 3s 8ms/step - loss: 4.0778 - accuracy: 0.1640 - val_loss: 10.7406 - val_accuracy: 0.0263\n",
            "Epoch 22/100\n",
            "350/350 [==============================] - 3s 7ms/step - loss: 3.9909 - accuracy: 0.1737 - val_loss: 11.5500 - val_accuracy: 0.0284\n",
            "Epoch 23/100\n",
            "350/350 [==============================] - 3s 7ms/step - loss: 3.8972 - accuracy: 0.1848 - val_loss: 12.2914 - val_accuracy: 0.0274\n",
            "Epoch 24/100\n",
            "350/350 [==============================] - 3s 8ms/step - loss: 3.8295 - accuracy: 0.1995 - val_loss: 12.9319 - val_accuracy: 0.0243\n",
            "Epoch 25/100\n",
            "350/350 [==============================] - 3s 7ms/step - loss: 3.7527 - accuracy: 0.2105 - val_loss: 13.1108 - val_accuracy: 0.0238\n",
            "Epoch 26/100\n",
            "350/350 [==============================] - 3s 7ms/step - loss: 3.6886 - accuracy: 0.2154 - val_loss: 13.4032 - val_accuracy: 0.0218\n",
            "Epoch 27/100\n",
            "350/350 [==============================] - 3s 8ms/step - loss: 3.6130 - accuracy: 0.2259 - val_loss: 14.0323 - val_accuracy: 0.0218\n",
            "Epoch 28/100\n",
            "350/350 [==============================] - 3s 7ms/step - loss: 3.5406 - accuracy: 0.2369 - val_loss: 14.4007 - val_accuracy: 0.0203\n",
            "Epoch 29/100\n",
            "350/350 [==============================] - 3s 7ms/step - loss: 3.4683 - accuracy: 0.2463 - val_loss: 15.2472 - val_accuracy: 0.0248\n",
            "Epoch 30/100\n",
            "350/350 [==============================] - 3s 7ms/step - loss: 3.4004 - accuracy: 0.2587 - val_loss: 15.4588 - val_accuracy: 0.0228\n",
            "Epoch 31/100\n",
            "350/350 [==============================] - 4s 11ms/step - loss: 3.3357 - accuracy: 0.2668 - val_loss: 16.1288 - val_accuracy: 0.0208\n",
            "Epoch 32/100\n",
            "350/350 [==============================] - 4s 10ms/step - loss: 3.2695 - accuracy: 0.2787 - val_loss: 16.4756 - val_accuracy: 0.0258\n",
            "Epoch 33/100\n",
            "350/350 [==============================] - 3s 7ms/step - loss: 3.2050 - accuracy: 0.2865 - val_loss: 17.0985 - val_accuracy: 0.0248\n",
            "Epoch 34/100\n",
            "350/350 [==============================] - 3s 8ms/step - loss: 3.1568 - accuracy: 0.3004 - val_loss: 17.2595 - val_accuracy: 0.0238\n",
            "Epoch 35/100\n",
            "350/350 [==============================] - 3s 7ms/step - loss: 3.0983 - accuracy: 0.3038 - val_loss: 17.6434 - val_accuracy: 0.0274\n",
            "Epoch 36/100\n",
            "350/350 [==============================] - 3s 7ms/step - loss: 3.0437 - accuracy: 0.3180 - val_loss: 18.6059 - val_accuracy: 0.0263\n",
            "Epoch 37/100\n",
            "350/350 [==============================] - 3s 7ms/step - loss: 2.9977 - accuracy: 0.3245 - val_loss: 18.5227 - val_accuracy: 0.0268\n",
            "Epoch 38/100\n",
            "350/350 [==============================] - 3s 8ms/step - loss: 2.9496 - accuracy: 0.3345 - val_loss: 19.2730 - val_accuracy: 0.0299\n",
            "Epoch 39/100\n",
            "350/350 [==============================] - 3s 8ms/step - loss: 2.9125 - accuracy: 0.3353 - val_loss: 18.9805 - val_accuracy: 0.0289\n",
            "Epoch 40/100\n",
            "350/350 [==============================] - 3s 7ms/step - loss: 2.8573 - accuracy: 0.3478 - val_loss: 19.5717 - val_accuracy: 0.0223\n",
            "Epoch 41/100\n",
            "350/350 [==============================] - 3s 7ms/step - loss: 2.8195 - accuracy: 0.3534 - val_loss: 20.1961 - val_accuracy: 0.0243\n",
            "Epoch 42/100\n",
            "350/350 [==============================] - 3s 7ms/step - loss: 2.7799 - accuracy: 0.3592 - val_loss: 20.4400 - val_accuracy: 0.0274\n",
            "Epoch 43/100\n",
            "350/350 [==============================] - 3s 8ms/step - loss: 2.7387 - accuracy: 0.3667 - val_loss: 20.7864 - val_accuracy: 0.0243\n",
            "Epoch 44/100\n",
            "350/350 [==============================] - 3s 7ms/step - loss: 2.6976 - accuracy: 0.3779 - val_loss: 21.1364 - val_accuracy: 0.0294\n",
            "Epoch 45/100\n",
            "350/350 [==============================] - 3s 7ms/step - loss: 2.6585 - accuracy: 0.3887 - val_loss: 21.1313 - val_accuracy: 0.0223\n",
            "Epoch 46/100\n",
            "350/350 [==============================] - 3s 8ms/step - loss: 2.6266 - accuracy: 0.3920 - val_loss: 21.7552 - val_accuracy: 0.0248\n",
            "Epoch 47/100\n",
            "350/350 [==============================] - 3s 8ms/step - loss: 2.5957 - accuracy: 0.3906 - val_loss: 21.6803 - val_accuracy: 0.0233\n",
            "Epoch 48/100\n",
            "350/350 [==============================] - 3s 8ms/step - loss: 2.5564 - accuracy: 0.4077 - val_loss: 22.5510 - val_accuracy: 0.0253\n",
            "Epoch 49/100\n",
            "350/350 [==============================] - 3s 7ms/step - loss: 2.5137 - accuracy: 0.4101 - val_loss: 22.4212 - val_accuracy: 0.0274\n",
            "Epoch 50/100\n",
            "350/350 [==============================] - 3s 7ms/step - loss: 2.4942 - accuracy: 0.4177 - val_loss: 23.4317 - val_accuracy: 0.0253\n",
            "Epoch 51/100\n",
            "350/350 [==============================] - 3s 7ms/step - loss: 2.4636 - accuracy: 0.4223 - val_loss: 23.3806 - val_accuracy: 0.0253\n",
            "Epoch 52/100\n",
            "350/350 [==============================] - 3s 8ms/step - loss: 2.4264 - accuracy: 0.4270 - val_loss: 23.4349 - val_accuracy: 0.0274\n",
            "Epoch 53/100\n",
            "350/350 [==============================] - 3s 7ms/step - loss: 2.3902 - accuracy: 0.4390 - val_loss: 23.8174 - val_accuracy: 0.0274\n",
            "Epoch 54/100\n",
            "350/350 [==============================] - 3s 7ms/step - loss: 2.3642 - accuracy: 0.4429 - val_loss: 24.0605 - val_accuracy: 0.0238\n",
            "Epoch 55/100\n",
            "350/350 [==============================] - 3s 8ms/step - loss: 2.3435 - accuracy: 0.4550 - val_loss: 24.3690 - val_accuracy: 0.0248\n",
            "Epoch 56/100\n",
            "350/350 [==============================] - 3s 7ms/step - loss: 2.3157 - accuracy: 0.4527 - val_loss: 24.5479 - val_accuracy: 0.0223\n",
            "Epoch 57/100\n",
            "350/350 [==============================] - 3s 7ms/step - loss: 2.2879 - accuracy: 0.4548 - val_loss: 24.5536 - val_accuracy: 0.0248\n",
            "Epoch 58/100\n",
            "350/350 [==============================] - 3s 7ms/step - loss: 2.2547 - accuracy: 0.4670 - val_loss: 24.9665 - val_accuracy: 0.0309\n",
            "Epoch 59/100\n",
            "350/350 [==============================] - 3s 7ms/step - loss: 2.2271 - accuracy: 0.4726 - val_loss: 25.5172 - val_accuracy: 0.0268\n",
            "Epoch 60/100\n",
            "350/350 [==============================] - 3s 8ms/step - loss: 2.2063 - accuracy: 0.4742 - val_loss: 25.7470 - val_accuracy: 0.0274\n",
            "Epoch 61/100\n",
            "350/350 [==============================] - 3s 7ms/step - loss: 2.1768 - accuracy: 0.4858 - val_loss: 25.8887 - val_accuracy: 0.0299\n",
            "Epoch 62/100\n",
            "350/350 [==============================] - 3s 8ms/step - loss: 2.1497 - accuracy: 0.4876 - val_loss: 25.5945 - val_accuracy: 0.0223\n",
            "Epoch 63/100\n",
            "350/350 [==============================] - 3s 7ms/step - loss: 2.1372 - accuracy: 0.4936 - val_loss: 26.0685 - val_accuracy: 0.0274\n",
            "Epoch 64/100\n",
            "350/350 [==============================] - 3s 8ms/step - loss: 2.1129 - accuracy: 0.4993 - val_loss: 26.0568 - val_accuracy: 0.0263\n",
            "Epoch 65/100\n",
            "350/350 [==============================] - 3s 8ms/step - loss: 2.0968 - accuracy: 0.5013 - val_loss: 26.4332 - val_accuracy: 0.0314\n",
            "Epoch 66/100\n",
            "350/350 [==============================] - 3s 7ms/step - loss: 2.0624 - accuracy: 0.5039 - val_loss: 27.0357 - val_accuracy: 0.0299\n",
            "Epoch 67/100\n",
            "350/350 [==============================] - 3s 7ms/step - loss: 2.0385 - accuracy: 0.5138 - val_loss: 27.4454 - val_accuracy: 0.0268\n",
            "Epoch 68/100\n",
            "350/350 [==============================] - 3s 7ms/step - loss: 2.0251 - accuracy: 0.5119 - val_loss: 27.3293 - val_accuracy: 0.0319\n",
            "Epoch 69/100\n",
            "350/350 [==============================] - 3s 7ms/step - loss: 1.9891 - accuracy: 0.5229 - val_loss: 27.4505 - val_accuracy: 0.0279\n",
            "Epoch 70/100\n",
            "350/350 [==============================] - 3s 7ms/step - loss: 1.9733 - accuracy: 0.5249 - val_loss: 27.9169 - val_accuracy: 0.0309\n",
            "Epoch 71/100\n",
            "350/350 [==============================] - 3s 8ms/step - loss: 1.9617 - accuracy: 0.5262 - val_loss: 27.9631 - val_accuracy: 0.0299\n",
            "Epoch 72/100\n",
            "350/350 [==============================] - 3s 7ms/step - loss: 1.9412 - accuracy: 0.5335 - val_loss: 28.0122 - val_accuracy: 0.0334\n",
            "Epoch 73/100\n",
            "350/350 [==============================] - 3s 7ms/step - loss: 1.9247 - accuracy: 0.5360 - val_loss: 27.9578 - val_accuracy: 0.0355\n",
            "Epoch 74/100\n",
            "350/350 [==============================] - 3s 7ms/step - loss: 1.9074 - accuracy: 0.5409 - val_loss: 28.1875 - val_accuracy: 0.0274\n",
            "Epoch 75/100\n",
            "350/350 [==============================] - 3s 7ms/step - loss: 1.8722 - accuracy: 0.5461 - val_loss: 28.4801 - val_accuracy: 0.0319\n",
            "Epoch 76/100\n",
            "350/350 [==============================] - 3s 7ms/step - loss: 1.8503 - accuracy: 0.5517 - val_loss: 28.5847 - val_accuracy: 0.0299\n",
            "Epoch 77/100\n",
            "350/350 [==============================] - 3s 8ms/step - loss: 1.8519 - accuracy: 0.5538 - val_loss: 29.0707 - val_accuracy: 0.0385\n",
            "Epoch 78/100\n",
            "350/350 [==============================] - 3s 8ms/step - loss: 1.8245 - accuracy: 0.5591 - val_loss: 29.1246 - val_accuracy: 0.0355\n",
            "Epoch 79/100\n",
            "350/350 [==============================] - 3s 7ms/step - loss: 1.8079 - accuracy: 0.5640 - val_loss: 29.7079 - val_accuracy: 0.0329\n",
            "Epoch 80/100\n",
            "350/350 [==============================] - 3s 7ms/step - loss: 1.7840 - accuracy: 0.5675 - val_loss: 29.7902 - val_accuracy: 0.0284\n",
            "Epoch 81/100\n",
            "350/350 [==============================] - 3s 7ms/step - loss: 1.7805 - accuracy: 0.5685 - val_loss: 30.1188 - val_accuracy: 0.0334\n",
            "Epoch 82/100\n",
            "350/350 [==============================] - 3s 8ms/step - loss: 1.7524 - accuracy: 0.5777 - val_loss: 30.1449 - val_accuracy: 0.0355\n",
            "Epoch 83/100\n",
            "350/350 [==============================] - 3s 8ms/step - loss: 1.7459 - accuracy: 0.5768 - val_loss: 30.3665 - val_accuracy: 0.0299\n",
            "Epoch 84/100\n",
            "350/350 [==============================] - 3s 8ms/step - loss: 1.7269 - accuracy: 0.5782 - val_loss: 30.2617 - val_accuracy: 0.0410\n",
            "Epoch 85/100\n",
            "350/350 [==============================] - 3s 8ms/step - loss: 1.6918 - accuracy: 0.5872 - val_loss: 30.4636 - val_accuracy: 0.0365\n",
            "Epoch 86/100\n",
            "350/350 [==============================] - 3s 8ms/step - loss: 1.6909 - accuracy: 0.5881 - val_loss: 30.4713 - val_accuracy: 0.0410\n",
            "Epoch 87/100\n",
            "350/350 [==============================] - 3s 7ms/step - loss: 1.6793 - accuracy: 0.5906 - val_loss: 30.6310 - val_accuracy: 0.0344\n",
            "Epoch 88/100\n",
            "350/350 [==============================] - 3s 8ms/step - loss: 1.6723 - accuracy: 0.5877 - val_loss: 30.8061 - val_accuracy: 0.0380\n",
            "Epoch 89/100\n",
            "350/350 [==============================] - 3s 7ms/step - loss: 1.6504 - accuracy: 0.5936 - val_loss: 31.3588 - val_accuracy: 0.0370\n",
            "Epoch 90/100\n",
            "350/350 [==============================] - 3s 8ms/step - loss: 1.6223 - accuracy: 0.6041 - val_loss: 31.3587 - val_accuracy: 0.0431\n",
            "Epoch 91/100\n",
            "350/350 [==============================] - 3s 8ms/step - loss: 1.6213 - accuracy: 0.6017 - val_loss: 30.8918 - val_accuracy: 0.0370\n",
            "Epoch 92/100\n",
            "350/350 [==============================] - 3s 7ms/step - loss: 1.6001 - accuracy: 0.6033 - val_loss: 31.5572 - val_accuracy: 0.0365\n",
            "Epoch 93/100\n",
            "350/350 [==============================] - 3s 7ms/step - loss: 1.5863 - accuracy: 0.6149 - val_loss: 31.7220 - val_accuracy: 0.0400\n",
            "Epoch 94/100\n",
            "350/350 [==============================] - 3s 8ms/step - loss: 1.5765 - accuracy: 0.6119 - val_loss: 31.9200 - val_accuracy: 0.0385\n",
            "Epoch 95/100\n",
            "350/350 [==============================] - 3s 8ms/step - loss: 1.5527 - accuracy: 0.6175 - val_loss: 31.9549 - val_accuracy: 0.0405\n",
            "Epoch 96/100\n",
            "350/350 [==============================] - 3s 7ms/step - loss: 1.5697 - accuracy: 0.6129 - val_loss: 32.3701 - val_accuracy: 0.0400\n",
            "Epoch 97/100\n",
            "350/350 [==============================] - 3s 7ms/step - loss: 1.5397 - accuracy: 0.6165 - val_loss: 32.2334 - val_accuracy: 0.0395\n",
            "Epoch 98/100\n",
            "350/350 [==============================] - 3s 7ms/step - loss: 1.5253 - accuracy: 0.6231 - val_loss: 32.2473 - val_accuracy: 0.0431\n",
            "Epoch 99/100\n",
            "350/350 [==============================] - 3s 7ms/step - loss: 1.5034 - accuracy: 0.6289 - val_loss: 32.8531 - val_accuracy: 0.0466\n",
            "Epoch 100/100\n",
            "350/350 [==============================] - 3s 8ms/step - loss: 1.5076 - accuracy: 0.6217 - val_loss: 33.0603 - val_accuracy: 0.0431\n"
          ]
        }
      ]
    },
    {
      "cell_type": "code",
      "metadata": {
        "id": "q_orBXOrCsNn",
        "colab": {
          "base_uri": "https://localhost:8080/",
          "height": 265
        },
        "outputId": "93cbdb8b-d3c9-4e98-930c-a41f3680e86f"
      },
      "source": [
        "import matplotlib.pyplot as plt\n",
        "import seaborn as sns\n",
        "\n",
        "# Entrenamiento\n",
        "epoch_count = range(1, len(hist.history['accuracy']) + 1)\n",
        "sns.lineplot(x=epoch_count,  y=hist.history['accuracy'], label='train')\n",
        "sns.lineplot(x=epoch_count,  y=hist.history['val_accuracy'], label='valid')\n",
        "plt.show()"
      ],
      "execution_count": 56,
      "outputs": [
        {
          "output_type": "display_data",
          "data": {
            "text/plain": [
              "<Figure size 432x288 with 1 Axes>"
            ],
            "image/png": "[encoded data removed]"
          },
          "metadata": {
            "needs_background": "light"
          }
        }
      ]
    },
    {
      "cell_type": "markdown",
      "metadata": {
        "id": "KN6Fg_BsxJe6"
      },
      "source": [
        "### 5 - Predicción de próxima palabra"
      ]
    },
    {
      "cell_type": "code",
      "metadata": {
        "id": "iy_AXWQWzeeE"
      },
      "source": [
        "# Keras pad_sequences\n",
        "# https://www.tensorflow.org/api_docs/python/tf/keras/preprocessing/sequence/pad_sequences\n",
        "# Si la secuencia de entrada supera al input_seq_len (3) se trunca\n",
        "# Si la secuencia es más corta se agregna ceros al comienzo"
      ],
      "execution_count": null,
      "outputs": []
    },
    {
      "cell_type": "code",
      "metadata": {
        "id": "IBvKHFPmzpy2",
        "colab": {
          "base_uri": "https://localhost:8080/"
        },
        "outputId": "518497fa-1adc-4ba8-bd2f-75d6d9677369"
      },
      "source": [
        "# Se utilizará gradio para ensayar el modelo\n",
        "# Herramienta poderosa para crear interfaces rápidas para ensayar modelos\n",
        "# https://gradio.app/\n",
        "import sys\n",
        "!{sys.executable} -m pip install gradio --quiet"
      ],
      "execution_count": 40,
      "outputs": [
        {
          "output_type": "stream",
          "name": "stdout",
          "text": [
            "\u001b[K     |████████████████████████████████| 668 kB 28.2 MB/s \n",
            "\u001b[K     |████████████████████████████████| 53 kB 2.2 MB/s \n",
            "\u001b[K     |████████████████████████████████| 2.0 MB 53.5 MB/s \n",
            "\u001b[K     |████████████████████████████████| 1.1 MB 64.4 MB/s \n",
            "\u001b[K     |████████████████████████████████| 54 kB 3.3 MB/s \n",
            "\u001b[K     |████████████████████████████████| 255 kB 73.3 MB/s \n",
            "\u001b[K     |████████████████████████████████| 84 kB 3.5 MB/s \n",
            "\u001b[K     |████████████████████████████████| 211 kB 79.1 MB/s \n",
            "\u001b[K     |████████████████████████████████| 271 kB 59.0 MB/s \n",
            "\u001b[K     |████████████████████████████████| 144 kB 73.8 MB/s \n",
            "\u001b[K     |████████████████████████████████| 94 kB 3.6 MB/s \n",
            "\u001b[K     |████████████████████████████████| 10.9 MB 55.2 MB/s \n",
            "\u001b[K     |████████████████████████████████| 58 kB 7.0 MB/s \n",
            "\u001b[K     |████████████████████████████████| 79 kB 9.8 MB/s \n",
            "\u001b[K     |████████████████████████████████| 43 kB 2.7 MB/s \n",
            "\u001b[K     |████████████████████████████████| 3.6 MB 70.5 MB/s \n",
            "\u001b[K     |████████████████████████████████| 856 kB 70.2 MB/s \n",
            "\u001b[K     |████████████████████████████████| 61 kB 584 kB/s \n",
            "\u001b[K     |████████████████████████████████| 58 kB 7.4 MB/s \n",
            "\u001b[?25h  Building wheel for ffmpy (setup.py) ... \u001b[?25l\u001b[?25hdone\n",
            "  Building wheel for python-multipart (setup.py) ... \u001b[?25l\u001b[?25hdone\n"
          ]
        }
      ]
    },
    {
      "cell_type": "code",
      "metadata": {
        "id": "HNyBykvhzs7-",
        "colab": {
          "base_uri": "https://localhost:8080/",
          "height": 660
        },
        "outputId": "8efd2820-b2a2-4b81-8b21-2a9504a7d55a"
      },
      "source": [
        "import gradio as gr\n",
        "\n",
        "def model_response(human_text):\n",
        "\n",
        "    # Encodeamos\n",
        "    encoded = tok.texts_to_sequences([human_text])[0]\n",
        "    # Si tienen distinto largo\n",
        "    encoded = pad_sequences([encoded], maxlen=3, padding='pre')\n",
        "    \n",
        "    # Predicción softmax\n",
        "    y_hat = model.predict(encoded).argmax(axis=-1)\n",
        "\n",
        "    # Debemos buscar en el vocabulario la palabra\n",
        "    # que corresopnde al indice (y_hat) predicho por le modelo\n",
        "    out_word = ''\n",
        "    for word, index in tok.word_index.items():\n",
        "        if index == y_hat:\n",
        "            out_word = word\n",
        "            break\n",
        "\n",
        "    # Agrego la palabra a la frase predicha\n",
        "    return human_text + ' ' + out_word\n",
        "\n",
        "iface = gr.Interface(\n",
        "    fn=model_response,\n",
        "    inputs=[\"textbox\"],\n",
        "    outputs=\"text\",\n",
        "    layout=\"vertical\")\n",
        "\n",
        "iface.launch(debug=True)"
      ],
      "execution_count": 57,
      "outputs": [
        {
          "output_type": "stream",
          "name": "stdout",
          "text": [
            "Colab notebook detected. This cell will run indefinitely so that you can see errors and logs. To turn off, set debug=False in launch().\n",
            "Running on public URL: https://22875.gradio.app\n",
            "\n",
            "This share link expires in 72 hours. For free permanent hosting, check out Spaces (https://huggingface.co/spaces)\n"
          ]
        },
        {
          "output_type": "display_data",
          "data": {
            "text/plain": [
              "<IPython.lib.display.IFrame at 0x7eff11054250>"
            ],
            "text/html": [
              "\n",
              "        <iframe\n",
              "            width=\"900\"\n",
              "            height=\"500\"\n",
              "            src=\"https://22875.gradio.app\"\n",
              "            frameborder=\"0\"\n",
              "            allowfullscreen\n",
              "        ></iframe>\n",
              "        "
            ]
          },
          "metadata": {}
        },
        {
          "output_type": "stream",
          "name": "stdout",
          "text": [
            "Keyboard interruption in main thread... closing server.\n"
          ]
        },
        {
          "output_type": "execute_result",
          "data": {
            "text/plain": [
              "(<fastapi.applications.FastAPI at 0x7eff44559fd0>,\n",
              " 'http://127.0.0.1:7860/',\n",
              " 'https://22875.gradio.app')"
            ]
          },
          "metadata": {},
          "execution_count": 57
        }
      ]
    },
    {
      "cell_type": "markdown",
      "metadata": {
        "id": "mCeMWWupxN1-"
      },
      "source": [
        "### 6 - Generación de secuencias nuevas"
      ]
    },
    {
      "cell_type": "code",
      "metadata": {
        "id": "bwbS_pfhxvB3"
      },
      "source": [
        "def generate_seq(model, tokenizer, seed_text, max_length, n_words):\n",
        "    \"\"\"\n",
        "        Exec model sequence prediction\n",
        "\n",
        "        Args:\n",
        "            model (keras): modelo entrenado\n",
        "            tokenizer (keras tokenizer): tonenizer utilizado en el preprocesamiento\n",
        "            seed_text (string): texto de entrada (input_seq)\n",
        "            max_length (int): máxima longitud de la sequencia de entrada\n",
        "            n_words (int): números de palabras a agregar a la sequencia de entrada\n",
        "        returns:\n",
        "            output_text (string): sentencia con las \"n_words\" agregadas\n",
        "    \"\"\"\n",
        "    output_text = seed_text\n",
        "\t# generate a fixed number of words\n",
        "    for _ in range(n_words):\n",
        "\t\t# Encodeamos\n",
        "        encoded = tokenizer.texts_to_sequences([output_text])[0]\n",
        "\t\t# Si tienen distinto largo\n",
        "        encoded = pad_sequences([encoded], maxlen=max_length, padding='pre')\n",
        "\t\t\n",
        "\t\t# Predicción softmax\n",
        "        y_hat = model.predict(encoded).argmax(axis=-1)\n",
        "\t\t# Vamos concatenando las predicciones\n",
        "        out_word = ''\n",
        "\n",
        "        # Debemos buscar en el vocabulario la palabra\n",
        "        # que corresopnde al indice (y_hat) predicho por le modelo\n",
        "        for word, index in tokenizer.word_index.items():\n",
        "            if index == y_hat:\n",
        "                out_word = word\n",
        "                break\n",
        "\n",
        "\t\t# Agrego las palabras a la frase predicha\n",
        "        output_text += ' ' + out_word\n",
        "    return output_text"
      ],
      "execution_count": 58,
      "outputs": []
    },
    {
      "cell_type": "code",
      "metadata": {
        "id": "JoFqRC5pxzqS",
        "colab": {
          "base_uri": "https://localhost:8080/",
          "height": 35
        },
        "outputId": "bac06b46-d80a-4cb9-db4f-4d59f8a3a63b"
      },
      "source": [
        "input_text='can you save my'\n",
        "\n",
        "generate_seq(model, tok, input_text, max_length=3, n_words=5)"
      ],
      "execution_count": 63,
      "outputs": [
        {
          "output_type": "execute_result",
          "data": {
            "text/plain": [
              "'can you save my these when try verse asked'"
            ],
            "application/vnd.google.colaboratory.intrinsic+json": {
              "type": "string"
            }
          },
          "metadata": {},
          "execution_count": 63
        }
      ]
    },
    {
      "cell_type": "markdown",
      "metadata": {
        "id": "T2SHmXbgxQH9"
      },
      "source": [
        "### 7 - Conclusiones\n",
        "El modelo entrenado tiene un mal desempeño con baja accuracy y overfitting. Para mejorarlo, se han intentado y se puede mejorar:\n",
        "\n",
        "- Agregar más neuronas -> no fue significativamente mejor.\n",
        "- Agregar más capas\n",
        "- Incrementar la cantidad de épocas -> no fue significativamente mejor.\n",
        "- Agregar BRNN\n",
        "\n"
      ]
    }
  ]
}