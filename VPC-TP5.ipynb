{
 "cells": [
  {
   "cell_type": "code",
   "execution_count": 1,
   "id": "15a29632",
   "metadata": {},
   "outputs": [],
   "source": [
    "import numpy as np\n",
    "import cv2\n",
    "import matplotlib.pyplot as plt"
   ]
  },
  {
   "cell_type": "code",
   "execution_count": 2,
   "id": "8373e3c1",
   "metadata": {},
   "outputs": [],
   "source": [
    "# funcion de selección de ROI del objeto a seguir.\n",
    "def selectROI(event, x, y, flags, param):\n",
    "    global frame, roiPts, inputMode\n",
    "    # si estamos en modo de selección de ROI, si clickeo el mouse y aun no tenemos 2 puntos definidos,\n",
    "    # entonces actualizamos la lista de puntos de posiciones x,y donde se clikeo el mouse y dibujamos un circulo.\n",
    "    if inputMode and event == cv2.EVENT_LBUTTONDOWN and len(roiPts) < 2:\n",
    "        roiPts.append((x,y))\n",
    "        cv2.circle(frame, (x,y), 4, (0,0,255), 2)\n",
    "        cv2.imshow(\"frame\", frame)"
   ]
  },
  {
   "cell_type": "code",
   "execution_count": 3,
   "id": "36d9a3e3",
   "metadata": {},
   "outputs": [],
   "source": [
    "frame = None\n",
    "roiPts = []\n",
    "inputMode = False"
   ]
  },
  {
   "cell_type": "code",
   "execution_count": 4,
   "id": "dbdaeca1",
   "metadata": {},
   "outputs": [],
   "source": [
    "global frame, roiPts, inputMode\n",
    "cap = cv2.VideoCapture(0)\n",
    "cv2.namedWindow(\"frame\")\n",
    "cv2.setMouseCallback(\"frame\", selectROI)\n",
    "track_window = None\n",
    "term_crit = (cv2.TERM_CRITERIA_EPS | cv2.TERM_CRITERIA_COUNT, 10, 10)\n",
    "while True:\n",
    "    # obtenemos lectura de la camara web\n",
    "    ret, frame = cap.read()\n",
    "\n",
    "    # chequeamos que haya lectura\n",
    "    if ret==True:\n",
    "        # si ya tenemos un ROI seleccionado:\n",
    "        if track_window is not None:\n",
    "            # pasamos a HSV y hacemos CamShift\n",
    "            hsv = cv2.cvtColor(frame, cv2.COLOR_BGR2HSV)\n",
    "            dst = cv2.calcBackProject([hsv], [0], roi_hist, [0, 180], 1)\n",
    "            \n",
    "            ret, track_window = cv2.CamShift(dst, track_window, term_crit)\n",
    "            pts = np.int0(cv2.boxPoints(ret))\n",
    "            cv2.polylines(frame, [pts], True, (0, 255, 0), 2)\n",
    "\n",
    "        cv2.imshow(\"frame\", frame)\n",
    "        key = cv2.waitKey(1) & 0xFF\n",
    "        # Si apreto g y no tengo 2 roipts, genero los roipts.\n",
    "        if key == ord(\"g\") and len(roiPts) < 2:\n",
    "            inputMode = True\n",
    "            frame2 = frame.copy()\n",
    "            while len(roiPts) < 2:\n",
    "                cv2.imshow(\"frame\", frame)\n",
    "                cv2.waitKey(0)\n",
    "\n",
    "            roiPts = np.array(roiPts)\n",
    "            s = roiPts.sum(axis = 1)\n",
    "            a = roiPts[np.argmin(s)]\n",
    "            b = roiPts[np.argmax(s)]\n",
    "            roi = frame2[a[1]:b[1], a[0]:b[0]]\n",
    "            roi = cv2.cvtColor(roi, cv2.COLOR_BGR2HSV)\n",
    "\n",
    "            # histograma HSV y definimos ROI\n",
    "            hsv_roi =  cv2.cvtColor(roi, cv2.COLOR_BGR2HSV)\n",
    "            # mascara para el histograma vista en clase\n",
    "            mask = cv2.inRange(hsv_roi, np.array((0., 60.,32.)), np.array((180.,255.,255.)))\n",
    "            #histograma sobre esa mascara\n",
    "            roi_hist = cv2.calcHist([roi], [0], mask, [180], [0, 180])\n",
    "            roi_hist = cv2.normalize(roi_hist, roi_hist, 0, 255, cv2.NORM_MINMAX)\n",
    "            track_window = (a[0], a[1], b[0], b[1])\n",
    "    # si apretamos Escape terminamos\n",
    "        elif key==27:\n",
    "            break\n",
    "            \n",
    "#reseteo Roipts para volver a empezar y libero la cámara.\n",
    "roiPts=[]\n",
    "cap.release()\n",
    "cv2.destroyAllWindows()"
   ]
  },
  {
   "cell_type": "code",
   "execution_count": null,
   "id": "f660e412",
   "metadata": {},
   "outputs": [],
   "source": []
  }
 ],
 "metadata": {
  "kernelspec": {
   "display_name": "Python 3",
   "language": "python",
   "name": "python3"
  },
  "language_info": {
   "codemirror_mode": {
    "name": "ipython",
    "version": 3
   },
   "file_extension": ".py",
   "mimetype": "text/x-python",
   "name": "python",
   "nbconvert_exporter": "python",
   "pygments_lexer": "ipython3",
   "version": "3.8.8"
  }
 },
 "nbformat": 4,
 "nbformat_minor": 5
}
