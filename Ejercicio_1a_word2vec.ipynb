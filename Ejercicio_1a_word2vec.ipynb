{
  "nbformat": 4,
  "nbformat_minor": 0,
  "metadata": {
    "colab": {
      "name": "Ejercicio 1a - word2vec.ipynb",
      "provenance": [],
      "collapsed_sections": []
    },
    "kernelspec": {
      "name": "python3",
      "display_name": "Python 3"
    },
    "language_info": {
      "name": "python"
    }
  },
  "cells": [
    {
      "cell_type": "markdown",
      "metadata": {
        "id": "Ue5hxxkdAQJg"
      },
      "source": [
        "<img src=\"https://github.com/FIUBA-Posgrado-Inteligencia-Artificial/procesamiento_lenguaje_natural/raw/main/logoFIUBA.jpg\" width=\"500\" align=\"center\">\n",
        "\n",
        "\n",
        "# Procesamiento de lenguaje natural\n",
        "## Word2vect\n"
      ]
    },
    {
      "cell_type": "code",
      "metadata": {
        "id": "kCED1hh-Ioyf"
      },
      "source": [
        "import numpy as np"
      ],
      "execution_count": 2,
      "outputs": []
    },
    {
      "cell_type": "code",
      "metadata": {
        "id": "PUbfVnzIIoMj"
      },
      "source": [
        "def cosine_similarity(a, b):\n",
        "    return np.dot(a, b) / (np.linalg.norm(a) * (np.linalg.norm(b)))"
      ],
      "execution_count": 3,
      "outputs": []
    },
    {
      "cell_type": "markdown",
      "metadata": {
        "id": "DMOa4JPSCJ29"
      },
      "source": [
        "### Datos"
      ]
    },
    {
      "cell_type": "code",
      "metadata": {
        "id": "RIO7b8GjAC17"
      },
      "source": [
        "corpus = np.array(['que dia es hoy', 'martes el dia de hoy es martes', 'martes muchas gracias'])"
      ],
      "execution_count": 4,
      "outputs": []
    },
    {
      "cell_type": "markdown",
      "metadata": {
        "id": "8WqdaTmO8P1r"
      },
      "source": [
        "Documento 1 --> que dia es hoy \\\n",
        "Documento 2 --> martes el dia de hoy es martes \\\n",
        "Documento 3 --> martes muchas gracias"
      ]
    },
    {
      "cell_type": "markdown",
      "metadata": {
        "id": "FVHxBRNzCMOS"
      },
      "source": [
        "### 1 - Obtener el vocabulario del corpus (los términos utilizados)\n",
        "- Cada documento transformarlo en una lista de términos\n",
        "- Armar un vector de términos no repetidos de todos los documentos"
      ]
    },
    {
      "cell_type": "code",
      "metadata": {
        "id": "3ZqTOZzDI7uv",
        "colab": {
          "base_uri": "https://localhost:8080/"
        },
        "outputId": "630c69ed-3ce6-46ff-e57f-1de1d44c8100"
      },
      "source": [
        "terms = np.char.split(corpus, sep=' ')\n",
        "terms"
      ],
      "execution_count": 27,
      "outputs": [
        {
          "output_type": "execute_result",
          "data": {
            "text/plain": [
              "array([list(['que', 'dia', 'es', 'hoy']),\n",
              "       list(['martes', 'el', 'dia', 'de', 'hoy', 'es', 'martes']),\n",
              "       list(['martes', 'muchas', 'gracias'])], dtype=object)"
            ]
          },
          "metadata": {},
          "execution_count": 27
        }
      ]
    },
    {
      "cell_type": "code",
      "source": [
        "vocabulary=[]\n",
        "for lista in terms:\n",
        "    for word in lista:\n",
        "        vocabulary.append(word)"
      ],
      "metadata": {
        "id": "o-NXcy50O00v"
      },
      "execution_count": 28,
      "outputs": []
    },
    {
      "cell_type": "code",
      "source": [
        "vocabulary=np.unique(vocabulary)\n",
        "vocabulary"
      ],
      "metadata": {
        "colab": {
          "base_uri": "https://localhost:8080/"
        },
        "id": "BQjiz3KOPGb5",
        "outputId": "58c82a2e-5164-43ff-a86d-358a2baaad21"
      },
      "execution_count": 29,
      "outputs": [
        {
          "output_type": "execute_result",
          "data": {
            "text/plain": [
              "array(['de', 'dia', 'el', 'es', 'gracias', 'hoy', 'martes', 'muchas',\n",
              "       'que'], dtype='<U7')"
            ]
          },
          "metadata": {},
          "execution_count": 29
        }
      ]
    },
    {
      "cell_type": "markdown",
      "metadata": {
        "id": "RUhH983FI7It"
      },
      "source": [
        "### 2- OneHot encoding\n",
        "Data una lista de textos, devolver una matriz con la representación oneHotEncoding de estos"
      ]
    },
    {
      "cell_type": "code",
      "source": [
        "corpus_encoded = []\n",
        "for document in terms:\n",
        "    aux = np.zeros((len(vocabulary)))\n",
        "    for i in range(len(document)):\n",
        "        aux[np.where(vocabulary == document[i])]=1\n",
        "    corpus_encoded.append(aux)"
      ],
      "metadata": {
        "id": "dFi8a41FTFn8"
      },
      "execution_count": 48,
      "outputs": []
    },
    {
      "cell_type": "code",
      "source": [
        "corpus_encoded"
      ],
      "metadata": {
        "colab": {
          "base_uri": "https://localhost:8080/"
        },
        "id": "4zamHg4QUiDE",
        "outputId": "6c6aaad0-706d-4c49-b897-c31829ea8af2"
      },
      "execution_count": 49,
      "outputs": [
        {
          "output_type": "execute_result",
          "data": {
            "text/plain": [
              "[array([0., 1., 0., 1., 0., 1., 0., 0., 1.]),\n",
              " array([1., 1., 1., 1., 0., 1., 1., 0., 0.]),\n",
              " array([0., 0., 0., 0., 1., 0., 1., 1., 0.])]"
            ]
          },
          "metadata": {},
          "execution_count": 49
        }
      ]
    },
    {
      "cell_type": "markdown",
      "metadata": {
        "id": "IIyWGmCpJVQL"
      },
      "source": [
        "### 3- Vectores de frecuencia\n",
        "Data una lista de textos, devolver una matriz con la representación de frecuencia de estos"
      ]
    },
    {
      "cell_type": "code",
      "metadata": {
        "id": "yqij_7eHJbUi",
        "colab": {
          "base_uri": "https://localhost:8080/"
        },
        "outputId": "89016c1e-9c4f-43fa-f3e7-76a69b1dea9c"
      },
      "source": [
        "TF=[]\n",
        "for document in terms:\n",
        "    aux = np.zeros((len(vocabulary))) \n",
        "    for i in range(len(document)):\n",
        "        aux[np.where(vocabulary == document[i])]+=1\n",
        "    TF.append(aux)\n",
        "\n",
        "TF"
      ],
      "execution_count": 47,
      "outputs": [
        {
          "output_type": "execute_result",
          "data": {
            "text/plain": [
              "[array([0., 1., 0., 1., 0., 1., 0., 0., 1.]),\n",
              " array([1., 1., 1., 1., 0., 1., 2., 0., 0.]),\n",
              " array([0., 0., 0., 0., 1., 0., 1., 1., 0.])]"
            ]
          },
          "metadata": {},
          "execution_count": 47
        }
      ]
    },
    {
      "cell_type": "markdown",
      "metadata": {
        "id": "z_Ot8HvWJcBu"
      },
      "source": [
        "### 4- TF-IDF\n",
        "Data una lista de textos, devolver una matriz con la representacion TFIDF"
      ]
    },
    {
      "cell_type": "code",
      "metadata": {
        "id": "waG_oWtpJjRw"
      },
      "source": [
        "TF_IDF = TF.copy()"
      ],
      "execution_count": 50,
      "outputs": []
    },
    {
      "cell_type": "code",
      "source": [
        "IDF = np.zeros(len(vocabulary))\n",
        "for i in range(len(vocabulary)):\n",
        "    for document in TF:\n",
        "        if document[i]>=1:\n",
        "            IDF[i]+=1\n",
        "\n",
        "print(IDF)\n",
        "IDF=np.log10(len(corpus)/IDF) \n",
        "print(IDF)         "
      ],
      "metadata": {
        "colab": {
          "base_uri": "https://localhost:8080/"
        },
        "id": "ebJhVVlaWHs1",
        "outputId": "428f1dfa-f3cf-4297-e26a-7542260d7739"
      },
      "execution_count": 51,
      "outputs": [
        {
          "output_type": "stream",
          "name": "stdout",
          "text": [
            "[1. 2. 1. 2. 1. 2. 2. 1. 1.]\n",
            "[0.47712125 0.17609126 0.47712125 0.17609126 0.47712125 0.17609126\n",
            " 0.17609126 0.47712125 0.47712125]\n"
          ]
        }
      ]
    },
    {
      "cell_type": "code",
      "source": [
        "TF_IDF = TF * IDF\n",
        "TF_IDF"
      ],
      "metadata": {
        "colab": {
          "base_uri": "https://localhost:8080/"
        },
        "id": "7sElrtDnXcsU",
        "outputId": "3bef8c55-7cb6-4cf0-f986-597d6ec52bb0"
      },
      "execution_count": 52,
      "outputs": [
        {
          "output_type": "execute_result",
          "data": {
            "text/plain": [
              "array([[0.        , 0.17609126, 0.        , 0.17609126, 0.        ,\n",
              "        0.17609126, 0.        , 0.        , 0.47712125],\n",
              "       [0.47712125, 0.17609126, 0.47712125, 0.17609126, 0.        ,\n",
              "        0.17609126, 0.35218252, 0.        , 0.        ],\n",
              "       [0.        , 0.        , 0.        , 0.        , 0.47712125,\n",
              "        0.        , 0.17609126, 0.47712125, 0.        ]])"
            ]
          },
          "metadata": {},
          "execution_count": 52
        }
      ]
    },
    {
      "cell_type": "markdown",
      "metadata": {
        "id": "xMcsfndWJjm_"
      },
      "source": [
        "### 5 - Comparación de documentos\n",
        "Realizar una funcion que reciba el corpus y el índice de un documento y devuelva los documentos ordenados por la similitud coseno"
      ]
    },
    {
      "cell_type": "code",
      "source": [
        "def simil_coseno(corpus_encoded, index):\n",
        "    cosenos = []\n",
        "\n",
        "    for document in corpus_encoded: \n",
        "        cosenos.append(cosine_similarity(corpus_encoded[index], document))\n",
        "\n",
        "    cosenos=np.array(cosenos)\n",
        "    cosenos_ordenados=-np.sort(-cosenos)\n",
        "    indexes_ordenados = np.argsort(-cosenos)\n",
        "\n",
        "    for i in range(len(cosenos_ordenados)-1):\n",
        "        print(\"Documento \"+str(indexes_ordenados[i+1])+\": Valor de similitud \"+str(cosenos_ordenados[i+1]))\n",
        "\n",
        "    return cosenos_ordenados, indexes_ordenados"
      ],
      "metadata": {
        "id": "nojCGiz3Xb6Q"
      },
      "execution_count": 109,
      "outputs": []
    },
    {
      "cell_type": "code",
      "metadata": {
        "id": "CZdiop6IJpZN",
        "colab": {
          "base_uri": "https://localhost:8080/"
        },
        "outputId": "b1efbf58-97c4-4eaf-b090-7afc3e09378f"
      },
      "source": [
        "simil_coseno(corpus_encoded, 1)"
      ],
      "execution_count": 110,
      "outputs": [
        {
          "output_type": "stream",
          "name": "stdout",
          "text": [
            "Documento 0: Valor de similitud 0.6123724356957946\n",
            "Documento 2: Valor de similitud 0.23570226039551587\n"
          ]
        },
        {
          "output_type": "execute_result",
          "data": {
            "text/plain": [
              "(array([1.        , 0.61237244, 0.23570226]), array([1, 0, 2]))"
            ]
          },
          "metadata": {},
          "execution_count": 110
        }
      ]
    },
    {
      "cell_type": "code",
      "source": [
        ""
      ],
      "metadata": {
        "id": "AYxckNe2rtUV"
      },
      "execution_count": null,
      "outputs": []
    }
  ]
}