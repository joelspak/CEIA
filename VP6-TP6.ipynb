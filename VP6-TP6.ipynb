{
 "cells": [
  {
   "cell_type": "code",
   "execution_count": 1,
   "id": "96eba3d2",
   "metadata": {},
   "outputs": [],
   "source": [
    "import numpy as np\n",
    "import cv2\n",
    "import matplotlib.pyplot as plt"
   ]
  },
  {
   "cell_type": "code",
   "execution_count": 2,
   "id": "66cd4cd4",
   "metadata": {},
   "outputs": [],
   "source": [
    "cv2_path = r'C:\\Users\\user\\AppData\\Local\\Programs\\Python\\Python37\\Lib\\site-packages\\cv2\\data\\\\'\n",
    "face = r'haarcascade_frontalface_default.xml'\n",
    "eyes = r'haarcascade_eye.xml'\n",
    "smile = r'haarcascade_smile.xml'"
   ]
  },
  {
   "cell_type": "code",
   "execution_count": 3,
   "id": "e33d6240",
   "metadata": {},
   "outputs": [],
   "source": [
    "face_cascade = cv2.CascadeClassifier(cv2_path + face)\n",
    "eye_cascade = cv2.CascadeClassifier(cv2_path + eyes)\n",
    "smile_cascade = cv2.CascadeClassifier(cv2_path + smile)"
   ]
  },
  {
   "cell_type": "code",
   "execution_count": 17,
   "id": "f8bf0a68",
   "metadata": {},
   "outputs": [],
   "source": [
    "cap = cv2.VideoCapture(0)\n",
    "while True:\n",
    "    ### Obtengo el frame de la cámara\n",
    "    ret, frame = cap.read()\n",
    "    ### Obtengo la imagen en escala de grises\n",
    "    grayImage = cv2.cvtColor(frame, cv2.COLOR_BGR2GRAY)\n",
    "    ### detecto cara\n",
    "    faces = face_cascade.detectMultiScale(grayImage, 1.1, 1)\n",
    "\n",
    "    # dibujo un rectángulo en la cara, y luego dentro de la cara, los ojos y la sonrisa.\n",
    "    for (x, y, w, h) in faces:\n",
    "        cv2.rectangle(frame, (x, y), (x+w, y+h), (255, 0, 0), 2)\n",
    "        # Definimos las ROIs en la imagen gris y color\n",
    "        roi_gray = grayImage[y:y+h, x:x+w] \n",
    "        roi_color = frame[y:y+h, x:x+w] \n",
    "        # Para cada rostro hallado le buscamos los ojos y la sonrisa\n",
    "        # agrego un scalefactor y un minNeighbors para cada caso puesto que la detección tenía errores (por ejemplo, se detectaban ojos en la sonrisa y sonrisas en los ojos)\n",
    "        eyes = eye_cascade.detectMultiScale(roi_gray, 1.2, 4)\n",
    "        smile = smile_cascade.detectMultiScale(roi_gray, 1.3, 10)\n",
    "        # En los ojos y en la sonrisa hallados les dibujamos rectángulos de distintos colores.\n",
    "        for (ex,ey,ew,eh) in eyes:\n",
    "            cv2.rectangle(roi_color,(ex,ey),(ex+ew,ey+eh),(0,255,0),2)\n",
    "        for (sx,sy,sw,sh) in smile:   \n",
    "            cv2.rectangle(roi_color,(sx,sy),(sx+sw,sy+sh),(0,0,255),2)\n",
    "        \n",
    "    cv2.imshow('frame', frame)\n",
    "### al apretar escape salgo\n",
    "    if cv2.waitKey(1) & 0xFF == 27:\n",
    "        break\n",
    "\n",
    "        ### libero cámara\n",
    "cap.release()\n",
    "cv2.destroyAllWindows()"
   ]
  },
  {
   "cell_type": "code",
   "execution_count": null,
   "id": "1ea2cd31",
   "metadata": {},
   "outputs": [],
   "source": []
  }
 ],
 "metadata": {
  "kernelspec": {
   "display_name": "Python 3",
   "language": "python",
   "name": "python3"
  },
  "language_info": {
   "codemirror_mode": {
    "name": "ipython",
    "version": 3
   },
   "file_extension": ".py",
   "mimetype": "text/x-python",
   "name": "python",
   "nbconvert_exporter": "python",
   "pygments_lexer": "ipython3",
   "version": "3.8.8"
  }
 },
 "nbformat": 4,
 "nbformat_minor": 5
}
